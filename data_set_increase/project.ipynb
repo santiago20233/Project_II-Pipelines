{
 "cells": [
  {
   "cell_type": "code",
   "execution_count": 9,
   "metadata": {},
   "outputs": [],
   "source": [
    "import pandas as pd\n",
    "from site_scrapper import process_championships\n",
    "from api_extractor import consult_api\n",
    "from cleaner import clean_directory\n",
    "from meger4_api_scrapper import merge_content"
   ]
  },
  {
   "cell_type": "code",
   "execution_count": 10,
   "metadata": {},
   "outputs": [],
   "source": [
    "api_results= consult_api()"
   ]
  },
  {
   "cell_type": "code",
   "execution_count": 11,
   "metadata": {},
   "outputs": [],
   "source": [
    "data_championships = process_championships()"
   ]
  },
  {
   "cell_type": "code",
   "execution_count": 12,
   "metadata": {},
   "outputs": [
    {
     "name": "stdout",
     "output_type": "stream",
     "text": [
      "CLEANED\n"
     ]
    }
   ],
   "source": [
    "clean_directory()"
   ]
  },
  {
   "cell_type": "code",
   "execution_count": 13,
   "metadata": {},
   "outputs": [],
   "source": [
    "merged_data = merge_content(api_results, data_championships)"
   ]
  },
  {
   "cell_type": "code",
   "execution_count": 14,
   "metadata": {},
   "outputs": [
    {
     "name": "stderr",
     "output_type": "stream",
     "text": [
      "/var/folders/5f/r6lq2bw523s4rxbs9v5wc8f00000gn/T/ipykernel_55612/12997947.py:4: FutureWarning: The frame.append method is deprecated and will be removed from pandas in a future version. Use pandas.concat instead.\n",
      "  z = z.append(x, ignore_index=True)\n",
      "/var/folders/5f/r6lq2bw523s4rxbs9v5wc8f00000gn/T/ipykernel_55612/12997947.py:4: FutureWarning: The frame.append method is deprecated and will be removed from pandas in a future version. Use pandas.concat instead.\n",
      "  z = z.append(x, ignore_index=True)\n",
      "/var/folders/5f/r6lq2bw523s4rxbs9v5wc8f00000gn/T/ipykernel_55612/12997947.py:4: FutureWarning: The frame.append method is deprecated and will be removed from pandas in a future version. Use pandas.concat instead.\n",
      "  z = z.append(x, ignore_index=True)\n",
      "/var/folders/5f/r6lq2bw523s4rxbs9v5wc8f00000gn/T/ipykernel_55612/12997947.py:4: FutureWarning: The frame.append method is deprecated and will be removed from pandas in a future version. Use pandas.concat instead.\n",
      "  z = z.append(x, ignore_index=True)\n",
      "/var/folders/5f/r6lq2bw523s4rxbs9v5wc8f00000gn/T/ipykernel_55612/12997947.py:4: FutureWarning: The frame.append method is deprecated and will be removed from pandas in a future version. Use pandas.concat instead.\n",
      "  z = z.append(x, ignore_index=True)\n",
      "/var/folders/5f/r6lq2bw523s4rxbs9v5wc8f00000gn/T/ipykernel_55612/12997947.py:4: FutureWarning: The frame.append method is deprecated and will be removed from pandas in a future version. Use pandas.concat instead.\n",
      "  z = z.append(x, ignore_index=True)\n",
      "/var/folders/5f/r6lq2bw523s4rxbs9v5wc8f00000gn/T/ipykernel_55612/12997947.py:4: FutureWarning: The frame.append method is deprecated and will be removed from pandas in a future version. Use pandas.concat instead.\n",
      "  z = z.append(x, ignore_index=True)\n",
      "/var/folders/5f/r6lq2bw523s4rxbs9v5wc8f00000gn/T/ipykernel_55612/12997947.py:4: FutureWarning: The frame.append method is deprecated and will be removed from pandas in a future version. Use pandas.concat instead.\n",
      "  z = z.append(x, ignore_index=True)\n",
      "/var/folders/5f/r6lq2bw523s4rxbs9v5wc8f00000gn/T/ipykernel_55612/12997947.py:4: FutureWarning: The frame.append method is deprecated and will be removed from pandas in a future version. Use pandas.concat instead.\n",
      "  z = z.append(x, ignore_index=True)\n",
      "/var/folders/5f/r6lq2bw523s4rxbs9v5wc8f00000gn/T/ipykernel_55612/12997947.py:4: FutureWarning: The frame.append method is deprecated and will be removed from pandas in a future version. Use pandas.concat instead.\n",
      "  z = z.append(x, ignore_index=True)\n",
      "/var/folders/5f/r6lq2bw523s4rxbs9v5wc8f00000gn/T/ipykernel_55612/12997947.py:4: FutureWarning: The frame.append method is deprecated and will be removed from pandas in a future version. Use pandas.concat instead.\n",
      "  z = z.append(x, ignore_index=True)\n",
      "/var/folders/5f/r6lq2bw523s4rxbs9v5wc8f00000gn/T/ipykernel_55612/12997947.py:4: FutureWarning: The frame.append method is deprecated and will be removed from pandas in a future version. Use pandas.concat instead.\n",
      "  z = z.append(x, ignore_index=True)\n",
      "/var/folders/5f/r6lq2bw523s4rxbs9v5wc8f00000gn/T/ipykernel_55612/12997947.py:4: FutureWarning: The frame.append method is deprecated and will be removed from pandas in a future version. Use pandas.concat instead.\n",
      "  z = z.append(x, ignore_index=True)\n",
      "/var/folders/5f/r6lq2bw523s4rxbs9v5wc8f00000gn/T/ipykernel_55612/12997947.py:4: FutureWarning: The frame.append method is deprecated and will be removed from pandas in a future version. Use pandas.concat instead.\n",
      "  z = z.append(x, ignore_index=True)\n",
      "/var/folders/5f/r6lq2bw523s4rxbs9v5wc8f00000gn/T/ipykernel_55612/12997947.py:4: FutureWarning: The frame.append method is deprecated and will be removed from pandas in a future version. Use pandas.concat instead.\n",
      "  z = z.append(x, ignore_index=True)\n",
      "/var/folders/5f/r6lq2bw523s4rxbs9v5wc8f00000gn/T/ipykernel_55612/12997947.py:4: FutureWarning: The frame.append method is deprecated and will be removed from pandas in a future version. Use pandas.concat instead.\n",
      "  z = z.append(x, ignore_index=True)\n",
      "/var/folders/5f/r6lq2bw523s4rxbs9v5wc8f00000gn/T/ipykernel_55612/12997947.py:4: FutureWarning: The frame.append method is deprecated and will be removed from pandas in a future version. Use pandas.concat instead.\n",
      "  z = z.append(x, ignore_index=True)\n",
      "/var/folders/5f/r6lq2bw523s4rxbs9v5wc8f00000gn/T/ipykernel_55612/12997947.py:4: FutureWarning: The frame.append method is deprecated and will be removed from pandas in a future version. Use pandas.concat instead.\n",
      "  z = z.append(x, ignore_index=True)\n",
      "/var/folders/5f/r6lq2bw523s4rxbs9v5wc8f00000gn/T/ipykernel_55612/12997947.py:4: FutureWarning: The frame.append method is deprecated and will be removed from pandas in a future version. Use pandas.concat instead.\n",
      "  z = z.append(x, ignore_index=True)\n",
      "/var/folders/5f/r6lq2bw523s4rxbs9v5wc8f00000gn/T/ipykernel_55612/12997947.py:4: FutureWarning: The frame.append method is deprecated and will be removed from pandas in a future version. Use pandas.concat instead.\n",
      "  z = z.append(x, ignore_index=True)\n",
      "/var/folders/5f/r6lq2bw523s4rxbs9v5wc8f00000gn/T/ipykernel_55612/12997947.py:4: FutureWarning: The frame.append method is deprecated and will be removed from pandas in a future version. Use pandas.concat instead.\n",
      "  z = z.append(x, ignore_index=True)\n",
      "/var/folders/5f/r6lq2bw523s4rxbs9v5wc8f00000gn/T/ipykernel_55612/12997947.py:4: FutureWarning: The frame.append method is deprecated and will be removed from pandas in a future version. Use pandas.concat instead.\n",
      "  z = z.append(x, ignore_index=True)\n",
      "/var/folders/5f/r6lq2bw523s4rxbs9v5wc8f00000gn/T/ipykernel_55612/12997947.py:4: FutureWarning: The frame.append method is deprecated and will be removed from pandas in a future version. Use pandas.concat instead.\n",
      "  z = z.append(x, ignore_index=True)\n",
      "/var/folders/5f/r6lq2bw523s4rxbs9v5wc8f00000gn/T/ipykernel_55612/12997947.py:4: FutureWarning: The frame.append method is deprecated and will be removed from pandas in a future version. Use pandas.concat instead.\n",
      "  z = z.append(x, ignore_index=True)\n",
      "/var/folders/5f/r6lq2bw523s4rxbs9v5wc8f00000gn/T/ipykernel_55612/12997947.py:4: FutureWarning: The frame.append method is deprecated and will be removed from pandas in a future version. Use pandas.concat instead.\n",
      "  z = z.append(x, ignore_index=True)\n",
      "/var/folders/5f/r6lq2bw523s4rxbs9v5wc8f00000gn/T/ipykernel_55612/12997947.py:4: FutureWarning: The frame.append method is deprecated and will be removed from pandas in a future version. Use pandas.concat instead.\n",
      "  z = z.append(x, ignore_index=True)\n",
      "/var/folders/5f/r6lq2bw523s4rxbs9v5wc8f00000gn/T/ipykernel_55612/12997947.py:4: FutureWarning: The frame.append method is deprecated and will be removed from pandas in a future version. Use pandas.concat instead.\n",
      "  z = z.append(x, ignore_index=True)\n",
      "/var/folders/5f/r6lq2bw523s4rxbs9v5wc8f00000gn/T/ipykernel_55612/12997947.py:4: FutureWarning: The frame.append method is deprecated and will be removed from pandas in a future version. Use pandas.concat instead.\n",
      "  z = z.append(x, ignore_index=True)\n",
      "/var/folders/5f/r6lq2bw523s4rxbs9v5wc8f00000gn/T/ipykernel_55612/12997947.py:4: FutureWarning: The frame.append method is deprecated and will be removed from pandas in a future version. Use pandas.concat instead.\n",
      "  z = z.append(x, ignore_index=True)\n",
      "/var/folders/5f/r6lq2bw523s4rxbs9v5wc8f00000gn/T/ipykernel_55612/12997947.py:4: FutureWarning: The frame.append method is deprecated and will be removed from pandas in a future version. Use pandas.concat instead.\n",
      "  z = z.append(x, ignore_index=True)\n",
      "/var/folders/5f/r6lq2bw523s4rxbs9v5wc8f00000gn/T/ipykernel_55612/12997947.py:4: FutureWarning: The frame.append method is deprecated and will be removed from pandas in a future version. Use pandas.concat instead.\n",
      "  z = z.append(x, ignore_index=True)\n",
      "/var/folders/5f/r6lq2bw523s4rxbs9v5wc8f00000gn/T/ipykernel_55612/12997947.py:4: FutureWarning: The frame.append method is deprecated and will be removed from pandas in a future version. Use pandas.concat instead.\n",
      "  z = z.append(x, ignore_index=True)\n",
      "/var/folders/5f/r6lq2bw523s4rxbs9v5wc8f00000gn/T/ipykernel_55612/12997947.py:4: FutureWarning: The frame.append method is deprecated and will be removed from pandas in a future version. Use pandas.concat instead.\n",
      "  z = z.append(x, ignore_index=True)\n",
      "/var/folders/5f/r6lq2bw523s4rxbs9v5wc8f00000gn/T/ipykernel_55612/12997947.py:4: FutureWarning: The frame.append method is deprecated and will be removed from pandas in a future version. Use pandas.concat instead.\n",
      "  z = z.append(x, ignore_index=True)\n",
      "/var/folders/5f/r6lq2bw523s4rxbs9v5wc8f00000gn/T/ipykernel_55612/12997947.py:4: FutureWarning: The frame.append method is deprecated and will be removed from pandas in a future version. Use pandas.concat instead.\n",
      "  z = z.append(x, ignore_index=True)\n",
      "/var/folders/5f/r6lq2bw523s4rxbs9v5wc8f00000gn/T/ipykernel_55612/12997947.py:4: FutureWarning: The frame.append method is deprecated and will be removed from pandas in a future version. Use pandas.concat instead.\n",
      "  z = z.append(x, ignore_index=True)\n",
      "/var/folders/5f/r6lq2bw523s4rxbs9v5wc8f00000gn/T/ipykernel_55612/12997947.py:4: FutureWarning: The frame.append method is deprecated and will be removed from pandas in a future version. Use pandas.concat instead.\n",
      "  z = z.append(x, ignore_index=True)\n",
      "/var/folders/5f/r6lq2bw523s4rxbs9v5wc8f00000gn/T/ipykernel_55612/12997947.py:4: FutureWarning: The frame.append method is deprecated and will be removed from pandas in a future version. Use pandas.concat instead.\n",
      "  z = z.append(x, ignore_index=True)\n",
      "/var/folders/5f/r6lq2bw523s4rxbs9v5wc8f00000gn/T/ipykernel_55612/12997947.py:4: FutureWarning: The frame.append method is deprecated and will be removed from pandas in a future version. Use pandas.concat instead.\n",
      "  z = z.append(x, ignore_index=True)\n",
      "/var/folders/5f/r6lq2bw523s4rxbs9v5wc8f00000gn/T/ipykernel_55612/12997947.py:4: FutureWarning: The frame.append method is deprecated and will be removed from pandas in a future version. Use pandas.concat instead.\n",
      "  z = z.append(x, ignore_index=True)\n",
      "/var/folders/5f/r6lq2bw523s4rxbs9v5wc8f00000gn/T/ipykernel_55612/12997947.py:4: FutureWarning: The frame.append method is deprecated and will be removed from pandas in a future version. Use pandas.concat instead.\n",
      "  z = z.append(x, ignore_index=True)\n",
      "/var/folders/5f/r6lq2bw523s4rxbs9v5wc8f00000gn/T/ipykernel_55612/12997947.py:4: FutureWarning: The frame.append method is deprecated and will be removed from pandas in a future version. Use pandas.concat instead.\n",
      "  z = z.append(x, ignore_index=True)\n",
      "/var/folders/5f/r6lq2bw523s4rxbs9v5wc8f00000gn/T/ipykernel_55612/12997947.py:4: FutureWarning: The frame.append method is deprecated and will be removed from pandas in a future version. Use pandas.concat instead.\n",
      "  z = z.append(x, ignore_index=True)\n",
      "/var/folders/5f/r6lq2bw523s4rxbs9v5wc8f00000gn/T/ipykernel_55612/12997947.py:4: FutureWarning: The frame.append method is deprecated and will be removed from pandas in a future version. Use pandas.concat instead.\n",
      "  z = z.append(x, ignore_index=True)\n",
      "/var/folders/5f/r6lq2bw523s4rxbs9v5wc8f00000gn/T/ipykernel_55612/12997947.py:4: FutureWarning: The frame.append method is deprecated and will be removed from pandas in a future version. Use pandas.concat instead.\n",
      "  z = z.append(x, ignore_index=True)\n",
      "/var/folders/5f/r6lq2bw523s4rxbs9v5wc8f00000gn/T/ipykernel_55612/12997947.py:4: FutureWarning: The frame.append method is deprecated and will be removed from pandas in a future version. Use pandas.concat instead.\n",
      "  z = z.append(x, ignore_index=True)\n",
      "/var/folders/5f/r6lq2bw523s4rxbs9v5wc8f00000gn/T/ipykernel_55612/12997947.py:4: FutureWarning: The frame.append method is deprecated and will be removed from pandas in a future version. Use pandas.concat instead.\n",
      "  z = z.append(x, ignore_index=True)\n",
      "/var/folders/5f/r6lq2bw523s4rxbs9v5wc8f00000gn/T/ipykernel_55612/12997947.py:4: FutureWarning: The frame.append method is deprecated and will be removed from pandas in a future version. Use pandas.concat instead.\n",
      "  z = z.append(x, ignore_index=True)\n",
      "/var/folders/5f/r6lq2bw523s4rxbs9v5wc8f00000gn/T/ipykernel_55612/12997947.py:4: FutureWarning: The frame.append method is deprecated and will be removed from pandas in a future version. Use pandas.concat instead.\n",
      "  z = z.append(x, ignore_index=True)\n",
      "/var/folders/5f/r6lq2bw523s4rxbs9v5wc8f00000gn/T/ipykernel_55612/12997947.py:4: FutureWarning: The frame.append method is deprecated and will be removed from pandas in a future version. Use pandas.concat instead.\n",
      "  z = z.append(x, ignore_index=True)\n",
      "/var/folders/5f/r6lq2bw523s4rxbs9v5wc8f00000gn/T/ipykernel_55612/12997947.py:4: FutureWarning: The frame.append method is deprecated and will be removed from pandas in a future version. Use pandas.concat instead.\n",
      "  z = z.append(x, ignore_index=True)\n",
      "/var/folders/5f/r6lq2bw523s4rxbs9v5wc8f00000gn/T/ipykernel_55612/12997947.py:4: FutureWarning: The frame.append method is deprecated and will be removed from pandas in a future version. Use pandas.concat instead.\n",
      "  z = z.append(x, ignore_index=True)\n",
      "/var/folders/5f/r6lq2bw523s4rxbs9v5wc8f00000gn/T/ipykernel_55612/12997947.py:4: FutureWarning: The frame.append method is deprecated and will be removed from pandas in a future version. Use pandas.concat instead.\n",
      "  z = z.append(x, ignore_index=True)\n",
      "/var/folders/5f/r6lq2bw523s4rxbs9v5wc8f00000gn/T/ipykernel_55612/12997947.py:4: FutureWarning: The frame.append method is deprecated and will be removed from pandas in a future version. Use pandas.concat instead.\n",
      "  z = z.append(x, ignore_index=True)\n",
      "/var/folders/5f/r6lq2bw523s4rxbs9v5wc8f00000gn/T/ipykernel_55612/12997947.py:4: FutureWarning: The frame.append method is deprecated and will be removed from pandas in a future version. Use pandas.concat instead.\n",
      "  z = z.append(x, ignore_index=True)\n",
      "/var/folders/5f/r6lq2bw523s4rxbs9v5wc8f00000gn/T/ipykernel_55612/12997947.py:4: FutureWarning: The frame.append method is deprecated and will be removed from pandas in a future version. Use pandas.concat instead.\n",
      "  z = z.append(x, ignore_index=True)\n",
      "/var/folders/5f/r6lq2bw523s4rxbs9v5wc8f00000gn/T/ipykernel_55612/12997947.py:4: FutureWarning: The frame.append method is deprecated and will be removed from pandas in a future version. Use pandas.concat instead.\n",
      "  z = z.append(x, ignore_index=True)\n",
      "/var/folders/5f/r6lq2bw523s4rxbs9v5wc8f00000gn/T/ipykernel_55612/12997947.py:4: FutureWarning: The frame.append method is deprecated and will be removed from pandas in a future version. Use pandas.concat instead.\n",
      "  z = z.append(x, ignore_index=True)\n",
      "/var/folders/5f/r6lq2bw523s4rxbs9v5wc8f00000gn/T/ipykernel_55612/12997947.py:4: FutureWarning: The frame.append method is deprecated and will be removed from pandas in a future version. Use pandas.concat instead.\n",
      "  z = z.append(x, ignore_index=True)\n",
      "/var/folders/5f/r6lq2bw523s4rxbs9v5wc8f00000gn/T/ipykernel_55612/12997947.py:4: FutureWarning: The frame.append method is deprecated and will be removed from pandas in a future version. Use pandas.concat instead.\n",
      "  z = z.append(x, ignore_index=True)\n",
      "/var/folders/5f/r6lq2bw523s4rxbs9v5wc8f00000gn/T/ipykernel_55612/12997947.py:4: FutureWarning: The frame.append method is deprecated and will be removed from pandas in a future version. Use pandas.concat instead.\n",
      "  z = z.append(x, ignore_index=True)\n",
      "/var/folders/5f/r6lq2bw523s4rxbs9v5wc8f00000gn/T/ipykernel_55612/12997947.py:4: FutureWarning: The frame.append method is deprecated and will be removed from pandas in a future version. Use pandas.concat instead.\n",
      "  z = z.append(x, ignore_index=True)\n",
      "/var/folders/5f/r6lq2bw523s4rxbs9v5wc8f00000gn/T/ipykernel_55612/12997947.py:4: FutureWarning: The frame.append method is deprecated and will be removed from pandas in a future version. Use pandas.concat instead.\n",
      "  z = z.append(x, ignore_index=True)\n",
      "/var/folders/5f/r6lq2bw523s4rxbs9v5wc8f00000gn/T/ipykernel_55612/12997947.py:4: FutureWarning: The frame.append method is deprecated and will be removed from pandas in a future version. Use pandas.concat instead.\n",
      "  z = z.append(x, ignore_index=True)\n",
      "/var/folders/5f/r6lq2bw523s4rxbs9v5wc8f00000gn/T/ipykernel_55612/12997947.py:4: FutureWarning: The frame.append method is deprecated and will be removed from pandas in a future version. Use pandas.concat instead.\n",
      "  z = z.append(x, ignore_index=True)\n",
      "/var/folders/5f/r6lq2bw523s4rxbs9v5wc8f00000gn/T/ipykernel_55612/12997947.py:4: FutureWarning: The frame.append method is deprecated and will be removed from pandas in a future version. Use pandas.concat instead.\n",
      "  z = z.append(x, ignore_index=True)\n",
      "/var/folders/5f/r6lq2bw523s4rxbs9v5wc8f00000gn/T/ipykernel_55612/12997947.py:4: FutureWarning: The frame.append method is deprecated and will be removed from pandas in a future version. Use pandas.concat instead.\n",
      "  z = z.append(x, ignore_index=True)\n",
      "/var/folders/5f/r6lq2bw523s4rxbs9v5wc8f00000gn/T/ipykernel_55612/12997947.py:4: FutureWarning: The frame.append method is deprecated and will be removed from pandas in a future version. Use pandas.concat instead.\n",
      "  z = z.append(x, ignore_index=True)\n",
      "/var/folders/5f/r6lq2bw523s4rxbs9v5wc8f00000gn/T/ipykernel_55612/12997947.py:4: FutureWarning: The frame.append method is deprecated and will be removed from pandas in a future version. Use pandas.concat instead.\n",
      "  z = z.append(x, ignore_index=True)\n",
      "/var/folders/5f/r6lq2bw523s4rxbs9v5wc8f00000gn/T/ipykernel_55612/12997947.py:4: FutureWarning: The frame.append method is deprecated and will be removed from pandas in a future version. Use pandas.concat instead.\n",
      "  z = z.append(x, ignore_index=True)\n"
     ]
    }
   ],
   "source": [
    "z = pd.DataFrame()\n",
    "for y in range(0,70):\n",
    "    x = pd.DataFrame(merged_data[y])\n",
    "    z = z.append(x, ignore_index=True)\n"
   ]
  },
  {
   "cell_type": "code",
   "execution_count": 16,
   "metadata": {},
   "outputs": [
    {
     "data": {
      "text/html": [
       "<div>\n",
       "<style scoped>\n",
       "    .dataframe tbody tr th:only-of-type {\n",
       "        vertical-align: middle;\n",
       "    }\n",
       "\n",
       "    .dataframe tbody tr th {\n",
       "        vertical-align: top;\n",
       "    }\n",
       "\n",
       "    .dataframe thead th {\n",
       "        text-align: right;\n",
       "    }\n",
       "</style>\n",
       "<table border=\"1\" class=\"dataframe\">\n",
       "  <thead>\n",
       "    <tr style=\"text-align: right;\">\n",
       "      <th></th>\n",
       "      <th>season</th>\n",
       "      <th>round</th>\n",
       "      <th>url</th>\n",
       "      <th>raceName</th>\n",
       "      <th>Circuit</th>\n",
       "      <th>date</th>\n",
       "      <th>champion_name</th>\n",
       "      <th>time</th>\n",
       "    </tr>\n",
       "  </thead>\n",
       "  <tbody>\n",
       "    <tr>\n",
       "      <th>419</th>\n",
       "      <td>1985</td>\n",
       "      <td>16</td>\n",
       "      <td>http://en.wikipedia.org/wiki/1985_Australian_G...</td>\n",
       "      <td>Australian Grand Prix</td>\n",
       "      <td>{'circuitId': 'adelaide', 'url': 'http://en.wi...</td>\n",
       "      <td>1985-11-03</td>\n",
       "      <td>Keke Rosberg</td>\n",
       "      <td>NaN</td>\n",
       "    </tr>\n",
       "  </tbody>\n",
       "</table>\n",
       "</div>"
      ],
      "text/plain": [
       "    season round                                                url  \\\n",
       "419   1985    16  http://en.wikipedia.org/wiki/1985_Australian_G...   \n",
       "\n",
       "                  raceName                                            Circuit  \\\n",
       "419  Australian Grand Prix  {'circuitId': 'adelaide', 'url': 'http://en.wi...   \n",
       "\n",
       "           date champion_name time  \n",
       "419  1985-11-03  Keke Rosberg  NaN  "
      ]
     },
     "execution_count": 16,
     "metadata": {},
     "output_type": "execute_result"
    }
   ],
   "source": [
    "z.sample(1)"
   ]
  },
  {
   "cell_type": "code",
   "execution_count": 17,
   "metadata": {},
   "outputs": [],
   "source": [
    "z.to_csv(\"clean.csv\",index=False)\n"
   ]
  },
  {
   "cell_type": "code",
   "execution_count": null,
   "metadata": {},
   "outputs": [],
   "source": []
  },
  {
   "cell_type": "code",
   "execution_count": null,
   "metadata": {},
   "outputs": [],
   "source": []
  }
 ],
 "metadata": {
  "kernelspec": {
   "display_name": "Python 3.9.12",
   "language": "python",
   "name": "python3"
  },
  "language_info": {
   "codemirror_mode": {
    "name": "ipython",
    "version": 3
   },
   "file_extension": ".py",
   "mimetype": "text/x-python",
   "name": "python",
   "nbconvert_exporter": "python",
   "pygments_lexer": "ipython3",
   "version": "3.9.12"
  },
  "orig_nbformat": 4,
  "vscode": {
   "interpreter": {
    "hash": "94d160e6a7ce8ef0a8a124748eeed5c2cba7d7b1dc403e771b07c5f6066aed9d"
   }
  }
 },
 "nbformat": 4,
 "nbformat_minor": 2
}
