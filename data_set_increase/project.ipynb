{
 "cells": [
  {
   "cell_type": "code",
   "execution_count": 1,
   "metadata": {},
   "outputs": [],
   "source": [
    "import pandas as pd\n",
    "from site_scrapper import process_championships\n",
    "from api_extractor import consult_api\n",
    "from cleaner import clean_directory\n",
    "from meger4_api_scrapper import merge_content"
   ]
  },
  {
   "cell_type": "code",
   "execution_count": 2,
   "metadata": {},
   "outputs": [],
   "source": [
    "api_results= consult_api()"
   ]
  },
  {
   "cell_type": "code",
   "execution_count": 3,
   "metadata": {},
   "outputs": [],
   "source": [
    "data_championships = process_championships()"
   ]
  },
  {
   "cell_type": "code",
   "execution_count": 4,
   "metadata": {},
   "outputs": [
    {
     "name": "stdout",
     "output_type": "stream",
     "text": [
      "CLEANED\n"
     ]
    }
   ],
   "source": [
    "clean_directory()"
   ]
  },
  {
   "cell_type": "code",
   "execution_count": 5,
   "metadata": {},
   "outputs": [],
   "source": [
    "merged_data = merge_content(api_results, data_championships)"
   ]
  },
  {
   "cell_type": "code",
   "execution_count": 7,
   "metadata": {},
   "outputs": [
    {
     "name": "stderr",
     "output_type": "stream",
     "text": [
      "/var/folders/5f/r6lq2bw523s4rxbs9v5wc8f00000gn/T/ipykernel_61582/1407180396.py:4: FutureWarning: The frame.append method is deprecated and will be removed from pandas in a future version. Use pandas.concat instead.\n",
      "  z = z.append(x, ignore_index=True)\n",
      "/var/folders/5f/r6lq2bw523s4rxbs9v5wc8f00000gn/T/ipykernel_61582/1407180396.py:4: FutureWarning: The frame.append method is deprecated and will be removed from pandas in a future version. Use pandas.concat instead.\n",
      "  z = z.append(x, ignore_index=True)\n",
      "/var/folders/5f/r6lq2bw523s4rxbs9v5wc8f00000gn/T/ipykernel_61582/1407180396.py:4: FutureWarning: The frame.append method is deprecated and will be removed from pandas in a future version. Use pandas.concat instead.\n",
      "  z = z.append(x, ignore_index=True)\n",
      "/var/folders/5f/r6lq2bw523s4rxbs9v5wc8f00000gn/T/ipykernel_61582/1407180396.py:4: FutureWarning: The frame.append method is deprecated and will be removed from pandas in a future version. Use pandas.concat instead.\n",
      "  z = z.append(x, ignore_index=True)\n",
      "/var/folders/5f/r6lq2bw523s4rxbs9v5wc8f00000gn/T/ipykernel_61582/1407180396.py:4: FutureWarning: The frame.append method is deprecated and will be removed from pandas in a future version. Use pandas.concat instead.\n",
      "  z = z.append(x, ignore_index=True)\n",
      "/var/folders/5f/r6lq2bw523s4rxbs9v5wc8f00000gn/T/ipykernel_61582/1407180396.py:4: FutureWarning: The frame.append method is deprecated and will be removed from pandas in a future version. Use pandas.concat instead.\n",
      "  z = z.append(x, ignore_index=True)\n",
      "/var/folders/5f/r6lq2bw523s4rxbs9v5wc8f00000gn/T/ipykernel_61582/1407180396.py:4: FutureWarning: The frame.append method is deprecated and will be removed from pandas in a future version. Use pandas.concat instead.\n",
      "  z = z.append(x, ignore_index=True)\n",
      "/var/folders/5f/r6lq2bw523s4rxbs9v5wc8f00000gn/T/ipykernel_61582/1407180396.py:4: FutureWarning: The frame.append method is deprecated and will be removed from pandas in a future version. Use pandas.concat instead.\n",
      "  z = z.append(x, ignore_index=True)\n",
      "/var/folders/5f/r6lq2bw523s4rxbs9v5wc8f00000gn/T/ipykernel_61582/1407180396.py:4: FutureWarning: The frame.append method is deprecated and will be removed from pandas in a future version. Use pandas.concat instead.\n",
      "  z = z.append(x, ignore_index=True)\n",
      "/var/folders/5f/r6lq2bw523s4rxbs9v5wc8f00000gn/T/ipykernel_61582/1407180396.py:4: FutureWarning: The frame.append method is deprecated and will be removed from pandas in a future version. Use pandas.concat instead.\n",
      "  z = z.append(x, ignore_index=True)\n",
      "/var/folders/5f/r6lq2bw523s4rxbs9v5wc8f00000gn/T/ipykernel_61582/1407180396.py:4: FutureWarning: The frame.append method is deprecated and will be removed from pandas in a future version. Use pandas.concat instead.\n",
      "  z = z.append(x, ignore_index=True)\n",
      "/var/folders/5f/r6lq2bw523s4rxbs9v5wc8f00000gn/T/ipykernel_61582/1407180396.py:4: FutureWarning: The frame.append method is deprecated and will be removed from pandas in a future version. Use pandas.concat instead.\n",
      "  z = z.append(x, ignore_index=True)\n",
      "/var/folders/5f/r6lq2bw523s4rxbs9v5wc8f00000gn/T/ipykernel_61582/1407180396.py:4: FutureWarning: The frame.append method is deprecated and will be removed from pandas in a future version. Use pandas.concat instead.\n",
      "  z = z.append(x, ignore_index=True)\n",
      "/var/folders/5f/r6lq2bw523s4rxbs9v5wc8f00000gn/T/ipykernel_61582/1407180396.py:4: FutureWarning: The frame.append method is deprecated and will be removed from pandas in a future version. Use pandas.concat instead.\n",
      "  z = z.append(x, ignore_index=True)\n",
      "/var/folders/5f/r6lq2bw523s4rxbs9v5wc8f00000gn/T/ipykernel_61582/1407180396.py:4: FutureWarning: The frame.append method is deprecated and will be removed from pandas in a future version. Use pandas.concat instead.\n",
      "  z = z.append(x, ignore_index=True)\n",
      "/var/folders/5f/r6lq2bw523s4rxbs9v5wc8f00000gn/T/ipykernel_61582/1407180396.py:4: FutureWarning: The frame.append method is deprecated and will be removed from pandas in a future version. Use pandas.concat instead.\n",
      "  z = z.append(x, ignore_index=True)\n",
      "/var/folders/5f/r6lq2bw523s4rxbs9v5wc8f00000gn/T/ipykernel_61582/1407180396.py:4: FutureWarning: The frame.append method is deprecated and will be removed from pandas in a future version. Use pandas.concat instead.\n",
      "  z = z.append(x, ignore_index=True)\n",
      "/var/folders/5f/r6lq2bw523s4rxbs9v5wc8f00000gn/T/ipykernel_61582/1407180396.py:4: FutureWarning: The frame.append method is deprecated and will be removed from pandas in a future version. Use pandas.concat instead.\n",
      "  z = z.append(x, ignore_index=True)\n",
      "/var/folders/5f/r6lq2bw523s4rxbs9v5wc8f00000gn/T/ipykernel_61582/1407180396.py:4: FutureWarning: The frame.append method is deprecated and will be removed from pandas in a future version. Use pandas.concat instead.\n",
      "  z = z.append(x, ignore_index=True)\n",
      "/var/folders/5f/r6lq2bw523s4rxbs9v5wc8f00000gn/T/ipykernel_61582/1407180396.py:4: FutureWarning: The frame.append method is deprecated and will be removed from pandas in a future version. Use pandas.concat instead.\n",
      "  z = z.append(x, ignore_index=True)\n",
      "/var/folders/5f/r6lq2bw523s4rxbs9v5wc8f00000gn/T/ipykernel_61582/1407180396.py:4: FutureWarning: The frame.append method is deprecated and will be removed from pandas in a future version. Use pandas.concat instead.\n",
      "  z = z.append(x, ignore_index=True)\n",
      "/var/folders/5f/r6lq2bw523s4rxbs9v5wc8f00000gn/T/ipykernel_61582/1407180396.py:4: FutureWarning: The frame.append method is deprecated and will be removed from pandas in a future version. Use pandas.concat instead.\n",
      "  z = z.append(x, ignore_index=True)\n",
      "/var/folders/5f/r6lq2bw523s4rxbs9v5wc8f00000gn/T/ipykernel_61582/1407180396.py:4: FutureWarning: The frame.append method is deprecated and will be removed from pandas in a future version. Use pandas.concat instead.\n",
      "  z = z.append(x, ignore_index=True)\n",
      "/var/folders/5f/r6lq2bw523s4rxbs9v5wc8f00000gn/T/ipykernel_61582/1407180396.py:4: FutureWarning: The frame.append method is deprecated and will be removed from pandas in a future version. Use pandas.concat instead.\n",
      "  z = z.append(x, ignore_index=True)\n",
      "/var/folders/5f/r6lq2bw523s4rxbs9v5wc8f00000gn/T/ipykernel_61582/1407180396.py:4: FutureWarning: The frame.append method is deprecated and will be removed from pandas in a future version. Use pandas.concat instead.\n",
      "  z = z.append(x, ignore_index=True)\n",
      "/var/folders/5f/r6lq2bw523s4rxbs9v5wc8f00000gn/T/ipykernel_61582/1407180396.py:4: FutureWarning: The frame.append method is deprecated and will be removed from pandas in a future version. Use pandas.concat instead.\n",
      "  z = z.append(x, ignore_index=True)\n",
      "/var/folders/5f/r6lq2bw523s4rxbs9v5wc8f00000gn/T/ipykernel_61582/1407180396.py:4: FutureWarning: The frame.append method is deprecated and will be removed from pandas in a future version. Use pandas.concat instead.\n",
      "  z = z.append(x, ignore_index=True)\n",
      "/var/folders/5f/r6lq2bw523s4rxbs9v5wc8f00000gn/T/ipykernel_61582/1407180396.py:4: FutureWarning: The frame.append method is deprecated and will be removed from pandas in a future version. Use pandas.concat instead.\n",
      "  z = z.append(x, ignore_index=True)\n",
      "/var/folders/5f/r6lq2bw523s4rxbs9v5wc8f00000gn/T/ipykernel_61582/1407180396.py:4: FutureWarning: The frame.append method is deprecated and will be removed from pandas in a future version. Use pandas.concat instead.\n",
      "  z = z.append(x, ignore_index=True)\n",
      "/var/folders/5f/r6lq2bw523s4rxbs9v5wc8f00000gn/T/ipykernel_61582/1407180396.py:4: FutureWarning: The frame.append method is deprecated and will be removed from pandas in a future version. Use pandas.concat instead.\n",
      "  z = z.append(x, ignore_index=True)\n",
      "/var/folders/5f/r6lq2bw523s4rxbs9v5wc8f00000gn/T/ipykernel_61582/1407180396.py:4: FutureWarning: The frame.append method is deprecated and will be removed from pandas in a future version. Use pandas.concat instead.\n",
      "  z = z.append(x, ignore_index=True)\n",
      "/var/folders/5f/r6lq2bw523s4rxbs9v5wc8f00000gn/T/ipykernel_61582/1407180396.py:4: FutureWarning: The frame.append method is deprecated and will be removed from pandas in a future version. Use pandas.concat instead.\n",
      "  z = z.append(x, ignore_index=True)\n",
      "/var/folders/5f/r6lq2bw523s4rxbs9v5wc8f00000gn/T/ipykernel_61582/1407180396.py:4: FutureWarning: The frame.append method is deprecated and will be removed from pandas in a future version. Use pandas.concat instead.\n",
      "  z = z.append(x, ignore_index=True)\n",
      "/var/folders/5f/r6lq2bw523s4rxbs9v5wc8f00000gn/T/ipykernel_61582/1407180396.py:4: FutureWarning: The frame.append method is deprecated and will be removed from pandas in a future version. Use pandas.concat instead.\n",
      "  z = z.append(x, ignore_index=True)\n",
      "/var/folders/5f/r6lq2bw523s4rxbs9v5wc8f00000gn/T/ipykernel_61582/1407180396.py:4: FutureWarning: The frame.append method is deprecated and will be removed from pandas in a future version. Use pandas.concat instead.\n",
      "  z = z.append(x, ignore_index=True)\n",
      "/var/folders/5f/r6lq2bw523s4rxbs9v5wc8f00000gn/T/ipykernel_61582/1407180396.py:4: FutureWarning: The frame.append method is deprecated and will be removed from pandas in a future version. Use pandas.concat instead.\n",
      "  z = z.append(x, ignore_index=True)\n",
      "/var/folders/5f/r6lq2bw523s4rxbs9v5wc8f00000gn/T/ipykernel_61582/1407180396.py:4: FutureWarning: The frame.append method is deprecated and will be removed from pandas in a future version. Use pandas.concat instead.\n",
      "  z = z.append(x, ignore_index=True)\n",
      "/var/folders/5f/r6lq2bw523s4rxbs9v5wc8f00000gn/T/ipykernel_61582/1407180396.py:4: FutureWarning: The frame.append method is deprecated and will be removed from pandas in a future version. Use pandas.concat instead.\n",
      "  z = z.append(x, ignore_index=True)\n",
      "/var/folders/5f/r6lq2bw523s4rxbs9v5wc8f00000gn/T/ipykernel_61582/1407180396.py:4: FutureWarning: The frame.append method is deprecated and will be removed from pandas in a future version. Use pandas.concat instead.\n",
      "  z = z.append(x, ignore_index=True)\n",
      "/var/folders/5f/r6lq2bw523s4rxbs9v5wc8f00000gn/T/ipykernel_61582/1407180396.py:4: FutureWarning: The frame.append method is deprecated and will be removed from pandas in a future version. Use pandas.concat instead.\n",
      "  z = z.append(x, ignore_index=True)\n",
      "/var/folders/5f/r6lq2bw523s4rxbs9v5wc8f00000gn/T/ipykernel_61582/1407180396.py:4: FutureWarning: The frame.append method is deprecated and will be removed from pandas in a future version. Use pandas.concat instead.\n",
      "  z = z.append(x, ignore_index=True)\n",
      "/var/folders/5f/r6lq2bw523s4rxbs9v5wc8f00000gn/T/ipykernel_61582/1407180396.py:4: FutureWarning: The frame.append method is deprecated and will be removed from pandas in a future version. Use pandas.concat instead.\n",
      "  z = z.append(x, ignore_index=True)\n",
      "/var/folders/5f/r6lq2bw523s4rxbs9v5wc8f00000gn/T/ipykernel_61582/1407180396.py:4: FutureWarning: The frame.append method is deprecated and will be removed from pandas in a future version. Use pandas.concat instead.\n",
      "  z = z.append(x, ignore_index=True)\n",
      "/var/folders/5f/r6lq2bw523s4rxbs9v5wc8f00000gn/T/ipykernel_61582/1407180396.py:4: FutureWarning: The frame.append method is deprecated and will be removed from pandas in a future version. Use pandas.concat instead.\n",
      "  z = z.append(x, ignore_index=True)\n",
      "/var/folders/5f/r6lq2bw523s4rxbs9v5wc8f00000gn/T/ipykernel_61582/1407180396.py:4: FutureWarning: The frame.append method is deprecated and will be removed from pandas in a future version. Use pandas.concat instead.\n",
      "  z = z.append(x, ignore_index=True)\n",
      "/var/folders/5f/r6lq2bw523s4rxbs9v5wc8f00000gn/T/ipykernel_61582/1407180396.py:4: FutureWarning: The frame.append method is deprecated and will be removed from pandas in a future version. Use pandas.concat instead.\n",
      "  z = z.append(x, ignore_index=True)\n",
      "/var/folders/5f/r6lq2bw523s4rxbs9v5wc8f00000gn/T/ipykernel_61582/1407180396.py:4: FutureWarning: The frame.append method is deprecated and will be removed from pandas in a future version. Use pandas.concat instead.\n",
      "  z = z.append(x, ignore_index=True)\n",
      "/var/folders/5f/r6lq2bw523s4rxbs9v5wc8f00000gn/T/ipykernel_61582/1407180396.py:4: FutureWarning: The frame.append method is deprecated and will be removed from pandas in a future version. Use pandas.concat instead.\n",
      "  z = z.append(x, ignore_index=True)\n",
      "/var/folders/5f/r6lq2bw523s4rxbs9v5wc8f00000gn/T/ipykernel_61582/1407180396.py:4: FutureWarning: The frame.append method is deprecated and will be removed from pandas in a future version. Use pandas.concat instead.\n",
      "  z = z.append(x, ignore_index=True)\n",
      "/var/folders/5f/r6lq2bw523s4rxbs9v5wc8f00000gn/T/ipykernel_61582/1407180396.py:4: FutureWarning: The frame.append method is deprecated and will be removed from pandas in a future version. Use pandas.concat instead.\n",
      "  z = z.append(x, ignore_index=True)\n",
      "/var/folders/5f/r6lq2bw523s4rxbs9v5wc8f00000gn/T/ipykernel_61582/1407180396.py:4: FutureWarning: The frame.append method is deprecated and will be removed from pandas in a future version. Use pandas.concat instead.\n",
      "  z = z.append(x, ignore_index=True)\n",
      "/var/folders/5f/r6lq2bw523s4rxbs9v5wc8f00000gn/T/ipykernel_61582/1407180396.py:4: FutureWarning: The frame.append method is deprecated and will be removed from pandas in a future version. Use pandas.concat instead.\n",
      "  z = z.append(x, ignore_index=True)\n",
      "/var/folders/5f/r6lq2bw523s4rxbs9v5wc8f00000gn/T/ipykernel_61582/1407180396.py:4: FutureWarning: The frame.append method is deprecated and will be removed from pandas in a future version. Use pandas.concat instead.\n",
      "  z = z.append(x, ignore_index=True)\n",
      "/var/folders/5f/r6lq2bw523s4rxbs9v5wc8f00000gn/T/ipykernel_61582/1407180396.py:4: FutureWarning: The frame.append method is deprecated and will be removed from pandas in a future version. Use pandas.concat instead.\n",
      "  z = z.append(x, ignore_index=True)\n",
      "/var/folders/5f/r6lq2bw523s4rxbs9v5wc8f00000gn/T/ipykernel_61582/1407180396.py:4: FutureWarning: The frame.append method is deprecated and will be removed from pandas in a future version. Use pandas.concat instead.\n",
      "  z = z.append(x, ignore_index=True)\n",
      "/var/folders/5f/r6lq2bw523s4rxbs9v5wc8f00000gn/T/ipykernel_61582/1407180396.py:4: FutureWarning: The frame.append method is deprecated and will be removed from pandas in a future version. Use pandas.concat instead.\n",
      "  z = z.append(x, ignore_index=True)\n",
      "/var/folders/5f/r6lq2bw523s4rxbs9v5wc8f00000gn/T/ipykernel_61582/1407180396.py:4: FutureWarning: The frame.append method is deprecated and will be removed from pandas in a future version. Use pandas.concat instead.\n",
      "  z = z.append(x, ignore_index=True)\n",
      "/var/folders/5f/r6lq2bw523s4rxbs9v5wc8f00000gn/T/ipykernel_61582/1407180396.py:4: FutureWarning: The frame.append method is deprecated and will be removed from pandas in a future version. Use pandas.concat instead.\n",
      "  z = z.append(x, ignore_index=True)\n",
      "/var/folders/5f/r6lq2bw523s4rxbs9v5wc8f00000gn/T/ipykernel_61582/1407180396.py:4: FutureWarning: The frame.append method is deprecated and will be removed from pandas in a future version. Use pandas.concat instead.\n",
      "  z = z.append(x, ignore_index=True)\n",
      "/var/folders/5f/r6lq2bw523s4rxbs9v5wc8f00000gn/T/ipykernel_61582/1407180396.py:4: FutureWarning: The frame.append method is deprecated and will be removed from pandas in a future version. Use pandas.concat instead.\n",
      "  z = z.append(x, ignore_index=True)\n",
      "/var/folders/5f/r6lq2bw523s4rxbs9v5wc8f00000gn/T/ipykernel_61582/1407180396.py:4: FutureWarning: The frame.append method is deprecated and will be removed from pandas in a future version. Use pandas.concat instead.\n",
      "  z = z.append(x, ignore_index=True)\n",
      "/var/folders/5f/r6lq2bw523s4rxbs9v5wc8f00000gn/T/ipykernel_61582/1407180396.py:4: FutureWarning: The frame.append method is deprecated and will be removed from pandas in a future version. Use pandas.concat instead.\n",
      "  z = z.append(x, ignore_index=True)\n",
      "/var/folders/5f/r6lq2bw523s4rxbs9v5wc8f00000gn/T/ipykernel_61582/1407180396.py:4: FutureWarning: The frame.append method is deprecated and will be removed from pandas in a future version. Use pandas.concat instead.\n",
      "  z = z.append(x, ignore_index=True)\n",
      "/var/folders/5f/r6lq2bw523s4rxbs9v5wc8f00000gn/T/ipykernel_61582/1407180396.py:4: FutureWarning: The frame.append method is deprecated and will be removed from pandas in a future version. Use pandas.concat instead.\n",
      "  z = z.append(x, ignore_index=True)\n",
      "/var/folders/5f/r6lq2bw523s4rxbs9v5wc8f00000gn/T/ipykernel_61582/1407180396.py:4: FutureWarning: The frame.append method is deprecated and will be removed from pandas in a future version. Use pandas.concat instead.\n",
      "  z = z.append(x, ignore_index=True)\n",
      "/var/folders/5f/r6lq2bw523s4rxbs9v5wc8f00000gn/T/ipykernel_61582/1407180396.py:4: FutureWarning: The frame.append method is deprecated and will be removed from pandas in a future version. Use pandas.concat instead.\n",
      "  z = z.append(x, ignore_index=True)\n",
      "/var/folders/5f/r6lq2bw523s4rxbs9v5wc8f00000gn/T/ipykernel_61582/1407180396.py:4: FutureWarning: The frame.append method is deprecated and will be removed from pandas in a future version. Use pandas.concat instead.\n",
      "  z = z.append(x, ignore_index=True)\n",
      "/var/folders/5f/r6lq2bw523s4rxbs9v5wc8f00000gn/T/ipykernel_61582/1407180396.py:4: FutureWarning: The frame.append method is deprecated and will be removed from pandas in a future version. Use pandas.concat instead.\n",
      "  z = z.append(x, ignore_index=True)\n",
      "/var/folders/5f/r6lq2bw523s4rxbs9v5wc8f00000gn/T/ipykernel_61582/1407180396.py:4: FutureWarning: The frame.append method is deprecated and will be removed from pandas in a future version. Use pandas.concat instead.\n",
      "  z = z.append(x, ignore_index=True)\n",
      "/var/folders/5f/r6lq2bw523s4rxbs9v5wc8f00000gn/T/ipykernel_61582/1407180396.py:4: FutureWarning: The frame.append method is deprecated and will be removed from pandas in a future version. Use pandas.concat instead.\n",
      "  z = z.append(x, ignore_index=True)\n",
      "/var/folders/5f/r6lq2bw523s4rxbs9v5wc8f00000gn/T/ipykernel_61582/1407180396.py:4: FutureWarning: The frame.append method is deprecated and will be removed from pandas in a future version. Use pandas.concat instead.\n",
      "  z = z.append(x, ignore_index=True)\n",
      "/var/folders/5f/r6lq2bw523s4rxbs9v5wc8f00000gn/T/ipykernel_61582/1407180396.py:4: FutureWarning: The frame.append method is deprecated and will be removed from pandas in a future version. Use pandas.concat instead.\n",
      "  z = z.append(x, ignore_index=True)\n"
     ]
    }
   ],
   "source": [
    "z = pd.DataFrame()\n",
    "for y in range(0,72):\n",
    "    x = pd.DataFrame(merged_data[y])\n",
    "    z = z.append(x, ignore_index=True)\n"
   ]
  },
  {
   "cell_type": "code",
   "execution_count": 8,
   "metadata": {},
   "outputs": [
    {
     "data": {
      "text/html": [
       "<div>\n",
       "<style scoped>\n",
       "    .dataframe tbody tr th:only-of-type {\n",
       "        vertical-align: middle;\n",
       "    }\n",
       "\n",
       "    .dataframe tbody tr th {\n",
       "        vertical-align: top;\n",
       "    }\n",
       "\n",
       "    .dataframe thead th {\n",
       "        text-align: right;\n",
       "    }\n",
       "</style>\n",
       "<table border=\"1\" class=\"dataframe\">\n",
       "  <thead>\n",
       "    <tr style=\"text-align: right;\">\n",
       "      <th></th>\n",
       "      <th>season</th>\n",
       "      <th>round</th>\n",
       "      <th>url</th>\n",
       "      <th>raceName</th>\n",
       "      <th>Circuit</th>\n",
       "      <th>date</th>\n",
       "      <th>champion_name</th>\n",
       "      <th>time</th>\n",
       "      <th>FirstPractice</th>\n",
       "      <th>SecondPractice</th>\n",
       "      <th>ThirdPractice</th>\n",
       "      <th>Qualifying</th>\n",
       "      <th>Sprint</th>\n",
       "    </tr>\n",
       "  </thead>\n",
       "  <tbody>\n",
       "    <tr>\n",
       "      <th>1056</th>\n",
       "      <td>2021</td>\n",
       "      <td>22</td>\n",
       "      <td>http://en.wikipedia.org/wiki/2021_Abu_Dhabi_Gr...</td>\n",
       "      <td>Abu Dhabi Grand Prix</td>\n",
       "      <td>{'circuitId': 'yas_marina', 'url': 'http://en....</td>\n",
       "      <td>2021-12-12</td>\n",
       "      <td>Max Verstappen</td>\n",
       "      <td>13:00:00Z</td>\n",
       "      <td>{'date': '2021-12-10'}</td>\n",
       "      <td>{'date': '2021-12-10'}</td>\n",
       "      <td>{'date': '2021-12-11'}</td>\n",
       "      <td>{'date': '2021-12-11'}</td>\n",
       "      <td>NaN</td>\n",
       "    </tr>\n",
       "  </tbody>\n",
       "</table>\n",
       "</div>"
      ],
      "text/plain": [
       "     season round                                                url  \\\n",
       "1056   2021    22  http://en.wikipedia.org/wiki/2021_Abu_Dhabi_Gr...   \n",
       "\n",
       "                  raceName                                            Circuit  \\\n",
       "1056  Abu Dhabi Grand Prix  {'circuitId': 'yas_marina', 'url': 'http://en....   \n",
       "\n",
       "            date   champion_name       time           FirstPractice  \\\n",
       "1056  2021-12-12  Max Verstappen  13:00:00Z  {'date': '2021-12-10'}   \n",
       "\n",
       "              SecondPractice           ThirdPractice              Qualifying  \\\n",
       "1056  {'date': '2021-12-10'}  {'date': '2021-12-11'}  {'date': '2021-12-11'}   \n",
       "\n",
       "     Sprint  \n",
       "1056    NaN  "
      ]
     },
     "execution_count": 8,
     "metadata": {},
     "output_type": "execute_result"
    }
   ],
   "source": [
    "z.tail(1)"
   ]
  },
  {
   "cell_type": "code",
   "execution_count": 9,
   "metadata": {},
   "outputs": [],
   "source": [
    "z.to_csv(\"clean.csv\",index=False)\n"
   ]
  },
  {
   "cell_type": "code",
   "execution_count": null,
   "metadata": {},
   "outputs": [],
   "source": []
  },
  {
   "cell_type": "code",
   "execution_count": null,
   "metadata": {},
   "outputs": [],
   "source": []
  }
 ],
 "metadata": {
  "kernelspec": {
   "display_name": "Python 3.9.12",
   "language": "python",
   "name": "python3"
  },
  "language_info": {
   "codemirror_mode": {
    "name": "ipython",
    "version": 3
   },
   "file_extension": ".py",
   "mimetype": "text/x-python",
   "name": "python",
   "nbconvert_exporter": "python",
   "pygments_lexer": "ipython3",
   "version": "3.9.12"
  },
  "orig_nbformat": 4,
  "vscode": {
   "interpreter": {
    "hash": "94d160e6a7ce8ef0a8a124748eeed5c2cba7d7b1dc403e771b07c5f6066aed9d"
   }
  }
 },
 "nbformat": 4,
 "nbformat_minor": 2
}
