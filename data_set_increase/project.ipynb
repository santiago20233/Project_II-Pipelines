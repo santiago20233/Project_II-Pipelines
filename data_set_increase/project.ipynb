{
 "cells": [
  {
   "cell_type": "code",
   "execution_count": 1,
   "metadata": {},
   "outputs": [],
   "source": [
    "import pandas as pd\n",
    "from site_scrapper import process_championships\n",
    "from api_extractor import consult_api\n",
    "from utils import clean_directory\n",
    "from meger4_api_scrapper import merge_content"
   ]
  },
  {
   "cell_type": "code",
   "execution_count": 2,
   "metadata": {},
   "outputs": [],
   "source": [
    "api_results= consult_api()"
   ]
  },
  {
   "cell_type": "code",
   "execution_count": 3,
   "metadata": {},
   "outputs": [],
   "source": [
    "data_championships = process_championships()"
   ]
  },
  {
   "cell_type": "code",
   "execution_count": 4,
   "metadata": {},
   "outputs": [
    {
     "name": "stdout",
     "output_type": "stream",
     "text": [
      "CLEANED\n"
     ]
    }
   ],
   "source": [
    "clean_directory()"
   ]
  },
  {
   "cell_type": "code",
   "execution_count": 5,
   "metadata": {},
   "outputs": [],
   "source": [
    "merged_data = merge_content(api_results, data_championships)"
   ]
  },
  {
   "cell_type": "code",
   "execution_count": 14,
   "metadata": {},
   "outputs": [],
   "source": [
    "x=  pd.DataFrame(merged_data[1])"
   ]
  },
  {
   "cell_type": "code",
   "execution_count": 15,
   "metadata": {},
   "outputs": [
    {
     "data": {
      "text/html": [
       "<div>\n",
       "<style scoped>\n",
       "    .dataframe tbody tr th:only-of-type {\n",
       "        vertical-align: middle;\n",
       "    }\n",
       "\n",
       "    .dataframe tbody tr th {\n",
       "        vertical-align: top;\n",
       "    }\n",
       "\n",
       "    .dataframe thead th {\n",
       "        text-align: right;\n",
       "    }\n",
       "</style>\n",
       "<table border=\"1\" class=\"dataframe\">\n",
       "  <thead>\n",
       "    <tr style=\"text-align: right;\">\n",
       "      <th></th>\n",
       "      <th>season</th>\n",
       "      <th>round</th>\n",
       "      <th>url</th>\n",
       "      <th>raceName</th>\n",
       "      <th>Circuit</th>\n",
       "      <th>date</th>\n",
       "      <th>champion name</th>\n",
       "    </tr>\n",
       "  </thead>\n",
       "  <tbody>\n",
       "    <tr>\n",
       "      <th>0</th>\n",
       "      <td>1951</td>\n",
       "      <td>1</td>\n",
       "      <td>http://en.wikipedia.org/wiki/1951_Swiss_Grand_...</td>\n",
       "      <td>Swiss Grand Prix</td>\n",
       "      <td>{'circuitId': 'bremgarten', 'url': 'http://en....</td>\n",
       "      <td>1951-05-27</td>\n",
       "      <td>Juan Manuel Fangio</td>\n",
       "    </tr>\n",
       "    <tr>\n",
       "      <th>1</th>\n",
       "      <td>1951</td>\n",
       "      <td>2</td>\n",
       "      <td>http://en.wikipedia.org/wiki/1951_Indianapolis...</td>\n",
       "      <td>Indianapolis 500</td>\n",
       "      <td>{'circuitId': 'indianapolis', 'url': 'http://e...</td>\n",
       "      <td>1951-05-30</td>\n",
       "      <td>Lee Wallard</td>\n",
       "    </tr>\n",
       "    <tr>\n",
       "      <th>2</th>\n",
       "      <td>1951</td>\n",
       "      <td>3</td>\n",
       "      <td>http://en.wikipedia.org/wiki/1951_Belgian_Gran...</td>\n",
       "      <td>Belgian Grand Prix</td>\n",
       "      <td>{'circuitId': 'spa', 'url': 'http://en.wikiped...</td>\n",
       "      <td>1951-06-17</td>\n",
       "      <td>Nino Farina</td>\n",
       "    </tr>\n",
       "    <tr>\n",
       "      <th>3</th>\n",
       "      <td>1951</td>\n",
       "      <td>4</td>\n",
       "      <td>http://en.wikipedia.org/wiki/1951_French_Grand...</td>\n",
       "      <td>French Grand Prix</td>\n",
       "      <td>{'circuitId': 'reims', 'url': 'http://en.wikip...</td>\n",
       "      <td>1951-07-01</td>\n",
       "      <td>Luigi Fagioli</td>\n",
       "    </tr>\n",
       "    <tr>\n",
       "      <th>4</th>\n",
       "      <td>1951</td>\n",
       "      <td>5</td>\n",
       "      <td>http://en.wikipedia.org/wiki/1951_British_Gran...</td>\n",
       "      <td>British Grand Prix</td>\n",
       "      <td>{'circuitId': 'silverstone', 'url': 'http://en...</td>\n",
       "      <td>1951-07-14</td>\n",
       "      <td>Jose Froilan Gonzalez</td>\n",
       "    </tr>\n",
       "    <tr>\n",
       "      <th>5</th>\n",
       "      <td>1951</td>\n",
       "      <td>6</td>\n",
       "      <td>http://en.wikipedia.org/wiki/1951_German_Grand...</td>\n",
       "      <td>German Grand Prix</td>\n",
       "      <td>{'circuitId': 'nurburgring', 'url': 'http://en...</td>\n",
       "      <td>1951-07-29</td>\n",
       "      <td>Alberto Ascari</td>\n",
       "    </tr>\n",
       "    <tr>\n",
       "      <th>6</th>\n",
       "      <td>1951</td>\n",
       "      <td>7</td>\n",
       "      <td>http://en.wikipedia.org/wiki/1951_Italian_Gran...</td>\n",
       "      <td>Italian Grand Prix</td>\n",
       "      <td>{'circuitId': 'monza', 'url': 'http://en.wikip...</td>\n",
       "      <td>1951-09-16</td>\n",
       "      <td>Alberto Ascari</td>\n",
       "    </tr>\n",
       "    <tr>\n",
       "      <th>7</th>\n",
       "      <td>1951</td>\n",
       "      <td>8</td>\n",
       "      <td>http://en.wikipedia.org/wiki/1951_Spanish_Gran...</td>\n",
       "      <td>Spanish Grand Prix</td>\n",
       "      <td>{'circuitId': 'pedralbes', 'url': 'http://en.w...</td>\n",
       "      <td>1951-10-28</td>\n",
       "      <td>Juan Manuel Fangio</td>\n",
       "    </tr>\n",
       "  </tbody>\n",
       "</table>\n",
       "</div>"
      ],
      "text/plain": [
       "  season round                                                url  \\\n",
       "0   1951     1  http://en.wikipedia.org/wiki/1951_Swiss_Grand_...   \n",
       "1   1951     2  http://en.wikipedia.org/wiki/1951_Indianapolis...   \n",
       "2   1951     3  http://en.wikipedia.org/wiki/1951_Belgian_Gran...   \n",
       "3   1951     4  http://en.wikipedia.org/wiki/1951_French_Grand...   \n",
       "4   1951     5  http://en.wikipedia.org/wiki/1951_British_Gran...   \n",
       "5   1951     6  http://en.wikipedia.org/wiki/1951_German_Grand...   \n",
       "6   1951     7  http://en.wikipedia.org/wiki/1951_Italian_Gran...   \n",
       "7   1951     8  http://en.wikipedia.org/wiki/1951_Spanish_Gran...   \n",
       "\n",
       "             raceName                                            Circuit  \\\n",
       "0    Swiss Grand Prix  {'circuitId': 'bremgarten', 'url': 'http://en....   \n",
       "1    Indianapolis 500  {'circuitId': 'indianapolis', 'url': 'http://e...   \n",
       "2  Belgian Grand Prix  {'circuitId': 'spa', 'url': 'http://en.wikiped...   \n",
       "3   French Grand Prix  {'circuitId': 'reims', 'url': 'http://en.wikip...   \n",
       "4  British Grand Prix  {'circuitId': 'silverstone', 'url': 'http://en...   \n",
       "5   German Grand Prix  {'circuitId': 'nurburgring', 'url': 'http://en...   \n",
       "6  Italian Grand Prix  {'circuitId': 'monza', 'url': 'http://en.wikip...   \n",
       "7  Spanish Grand Prix  {'circuitId': 'pedralbes', 'url': 'http://en.w...   \n",
       "\n",
       "         date          champion name  \n",
       "0  1951-05-27     Juan Manuel Fangio  \n",
       "1  1951-05-30            Lee Wallard  \n",
       "2  1951-06-17            Nino Farina  \n",
       "3  1951-07-01          Luigi Fagioli  \n",
       "4  1951-07-14  Jose Froilan Gonzalez  \n",
       "5  1951-07-29         Alberto Ascari  \n",
       "6  1951-09-16         Alberto Ascari  \n",
       "7  1951-10-28     Juan Manuel Fangio  "
      ]
     },
     "execution_count": 15,
     "metadata": {},
     "output_type": "execute_result"
    }
   ],
   "source": [
    "x"
   ]
  },
  {
   "cell_type": "code",
   "execution_count": null,
   "metadata": {},
   "outputs": [],
   "source": []
  }
 ],
 "metadata": {
  "kernelspec": {
   "display_name": "Python 3.9.12",
   "language": "python",
   "name": "python3"
  },
  "language_info": {
   "codemirror_mode": {
    "name": "ipython",
    "version": 3
   },
   "file_extension": ".py",
   "mimetype": "text/x-python",
   "name": "python",
   "nbconvert_exporter": "python",
   "pygments_lexer": "ipython3",
   "version": "3.9.12"
  },
  "orig_nbformat": 4,
  "vscode": {
   "interpreter": {
    "hash": "94d160e6a7ce8ef0a8a124748eeed5c2cba7d7b1dc403e771b07c5f6066aed9d"
   }
  }
 },
 "nbformat": 4,
 "nbformat_minor": 2
}
