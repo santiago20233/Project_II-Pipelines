{
 "cells": [
  {
   "cell_type": "code",
   "execution_count": 69,
   "metadata": {},
   "outputs": [],
   "source": [
    "import pandas as pd\n",
    "import seaborn as sns\n",
    "import matplotlib.pyplot as plt\n",
    "import pandas as pd\n",
    "import numpy as np\n",
    "import plotly_express as px\n",
    "from get_win_streak import get_win_streak\n",
    "\n",
    "\n",
    "df = pd.read_csv(\"clean.csv\")"
   ]
  },
  {
   "cell_type": "code",
   "execution_count": 70,
   "metadata": {},
   "outputs": [],
   "source": [
    "df['win_count'] = df.groupby('champion_name').cumcount() + 1"
   ]
  },
  {
   "cell_type": "code",
   "execution_count": 71,
   "metadata": {},
   "outputs": [
    {
     "data": {
      "text/html": [
       "<div>\n",
       "<style scoped>\n",
       "    .dataframe tbody tr th:only-of-type {\n",
       "        vertical-align: middle;\n",
       "    }\n",
       "\n",
       "    .dataframe tbody tr th {\n",
       "        vertical-align: top;\n",
       "    }\n",
       "\n",
       "    .dataframe thead th {\n",
       "        text-align: right;\n",
       "    }\n",
       "</style>\n",
       "<table border=\"1\" class=\"dataframe\">\n",
       "  <thead>\n",
       "    <tr style=\"text-align: right;\">\n",
       "      <th></th>\n",
       "      <th>season</th>\n",
       "      <th>round</th>\n",
       "      <th>url</th>\n",
       "      <th>raceName</th>\n",
       "      <th>Circuit</th>\n",
       "      <th>date</th>\n",
       "      <th>champion_name</th>\n",
       "      <th>time</th>\n",
       "      <th>FirstPractice</th>\n",
       "      <th>SecondPractice</th>\n",
       "      <th>ThirdPractice</th>\n",
       "      <th>Qualifying</th>\n",
       "      <th>Sprint</th>\n",
       "      <th>win_count</th>\n",
       "    </tr>\n",
       "  </thead>\n",
       "  <tbody>\n",
       "    <tr>\n",
       "      <th>1047</th>\n",
       "      <td>2021</td>\n",
       "      <td>13</td>\n",
       "      <td>http://en.wikipedia.org/wiki/2021_Dutch_Grand_...</td>\n",
       "      <td>Dutch Grand Prix</td>\n",
       "      <td>{'circuitId': 'zandvoort', 'url': 'http://en.w...</td>\n",
       "      <td>2021-09-05</td>\n",
       "      <td>Max Verstappen</td>\n",
       "      <td>13:00:00Z</td>\n",
       "      <td>{'date': '2021-09-03'}</td>\n",
       "      <td>{'date': '2021-09-03'}</td>\n",
       "      <td>{'date': '2021-09-04'}</td>\n",
       "      <td>{'date': '2021-09-04'}</td>\n",
       "      <td>NaN</td>\n",
       "      <td>17</td>\n",
       "    </tr>\n",
       "    <tr>\n",
       "      <th>1048</th>\n",
       "      <td>2021</td>\n",
       "      <td>14</td>\n",
       "      <td>http://en.wikipedia.org/wiki/2021_Italian_Gran...</td>\n",
       "      <td>Italian Grand Prix</td>\n",
       "      <td>{'circuitId': 'monza', 'url': 'http://en.wikip...</td>\n",
       "      <td>2021-09-12</td>\n",
       "      <td>Daniel Ricciardo</td>\n",
       "      <td>13:00:00Z</td>\n",
       "      <td>{'date': '2021-09-10'}</td>\n",
       "      <td>{'date': '2021-09-11'}</td>\n",
       "      <td>NaN</td>\n",
       "      <td>{'date': '2021-09-10'}</td>\n",
       "      <td>{'date': '2021-09-11'}</td>\n",
       "      <td>8</td>\n",
       "    </tr>\n",
       "    <tr>\n",
       "      <th>1049</th>\n",
       "      <td>2021</td>\n",
       "      <td>15</td>\n",
       "      <td>http://en.wikipedia.org/wiki/2021_Russian_Gran...</td>\n",
       "      <td>Russian Grand Prix</td>\n",
       "      <td>{'circuitId': 'sochi', 'url': 'http://en.wikip...</td>\n",
       "      <td>2021-09-26</td>\n",
       "      <td>Lewis Hamilton</td>\n",
       "      <td>12:00:00Z</td>\n",
       "      <td>{'date': '2021-09-24'}</td>\n",
       "      <td>{'date': '2021-09-24'}</td>\n",
       "      <td>{'date': '2021-09-25'}</td>\n",
       "      <td>{'date': '2021-09-25'}</td>\n",
       "      <td>NaN</td>\n",
       "      <td>99</td>\n",
       "    </tr>\n",
       "    <tr>\n",
       "      <th>1050</th>\n",
       "      <td>2021</td>\n",
       "      <td>16</td>\n",
       "      <td>http://en.wikipedia.org/wiki/2021_Turkish_Gran...</td>\n",
       "      <td>Turkish Grand Prix</td>\n",
       "      <td>{'circuitId': 'istanbul', 'url': 'http://en.wi...</td>\n",
       "      <td>2021-10-10</td>\n",
       "      <td>Valtteri Bottas</td>\n",
       "      <td>12:00:00Z</td>\n",
       "      <td>{'date': '2021-10-08'}</td>\n",
       "      <td>{'date': '2021-10-08'}</td>\n",
       "      <td>{'date': '2021-10-09'}</td>\n",
       "      <td>{'date': '2021-10-09'}</td>\n",
       "      <td>NaN</td>\n",
       "      <td>7</td>\n",
       "    </tr>\n",
       "    <tr>\n",
       "      <th>1051</th>\n",
       "      <td>2021</td>\n",
       "      <td>17</td>\n",
       "      <td>http://en.wikipedia.org/wiki/2021_United_State...</td>\n",
       "      <td>United States Grand Prix</td>\n",
       "      <td>{'circuitId': 'americas', 'url': 'http://en.wi...</td>\n",
       "      <td>2021-10-24</td>\n",
       "      <td>Max Verstappen</td>\n",
       "      <td>19:00:00Z</td>\n",
       "      <td>{'date': '2021-10-22'}</td>\n",
       "      <td>{'date': '2021-10-22'}</td>\n",
       "      <td>{'date': '2021-10-23'}</td>\n",
       "      <td>{'date': '2021-10-23'}</td>\n",
       "      <td>NaN</td>\n",
       "      <td>18</td>\n",
       "    </tr>\n",
       "    <tr>\n",
       "      <th>1052</th>\n",
       "      <td>2021</td>\n",
       "      <td>18</td>\n",
       "      <td>http://en.wikipedia.org/wiki/2021_Mexican_Gran...</td>\n",
       "      <td>Mexico City Grand Prix</td>\n",
       "      <td>{'circuitId': 'rodriguez', 'url': 'http://en.w...</td>\n",
       "      <td>2021-11-07</td>\n",
       "      <td>Max Verstappen</td>\n",
       "      <td>19:00:00Z</td>\n",
       "      <td>{'date': '2021-11-05'}</td>\n",
       "      <td>{'date': '2021-11-05'}</td>\n",
       "      <td>{'date': '2021-11-06'}</td>\n",
       "      <td>{'date': '2021-11-06'}</td>\n",
       "      <td>NaN</td>\n",
       "      <td>19</td>\n",
       "    </tr>\n",
       "    <tr>\n",
       "      <th>1053</th>\n",
       "      <td>2021</td>\n",
       "      <td>19</td>\n",
       "      <td>http://en.wikipedia.org/wiki/2021_S%C3%A3o_Pau...</td>\n",
       "      <td>São Paulo Grand Prix</td>\n",
       "      <td>{'circuitId': 'interlagos', 'url': 'http://en....</td>\n",
       "      <td>2021-11-14</td>\n",
       "      <td>Lewis Hamilton</td>\n",
       "      <td>17:00:00Z</td>\n",
       "      <td>{'date': '2021-11-12'}</td>\n",
       "      <td>{'date': '2021-11-13'}</td>\n",
       "      <td>NaN</td>\n",
       "      <td>{'date': '2021-11-12'}</td>\n",
       "      <td>{'date': '2021-11-13'}</td>\n",
       "      <td>100</td>\n",
       "    </tr>\n",
       "    <tr>\n",
       "      <th>1054</th>\n",
       "      <td>2021</td>\n",
       "      <td>20</td>\n",
       "      <td>http://en.wikipedia.org/wiki/2021_Qatar_Grand_...</td>\n",
       "      <td>Qatar Grand Prix</td>\n",
       "      <td>{'circuitId': 'losail', 'url': 'http://en.wiki...</td>\n",
       "      <td>2021-11-21</td>\n",
       "      <td>Lewis Hamilton</td>\n",
       "      <td>14:00:00Z</td>\n",
       "      <td>{'date': '2021-11-19'}</td>\n",
       "      <td>{'date': '2021-11-19'}</td>\n",
       "      <td>{'date': '2021-11-20'}</td>\n",
       "      <td>{'date': '2021-11-20'}</td>\n",
       "      <td>NaN</td>\n",
       "      <td>101</td>\n",
       "    </tr>\n",
       "    <tr>\n",
       "      <th>1055</th>\n",
       "      <td>2021</td>\n",
       "      <td>21</td>\n",
       "      <td>http://en.wikipedia.org/wiki/2021_Saudi_Arabia...</td>\n",
       "      <td>Saudi Arabian Grand Prix</td>\n",
       "      <td>{'circuitId': 'jeddah', 'url': 'http://en.wiki...</td>\n",
       "      <td>2021-12-05</td>\n",
       "      <td>Lewis Hamilton</td>\n",
       "      <td>17:30:00Z</td>\n",
       "      <td>{'date': '2021-12-03'}</td>\n",
       "      <td>{'date': '2021-12-03'}</td>\n",
       "      <td>{'date': '2021-12-04'}</td>\n",
       "      <td>{'date': '2021-12-04'}</td>\n",
       "      <td>NaN</td>\n",
       "      <td>102</td>\n",
       "    </tr>\n",
       "    <tr>\n",
       "      <th>1056</th>\n",
       "      <td>2021</td>\n",
       "      <td>22</td>\n",
       "      <td>http://en.wikipedia.org/wiki/2021_Abu_Dhabi_Gr...</td>\n",
       "      <td>Abu Dhabi Grand Prix</td>\n",
       "      <td>{'circuitId': 'yas_marina', 'url': 'http://en....</td>\n",
       "      <td>2021-12-12</td>\n",
       "      <td>Max Verstappen</td>\n",
       "      <td>13:00:00Z</td>\n",
       "      <td>{'date': '2021-12-10'}</td>\n",
       "      <td>{'date': '2021-12-10'}</td>\n",
       "      <td>{'date': '2021-12-11'}</td>\n",
       "      <td>{'date': '2021-12-11'}</td>\n",
       "      <td>NaN</td>\n",
       "      <td>20</td>\n",
       "    </tr>\n",
       "  </tbody>\n",
       "</table>\n",
       "</div>"
      ],
      "text/plain": [
       "      season  round                                                url  \\\n",
       "1047    2021     13  http://en.wikipedia.org/wiki/2021_Dutch_Grand_...   \n",
       "1048    2021     14  http://en.wikipedia.org/wiki/2021_Italian_Gran...   \n",
       "1049    2021     15  http://en.wikipedia.org/wiki/2021_Russian_Gran...   \n",
       "1050    2021     16  http://en.wikipedia.org/wiki/2021_Turkish_Gran...   \n",
       "1051    2021     17  http://en.wikipedia.org/wiki/2021_United_State...   \n",
       "1052    2021     18  http://en.wikipedia.org/wiki/2021_Mexican_Gran...   \n",
       "1053    2021     19  http://en.wikipedia.org/wiki/2021_S%C3%A3o_Pau...   \n",
       "1054    2021     20  http://en.wikipedia.org/wiki/2021_Qatar_Grand_...   \n",
       "1055    2021     21  http://en.wikipedia.org/wiki/2021_Saudi_Arabia...   \n",
       "1056    2021     22  http://en.wikipedia.org/wiki/2021_Abu_Dhabi_Gr...   \n",
       "\n",
       "                      raceName  \\\n",
       "1047          Dutch Grand Prix   \n",
       "1048        Italian Grand Prix   \n",
       "1049        Russian Grand Prix   \n",
       "1050        Turkish Grand Prix   \n",
       "1051  United States Grand Prix   \n",
       "1052    Mexico City Grand Prix   \n",
       "1053      São Paulo Grand Prix   \n",
       "1054          Qatar Grand Prix   \n",
       "1055  Saudi Arabian Grand Prix   \n",
       "1056      Abu Dhabi Grand Prix   \n",
       "\n",
       "                                                Circuit        date  \\\n",
       "1047  {'circuitId': 'zandvoort', 'url': 'http://en.w...  2021-09-05   \n",
       "1048  {'circuitId': 'monza', 'url': 'http://en.wikip...  2021-09-12   \n",
       "1049  {'circuitId': 'sochi', 'url': 'http://en.wikip...  2021-09-26   \n",
       "1050  {'circuitId': 'istanbul', 'url': 'http://en.wi...  2021-10-10   \n",
       "1051  {'circuitId': 'americas', 'url': 'http://en.wi...  2021-10-24   \n",
       "1052  {'circuitId': 'rodriguez', 'url': 'http://en.w...  2021-11-07   \n",
       "1053  {'circuitId': 'interlagos', 'url': 'http://en....  2021-11-14   \n",
       "1054  {'circuitId': 'losail', 'url': 'http://en.wiki...  2021-11-21   \n",
       "1055  {'circuitId': 'jeddah', 'url': 'http://en.wiki...  2021-12-05   \n",
       "1056  {'circuitId': 'yas_marina', 'url': 'http://en....  2021-12-12   \n",
       "\n",
       "         champion_name       time           FirstPractice  \\\n",
       "1047    Max Verstappen  13:00:00Z  {'date': '2021-09-03'}   \n",
       "1048  Daniel Ricciardo  13:00:00Z  {'date': '2021-09-10'}   \n",
       "1049    Lewis Hamilton  12:00:00Z  {'date': '2021-09-24'}   \n",
       "1050   Valtteri Bottas  12:00:00Z  {'date': '2021-10-08'}   \n",
       "1051    Max Verstappen  19:00:00Z  {'date': '2021-10-22'}   \n",
       "1052    Max Verstappen  19:00:00Z  {'date': '2021-11-05'}   \n",
       "1053    Lewis Hamilton  17:00:00Z  {'date': '2021-11-12'}   \n",
       "1054    Lewis Hamilton  14:00:00Z  {'date': '2021-11-19'}   \n",
       "1055    Lewis Hamilton  17:30:00Z  {'date': '2021-12-03'}   \n",
       "1056    Max Verstappen  13:00:00Z  {'date': '2021-12-10'}   \n",
       "\n",
       "              SecondPractice           ThirdPractice              Qualifying  \\\n",
       "1047  {'date': '2021-09-03'}  {'date': '2021-09-04'}  {'date': '2021-09-04'}   \n",
       "1048  {'date': '2021-09-11'}                     NaN  {'date': '2021-09-10'}   \n",
       "1049  {'date': '2021-09-24'}  {'date': '2021-09-25'}  {'date': '2021-09-25'}   \n",
       "1050  {'date': '2021-10-08'}  {'date': '2021-10-09'}  {'date': '2021-10-09'}   \n",
       "1051  {'date': '2021-10-22'}  {'date': '2021-10-23'}  {'date': '2021-10-23'}   \n",
       "1052  {'date': '2021-11-05'}  {'date': '2021-11-06'}  {'date': '2021-11-06'}   \n",
       "1053  {'date': '2021-11-13'}                     NaN  {'date': '2021-11-12'}   \n",
       "1054  {'date': '2021-11-19'}  {'date': '2021-11-20'}  {'date': '2021-11-20'}   \n",
       "1055  {'date': '2021-12-03'}  {'date': '2021-12-04'}  {'date': '2021-12-04'}   \n",
       "1056  {'date': '2021-12-10'}  {'date': '2021-12-11'}  {'date': '2021-12-11'}   \n",
       "\n",
       "                      Sprint  win_count  \n",
       "1047                     NaN         17  \n",
       "1048  {'date': '2021-09-11'}          8  \n",
       "1049                     NaN         99  \n",
       "1050                     NaN          7  \n",
       "1051                     NaN         18  \n",
       "1052                     NaN         19  \n",
       "1053  {'date': '2021-11-13'}        100  \n",
       "1054                     NaN        101  \n",
       "1055                     NaN        102  \n",
       "1056                     NaN         20  "
      ]
     },
     "execution_count": 71,
     "metadata": {},
     "output_type": "execute_result"
    }
   ],
   "source": [
    "df.tail(10)"
   ]
  },
  {
   "cell_type": "code",
   "execution_count": 72,
   "metadata": {},
   "outputs": [
    {
     "data": {
      "application/vnd.plotly.v1+json": {
       "config": {
        "plotlyServerURL": "https://plot.ly"
       },
       "data": [
        {
         "alignmentgroup": "True",
         "hovertemplate": "season=%{marker.color}<br>champion_name=%{y}<extra></extra>",
         "legendgroup": "",
         "marker": {
          "color": [
           1950,
           1950,
           1950,
           1951,
           1951,
           1953,
           1954,
           1954,
           1954,
           1954,
           1954,
           1954,
           1955,
           1955,
           1955,
           1955,
           1955,
           1956,
           1956,
           1956,
           1956,
           1956,
           1957,
           1957,
           1957,
           1957,
           1957,
           1957,
           1958,
           1958,
           1958,
           1958,
           1959,
           1959,
           1960,
           1960,
           1961,
           1961,
           1962,
           1962,
           1962,
           1962,
           1962,
           1962,
           1962,
           1963,
           1963,
           1963,
           1963,
           1963,
           1963,
           1963,
           1963,
           1963,
           1964,
           1964,
           1964,
           1964,
           1964,
           1965,
           1965,
           1965,
           1965,
           1965,
           1965,
           1965,
           1965,
           1965,
           1966,
           1966,
           1967,
           1967,
           1967,
           1967,
           1968,
           1968,
           1968,
           1968,
           1968,
           1968,
           1968,
           1969,
           1969,
           1969,
           1969,
           1969,
           1969,
           1969,
           1970,
           1971,
           1971,
           1971,
           1971,
           1971,
           1971,
           1972,
           1972,
           1972,
           1972,
           1973,
           1973,
           1973,
           1973,
           1973,
           1974,
           1974,
           1975,
           1975,
           1975,
           1975,
           1975,
           1976,
           1976,
           1976,
           1976,
           1976,
           1977,
           1977,
           1977,
           1978,
           1978,
           1980,
           1980,
           1980,
           1981,
           1981,
           1981,
           1981,
           1981,
           1981,
           1982,
           1982,
           1982,
           1982,
           1982,
           1983,
           1983,
           1983,
           1983,
           1983,
           1983,
           1983,
           1984,
           1984,
           1984,
           1984,
           1984,
           1984,
           1984,
           1984,
           1984,
           1984,
           1984,
           1984,
           1984,
           1984,
           1985,
           1985,
           1985,
           1985,
           1985,
           1985,
           1985,
           1985,
           1985,
           1985,
           1985,
           1986,
           1986,
           1986,
           1986,
           1986,
           1986,
           1986,
           1986,
           1986,
           1986,
           1986,
           1986,
           1986,
           1986,
           1986,
           1987,
           1987,
           1987,
           1987,
           1987,
           1987,
           1987,
           1987,
           1987,
           1987,
           1987,
           1987,
           1987,
           1987,
           1988,
           1988,
           1988,
           1988,
           1988,
           1988,
           1988,
           1988,
           1988,
           1988,
           1988,
           1988,
           1988,
           1988,
           1988,
           1989,
           1989,
           1989,
           1989,
           1989,
           1989,
           1989,
           1989,
           1989,
           1989,
           1989,
           1989,
           1990,
           1990,
           1990,
           1990,
           1990,
           1990,
           1990,
           1990,
           1990,
           1990,
           1990,
           1990,
           1990,
           1990,
           1991,
           1991,
           1991,
           1991,
           1991,
           1991,
           1991,
           1991,
           1991,
           1991,
           1991,
           1991,
           1991,
           1992,
           1992,
           1992,
           1992,
           1992,
           1992,
           1992,
           1992,
           1992,
           1992,
           1992,
           1992,
           1992,
           1993,
           1993,
           1993,
           1993,
           1993,
           1993,
           1993,
           1993,
           1993,
           1993,
           1993,
           1993,
           1993,
           1993,
           1993,
           1993,
           1994,
           1994,
           1994,
           1994,
           1994,
           1994,
           1994,
           1994,
           1994,
           1994,
           1994,
           1994,
           1994,
           1994,
           1994,
           1995,
           1995,
           1995,
           1995,
           1995,
           1995,
           1995,
           1995,
           1995,
           1995,
           1995,
           1995,
           1995,
           1996,
           1996,
           1996,
           1996,
           1996,
           1996,
           1996,
           1996,
           1996,
           1996,
           1996,
           1997,
           1997,
           1997,
           1997,
           1997,
           1997,
           1998,
           1998,
           1998,
           1998,
           1998,
           1998,
           1998,
           1998,
           1998,
           1998,
           1998,
           1998,
           1998,
           1998,
           1998,
           1999,
           1999,
           1999,
           1999,
           1999,
           1999,
           1999,
           2000,
           2000,
           2000,
           2000,
           2000,
           2000,
           2000,
           2000,
           2000,
           2000,
           2000,
           2000,
           2000,
           2001,
           2001,
           2001,
           2001,
           2001,
           2001,
           2001,
           2001,
           2001,
           2001,
           2001,
           2002,
           2002,
           2002,
           2002,
           2002,
           2002,
           2002,
           2002,
           2002,
           2002,
           2002,
           2003,
           2003,
           2003,
           2003,
           2003,
           2003,
           2003,
           2003,
           2004,
           2004,
           2004,
           2004,
           2004,
           2004,
           2004,
           2004,
           2004,
           2004,
           2004,
           2004,
           2004,
           2004,
           2005,
           2005,
           2005,
           2005,
           2005,
           2005,
           2005,
           2005,
           2005,
           2005,
           2005,
           2005,
           2005,
           2005,
           2005,
           2006,
           2006,
           2006,
           2006,
           2006,
           2006,
           2006,
           2006,
           2006,
           2006,
           2006,
           2006,
           2006,
           2006,
           2006,
           2007,
           2007,
           2007,
           2007,
           2007,
           2007,
           2007,
           2007,
           2007,
           2007,
           2007,
           2007,
           2007,
           2007,
           2008,
           2008,
           2008,
           2008,
           2008,
           2008,
           2008,
           2008,
           2008,
           2008,
           2009,
           2009,
           2009,
           2009,
           2009,
           2009,
           2009,
           2009,
           2009,
           2009,
           2009,
           2009,
           2009,
           2010,
           2010,
           2010,
           2010,
           2010,
           2010,
           2010,
           2010,
           2010,
           2010,
           2010,
           2010,
           2010,
           2010,
           2010,
           2011,
           2011,
           2011,
           2011,
           2011,
           2011,
           2011,
           2011,
           2011,
           2011,
           2011,
           2011,
           2011,
           2011,
           2011,
           2011,
           2011,
           2011,
           2012,
           2012,
           2012,
           2012,
           2012,
           2012,
           2012,
           2012,
           2012,
           2012,
           2012,
           2012,
           2012,
           2012,
           2012,
           2012,
           2012,
           2013,
           2013,
           2013,
           2013,
           2013,
           2013,
           2013,
           2013,
           2013,
           2013,
           2013,
           2013,
           2013,
           2013,
           2013,
           2013,
           2013,
           2013,
           2013,
           2014,
           2014,
           2014,
           2014,
           2014,
           2014,
           2014,
           2014,
           2014,
           2014,
           2014,
           2014,
           2014,
           2014,
           2014,
           2015,
           2015,
           2015,
           2015,
           2015,
           2015,
           2015,
           2015,
           2015,
           2015,
           2015,
           2015,
           2015,
           2015,
           2015,
           2015,
           2015,
           2015,
           2015,
           2016,
           2016,
           2016,
           2016,
           2016,
           2016,
           2016,
           2016,
           2016,
           2016,
           2016,
           2016,
           2016,
           2016,
           2016,
           2016,
           2016,
           2016,
           2016,
           2016,
           2017,
           2017,
           2017,
           2017,
           2017,
           2017,
           2017,
           2017,
           2017,
           2017,
           2017,
           2017,
           2017,
           2017,
           2017,
           2017,
           2018,
           2018,
           2018,
           2018,
           2018,
           2018,
           2018,
           2018,
           2018,
           2018,
           2018,
           2018,
           2018,
           2018,
           2018,
           2018,
           2018,
           2018,
           2018,
           2019,
           2019,
           2019,
           2019,
           2019,
           2019,
           2019,
           2019,
           2019,
           2019,
           2019,
           2019,
           2019,
           2019,
           2019,
           2020,
           2020,
           2020,
           2020,
           2020,
           2020,
           2020,
           2020,
           2020,
           2020,
           2020,
           2020,
           2020,
           2021,
           2021,
           2021,
           2021,
           2021,
           2021,
           2021,
           2021,
           2021,
           2021,
           2021,
           2021,
           2021,
           2021,
           2021,
           2021,
           2021,
           2021
          ],
          "coloraxis": "coloraxis",
          "pattern": {
           "shape": ""
          }
         },
         "name": "",
         "offsetgroup": "",
         "orientation": "h",
         "showlegend": false,
         "textposition": "auto",
         "type": "bar",
         "x": [
          1950,
          1950,
          1950,
          1951,
          1951,
          1953,
          1954,
          1954,
          1954,
          1954,
          1954,
          1954,
          1955,
          1955,
          1955,
          1955,
          1955,
          1956,
          1956,
          1956,
          1956,
          1956,
          1957,
          1957,
          1957,
          1957,
          1957,
          1957,
          1958,
          1958,
          1958,
          1958,
          1959,
          1959,
          1960,
          1960,
          1961,
          1961,
          1962,
          1962,
          1962,
          1962,
          1962,
          1962,
          1962,
          1963,
          1963,
          1963,
          1963,
          1963,
          1963,
          1963,
          1963,
          1963,
          1964,
          1964,
          1964,
          1964,
          1964,
          1965,
          1965,
          1965,
          1965,
          1965,
          1965,
          1965,
          1965,
          1965,
          1966,
          1966,
          1967,
          1967,
          1967,
          1967,
          1968,
          1968,
          1968,
          1968,
          1968,
          1968,
          1968,
          1969,
          1969,
          1969,
          1969,
          1969,
          1969,
          1969,
          1970,
          1971,
          1971,
          1971,
          1971,
          1971,
          1971,
          1972,
          1972,
          1972,
          1972,
          1973,
          1973,
          1973,
          1973,
          1973,
          1974,
          1974,
          1975,
          1975,
          1975,
          1975,
          1975,
          1976,
          1976,
          1976,
          1976,
          1976,
          1977,
          1977,
          1977,
          1978,
          1978,
          1980,
          1980,
          1980,
          1981,
          1981,
          1981,
          1981,
          1981,
          1981,
          1982,
          1982,
          1982,
          1982,
          1982,
          1983,
          1983,
          1983,
          1983,
          1983,
          1983,
          1983,
          1984,
          1984,
          1984,
          1984,
          1984,
          1984,
          1984,
          1984,
          1984,
          1984,
          1984,
          1984,
          1984,
          1984,
          1985,
          1985,
          1985,
          1985,
          1985,
          1985,
          1985,
          1985,
          1985,
          1985,
          1985,
          1986,
          1986,
          1986,
          1986,
          1986,
          1986,
          1986,
          1986,
          1986,
          1986,
          1986,
          1986,
          1986,
          1986,
          1986,
          1987,
          1987,
          1987,
          1987,
          1987,
          1987,
          1987,
          1987,
          1987,
          1987,
          1987,
          1987,
          1987,
          1987,
          1988,
          1988,
          1988,
          1988,
          1988,
          1988,
          1988,
          1988,
          1988,
          1988,
          1988,
          1988,
          1988,
          1988,
          1988,
          1989,
          1989,
          1989,
          1989,
          1989,
          1989,
          1989,
          1989,
          1989,
          1989,
          1989,
          1989,
          1990,
          1990,
          1990,
          1990,
          1990,
          1990,
          1990,
          1990,
          1990,
          1990,
          1990,
          1990,
          1990,
          1990,
          1991,
          1991,
          1991,
          1991,
          1991,
          1991,
          1991,
          1991,
          1991,
          1991,
          1991,
          1991,
          1991,
          1992,
          1992,
          1992,
          1992,
          1992,
          1992,
          1992,
          1992,
          1992,
          1992,
          1992,
          1992,
          1992,
          1993,
          1993,
          1993,
          1993,
          1993,
          1993,
          1993,
          1993,
          1993,
          1993,
          1993,
          1993,
          1993,
          1993,
          1993,
          1993,
          1994,
          1994,
          1994,
          1994,
          1994,
          1994,
          1994,
          1994,
          1994,
          1994,
          1994,
          1994,
          1994,
          1994,
          1994,
          1995,
          1995,
          1995,
          1995,
          1995,
          1995,
          1995,
          1995,
          1995,
          1995,
          1995,
          1995,
          1995,
          1996,
          1996,
          1996,
          1996,
          1996,
          1996,
          1996,
          1996,
          1996,
          1996,
          1996,
          1997,
          1997,
          1997,
          1997,
          1997,
          1997,
          1998,
          1998,
          1998,
          1998,
          1998,
          1998,
          1998,
          1998,
          1998,
          1998,
          1998,
          1998,
          1998,
          1998,
          1998,
          1999,
          1999,
          1999,
          1999,
          1999,
          1999,
          1999,
          2000,
          2000,
          2000,
          2000,
          2000,
          2000,
          2000,
          2000,
          2000,
          2000,
          2000,
          2000,
          2000,
          2001,
          2001,
          2001,
          2001,
          2001,
          2001,
          2001,
          2001,
          2001,
          2001,
          2001,
          2002,
          2002,
          2002,
          2002,
          2002,
          2002,
          2002,
          2002,
          2002,
          2002,
          2002,
          2003,
          2003,
          2003,
          2003,
          2003,
          2003,
          2003,
          2003,
          2004,
          2004,
          2004,
          2004,
          2004,
          2004,
          2004,
          2004,
          2004,
          2004,
          2004,
          2004,
          2004,
          2004,
          2005,
          2005,
          2005,
          2005,
          2005,
          2005,
          2005,
          2005,
          2005,
          2005,
          2005,
          2005,
          2005,
          2005,
          2005,
          2006,
          2006,
          2006,
          2006,
          2006,
          2006,
          2006,
          2006,
          2006,
          2006,
          2006,
          2006,
          2006,
          2006,
          2006,
          2007,
          2007,
          2007,
          2007,
          2007,
          2007,
          2007,
          2007,
          2007,
          2007,
          2007,
          2007,
          2007,
          2007,
          2008,
          2008,
          2008,
          2008,
          2008,
          2008,
          2008,
          2008,
          2008,
          2008,
          2009,
          2009,
          2009,
          2009,
          2009,
          2009,
          2009,
          2009,
          2009,
          2009,
          2009,
          2009,
          2009,
          2010,
          2010,
          2010,
          2010,
          2010,
          2010,
          2010,
          2010,
          2010,
          2010,
          2010,
          2010,
          2010,
          2010,
          2010,
          2011,
          2011,
          2011,
          2011,
          2011,
          2011,
          2011,
          2011,
          2011,
          2011,
          2011,
          2011,
          2011,
          2011,
          2011,
          2011,
          2011,
          2011,
          2012,
          2012,
          2012,
          2012,
          2012,
          2012,
          2012,
          2012,
          2012,
          2012,
          2012,
          2012,
          2012,
          2012,
          2012,
          2012,
          2012,
          2013,
          2013,
          2013,
          2013,
          2013,
          2013,
          2013,
          2013,
          2013,
          2013,
          2013,
          2013,
          2013,
          2013,
          2013,
          2013,
          2013,
          2013,
          2013,
          2014,
          2014,
          2014,
          2014,
          2014,
          2014,
          2014,
          2014,
          2014,
          2014,
          2014,
          2014,
          2014,
          2014,
          2014,
          2015,
          2015,
          2015,
          2015,
          2015,
          2015,
          2015,
          2015,
          2015,
          2015,
          2015,
          2015,
          2015,
          2015,
          2015,
          2015,
          2015,
          2015,
          2015,
          2016,
          2016,
          2016,
          2016,
          2016,
          2016,
          2016,
          2016,
          2016,
          2016,
          2016,
          2016,
          2016,
          2016,
          2016,
          2016,
          2016,
          2016,
          2016,
          2016,
          2017,
          2017,
          2017,
          2017,
          2017,
          2017,
          2017,
          2017,
          2017,
          2017,
          2017,
          2017,
          2017,
          2017,
          2017,
          2017,
          2018,
          2018,
          2018,
          2018,
          2018,
          2018,
          2018,
          2018,
          2018,
          2018,
          2018,
          2018,
          2018,
          2018,
          2018,
          2018,
          2018,
          2018,
          2018,
          2019,
          2019,
          2019,
          2019,
          2019,
          2019,
          2019,
          2019,
          2019,
          2019,
          2019,
          2019,
          2019,
          2019,
          2019,
          2020,
          2020,
          2020,
          2020,
          2020,
          2020,
          2020,
          2020,
          2020,
          2020,
          2020,
          2020,
          2020,
          2021,
          2021,
          2021,
          2021,
          2021,
          2021,
          2021,
          2021,
          2021,
          2021,
          2021,
          2021,
          2021,
          2021,
          2021,
          2021,
          2021,
          2021
         ],
         "xaxis": "x",
         "y": [
          "Juan Manuel Fangio",
          "Juan Manuel Fangio",
          "Juan Manuel Fangio",
          "Juan Manuel Fangio",
          "Juan Manuel Fangio",
          "Juan Manuel Fangio",
          "Juan Manuel Fangio",
          "Juan Manuel Fangio",
          "Juan Manuel Fangio",
          "Juan Manuel Fangio",
          "Juan Manuel Fangio",
          "Juan Manuel Fangio",
          "Juan Manuel Fangio",
          "Juan Manuel Fangio",
          "Juan Manuel Fangio",
          "Stirling Moss",
          "Juan Manuel Fangio",
          "Juan Manuel Fangio",
          "Stirling Moss",
          "Juan Manuel Fangio",
          "Juan Manuel Fangio",
          "Stirling Moss",
          "Juan Manuel Fangio",
          "Juan Manuel Fangio",
          "Juan Manuel Fangio",
          "Juan Manuel Fangio",
          "Stirling Moss",
          "Stirling Moss",
          "Stirling Moss",
          "Stirling Moss",
          "Stirling Moss",
          "Stirling Moss",
          "Stirling Moss",
          "Stirling Moss",
          "Stirling Moss",
          "Stirling Moss",
          "Stirling Moss",
          "Stirling Moss",
          "Graham Hill",
          "Jim Clark",
          "Jim Clark",
          "Graham Hill",
          "Graham Hill",
          "Jim Clark",
          "Graham Hill",
          "Graham Hill",
          "Jim Clark",
          "Jim Clark",
          "Jim Clark",
          "Jim Clark",
          "Jim Clark",
          "Graham Hill",
          "Jim Clark",
          "Jim Clark",
          "Graham Hill",
          "Jim Clark",
          "Jim Clark",
          "Jim Clark",
          "Graham Hill",
          "Jim Clark",
          "Graham Hill",
          "Jim Clark",
          "Jim Clark",
          "Jim Clark",
          "Jim Clark",
          "Jim Clark",
          "Jackie Stewart",
          "Graham Hill",
          "Jackie Stewart",
          "Jim Clark",
          "Jim Clark",
          "Jim Clark",
          "Jim Clark",
          "Jim Clark",
          "Jim Clark",
          "Graham Hill",
          "Graham Hill",
          "Jackie Stewart",
          "Jackie Stewart",
          "Jackie Stewart",
          "Graham Hill",
          "Jackie Stewart",
          "Jackie Stewart",
          "Graham Hill",
          "Jackie Stewart",
          "Jackie Stewart",
          "Jackie Stewart",
          "Jackie Stewart",
          "Jackie Stewart",
          "Jackie Stewart",
          "Jackie Stewart",
          "Jackie Stewart",
          "Jackie Stewart",
          "Jackie Stewart",
          "Jackie Stewart",
          "Jackie Stewart",
          "Jackie Stewart",
          "Jackie Stewart",
          "Jackie Stewart",
          "Jackie Stewart",
          "Jackie Stewart",
          "Jackie Stewart",
          "Jackie Stewart",
          "Jackie Stewart",
          "Niki Lauda",
          "Niki Lauda",
          "Niki Lauda",
          "Niki Lauda",
          "Niki Lauda",
          "Niki Lauda",
          "Niki Lauda",
          "Niki Lauda",
          "Niki Lauda",
          "Niki Lauda",
          "Niki Lauda",
          "Niki Lauda",
          "Niki Lauda",
          "Niki Lauda",
          "Niki Lauda",
          "Niki Lauda",
          "Niki Lauda",
          "Nelson Piquet",
          "Nelson Piquet",
          "Nelson Piquet",
          "Nelson Piquet",
          "Nelson Piquet",
          "Alain Prost",
          "Nelson Piquet",
          "Alain Prost",
          "Alain Prost",
          "Alain Prost",
          "Alain Prost",
          "Niki Lauda",
          "Nelson Piquet",
          "Niki Lauda",
          "Nelson Piquet",
          "Alain Prost",
          "Alain Prost",
          "Alain Prost",
          "Alain Prost",
          "Nelson Piquet",
          "Nelson Piquet",
          "Alain Prost",
          "Niki Lauda",
          "Alain Prost",
          "Niki Lauda",
          "Alain Prost",
          "Nelson Piquet",
          "Nelson Piquet",
          "Niki Lauda",
          "Alain Prost",
          "Niki Lauda",
          "Alain Prost",
          "Niki Lauda",
          "Alain Prost",
          "Alain Prost",
          "Alain Prost",
          "Ayrton Senna",
          "Alain Prost",
          "Nelson Piquet",
          "Alain Prost",
          "Alain Prost",
          "Niki Lauda",
          "Alain Prost",
          "Ayrton Senna",
          "Nigel Mansell",
          "Nigel Mansell",
          "Nelson Piquet",
          "Ayrton Senna",
          "Alain Prost",
          "Alain Prost",
          "Nigel Mansell",
          "Nigel Mansell",
          "Ayrton Senna",
          "Nigel Mansell",
          "Nigel Mansell",
          "Nelson Piquet",
          "Nelson Piquet",
          "Alain Prost",
          "Nelson Piquet",
          "Nigel Mansell",
          "Alain Prost",
          "Alain Prost",
          "Nigel Mansell",
          "Alain Prost",
          "Ayrton Senna",
          "Ayrton Senna",
          "Nigel Mansell",
          "Nigel Mansell",
          "Nelson Piquet",
          "Nelson Piquet",
          "Nigel Mansell",
          "Nelson Piquet",
          "Alain Prost",
          "Nigel Mansell",
          "Nigel Mansell",
          "Alain Prost",
          "Ayrton Senna",
          "Alain Prost",
          "Alain Prost",
          "Ayrton Senna",
          "Ayrton Senna",
          "Alain Prost",
          "Ayrton Senna",
          "Ayrton Senna",
          "Ayrton Senna",
          "Ayrton Senna",
          "Alain Prost",
          "Alain Prost",
          "Ayrton Senna",
          "Alain Prost",
          "Nigel Mansell",
          "Ayrton Senna",
          "Ayrton Senna",
          "Ayrton Senna",
          "Alain Prost",
          "Alain Prost",
          "Alain Prost",
          "Ayrton Senna",
          "Nigel Mansell",
          "Ayrton Senna",
          "Alain Prost",
          "Ayrton Senna",
          "Ayrton Senna",
          "Alain Prost",
          "Ayrton Senna",
          "Ayrton Senna",
          "Alain Prost",
          "Alain Prost",
          "Alain Prost",
          "Ayrton Senna",
          "Ayrton Senna",
          "Ayrton Senna",
          "Nigel Mansell",
          "Alain Prost",
          "Nelson Piquet",
          "Nelson Piquet",
          "Ayrton Senna",
          "Ayrton Senna",
          "Ayrton Senna",
          "Ayrton Senna",
          "Nelson Piquet",
          "Nigel Mansell",
          "Nigel Mansell",
          "Nigel Mansell",
          "Ayrton Senna",
          "Ayrton Senna",
          "Nigel Mansell",
          "Nigel Mansell",
          "Ayrton Senna",
          "Nigel Mansell",
          "Nigel Mansell",
          "Nigel Mansell",
          "Nigel Mansell",
          "Nigel Mansell",
          "Ayrton Senna",
          "Nigel Mansell",
          "Nigel Mansell",
          "Nigel Mansell",
          "Ayrton Senna",
          "Michael Schumacher",
          "Ayrton Senna",
          "Nigel Mansell",
          "Alain Prost",
          "Ayrton Senna",
          "Ayrton Senna",
          "Alain Prost",
          "Alain Prost",
          "Ayrton Senna",
          "Alain Prost",
          "Alain Prost",
          "Alain Prost",
          "Alain Prost",
          "Damon Hill",
          "Damon Hill",
          "Damon Hill",
          "Michael Schumacher",
          "Ayrton Senna",
          "Ayrton Senna",
          "Michael Schumacher",
          "Michael Schumacher",
          "Michael Schumacher",
          "Michael Schumacher",
          "Damon Hill",
          "Michael Schumacher",
          "Michael Schumacher",
          "Damon Hill",
          "Michael Schumacher",
          "Damon Hill",
          "Damon Hill",
          "Damon Hill",
          "Michael Schumacher",
          "Damon Hill",
          "Nigel Mansell",
          "Michael Schumacher",
          "Damon Hill",
          "Damon Hill",
          "Michael Schumacher",
          "Michael Schumacher",
          "Michael Schumacher",
          "Michael Schumacher",
          "Damon Hill",
          "Michael Schumacher",
          "Michael Schumacher",
          "Michael Schumacher",
          "Michael Schumacher",
          "Damon Hill",
          "Damon Hill",
          "Damon Hill",
          "Damon Hill",
          "Damon Hill",
          "Michael Schumacher",
          "Damon Hill",
          "Damon Hill",
          "Damon Hill",
          "Michael Schumacher",
          "Michael Schumacher",
          "Damon Hill",
          "Michael Schumacher",
          "Michael Schumacher",
          "Michael Schumacher",
          "Michael Schumacher",
          "Michael Schumacher",
          "Mika Hakkinen",
          "Mika Hakkinen",
          "Mika Hakkinen",
          "Michael Schumacher",
          "Mika Hakkinen",
          "Mika Hakkinen",
          "Michael Schumacher",
          "Michael Schumacher",
          "Michael Schumacher",
          "Mika Hakkinen",
          "Mika Hakkinen",
          "Michael Schumacher",
          "Damon Hill",
          "Michael Schumacher",
          "Mika Hakkinen",
          "Mika Hakkinen",
          "Mika Hakkinen",
          "Michael Schumacher",
          "Michael Schumacher",
          "Mika Hakkinen",
          "Mika Hakkinen",
          "Mika Hakkinen",
          "Mika Hakkinen",
          "Michael Schumacher",
          "Michael Schumacher",
          "Michael Schumacher",
          "Mika Hakkinen",
          "Michael Schumacher",
          "Michael Schumacher",
          "Mika Hakkinen",
          "Mika Hakkinen",
          "Mika Hakkinen",
          "Michael Schumacher",
          "Michael Schumacher",
          "Michael Schumacher",
          "Michael Schumacher",
          "Michael Schumacher",
          "Michael Schumacher",
          "Michael Schumacher",
          "Michael Schumacher",
          "Michael Schumacher",
          "Michael Schumacher",
          "Mika Hakkinen",
          "Michael Schumacher",
          "Michael Schumacher",
          "Mika Hakkinen",
          "Michael Schumacher",
          "Michael Schumacher",
          "Michael Schumacher",
          "Michael Schumacher",
          "Michael Schumacher",
          "Michael Schumacher",
          "Michael Schumacher",
          "Michael Schumacher",
          "Michael Schumacher",
          "Michael Schumacher",
          "Michael Schumacher",
          "Michael Schumacher",
          "Kimi RÃ¤ikkÃ¶nen",
          "Michael Schumacher",
          "Michael Schumacher",
          "Michael Schumacher",
          "Michael Schumacher",
          "Fernando Alonso",
          "Michael Schumacher",
          "Michael Schumacher",
          "Michael Schumacher",
          "Michael Schumacher",
          "Michael Schumacher",
          "Michael Schumacher",
          "Michael Schumacher",
          "Michael Schumacher",
          "Michael Schumacher",
          "Michael Schumacher",
          "Michael Schumacher",
          "Michael Schumacher",
          "Michael Schumacher",
          "Michael Schumacher",
          "Kimi RÃ¤ikkÃ¶nen",
          "Michael Schumacher",
          "Fernando Alonso",
          "Fernando Alonso",
          "Fernando Alonso",
          "Kimi RÃ¤ikkÃ¶nen",
          "Kimi RÃ¤ikkÃ¶nen",
          "Fernando Alonso",
          "Kimi RÃ¤ikkÃ¶nen",
          "Michael Schumacher",
          "Fernando Alonso",
          "Fernando Alonso",
          "Kimi RÃ¤ikkÃ¶nen",
          "Kimi RÃ¤ikkÃ¶nen",
          "Kimi RÃ¤ikkÃ¶nen",
          "Kimi RÃ¤ikkÃ¶nen",
          "Fernando Alonso",
          "Fernando Alonso",
          "Fernando Alonso",
          "Michael Schumacher",
          "Michael Schumacher",
          "Fernando Alonso",
          "Fernando Alonso",
          "Fernando Alonso",
          "Fernando Alonso",
          "Michael Schumacher",
          "Michael Schumacher",
          "Michael Schumacher",
          "Jenson Button",
          "Michael Schumacher",
          "Michael Schumacher",
          "Fernando Alonso",
          "Kimi RÃ¤ikkÃ¶nen",
          "Fernando Alonso",
          "Fernando Alonso",
          "Lewis Hamilton",
          "Lewis Hamilton",
          "Kimi RÃ¤ikkÃ¶nen",
          "Kimi RÃ¤ikkÃ¶nen",
          "Fernando Alonso",
          "Lewis Hamilton",
          "Fernando Alonso",
          "Kimi RÃ¤ikkÃ¶nen",
          "Lewis Hamilton",
          "Kimi RÃ¤ikkÃ¶nen",
          "Kimi RÃ¤ikkÃ¶nen",
          "Lewis Hamilton",
          "Kimi RÃ¤ikkÃ¶nen",
          "Kimi RÃ¤ikkÃ¶nen",
          "Lewis Hamilton",
          "Lewis Hamilton",
          "Lewis Hamilton",
          "Sebastian Vettel",
          "Fernando Alonso",
          "Fernando Alonso",
          "Lewis Hamilton",
          "Jenson Button",
          "Jenson Button",
          "Sebastian Vettel",
          "Jenson Button",
          "Jenson Button",
          "Jenson Button",
          "Jenson Button",
          "Sebastian Vettel",
          "Lewis Hamilton",
          "Kimi RÃ¤ikkÃ¶nen",
          "Lewis Hamilton",
          "Sebastian Vettel",
          "Sebastian Vettel",
          "Fernando Alonso",
          "Jenson Button",
          "Sebastian Vettel",
          "Jenson Button",
          "Lewis Hamilton",
          "Lewis Hamilton",
          "Sebastian Vettel",
          "Fernando Alonso",
          "Lewis Hamilton",
          "Fernando Alonso",
          "Fernando Alonso",
          "Sebastian Vettel",
          "Fernando Alonso",
          "Sebastian Vettel",
          "Sebastian Vettel",
          "Sebastian Vettel",
          "Sebastian Vettel",
          "Lewis Hamilton",
          "Sebastian Vettel",
          "Sebastian Vettel",
          "Sebastian Vettel",
          "Jenson Button",
          "Sebastian Vettel",
          "Fernando Alonso",
          "Lewis Hamilton",
          "Jenson Button",
          "Sebastian Vettel",
          "Sebastian Vettel",
          "Sebastian Vettel",
          "Jenson Button",
          "Sebastian Vettel",
          "Sebastian Vettel",
          "Lewis Hamilton",
          "Jenson Button",
          "Fernando Alonso",
          "Nico Rosberg",
          "Sebastian Vettel",
          "Lewis Hamilton",
          "Fernando Alonso",
          "Fernando Alonso",
          "Lewis Hamilton",
          "Jenson Button",
          "Lewis Hamilton",
          "Sebastian Vettel",
          "Sebastian Vettel",
          "Sebastian Vettel",
          "Sebastian Vettel",
          "Kimi RÃ¤ikkÃ¶nen",
          "Lewis Hamilton",
          "Jenson Button",
          "Kimi RÃ¤ikkÃ¶nen",
          "Sebastian Vettel",
          "Fernando Alonso",
          "Sebastian Vettel",
          "Fernando Alonso",
          "Nico Rosberg",
          "Sebastian Vettel",
          "Nico Rosberg",
          "Sebastian Vettel",
          "Lewis Hamilton",
          "Sebastian Vettel",
          "Sebastian Vettel",
          "Sebastian Vettel",
          "Sebastian Vettel",
          "Sebastian Vettel",
          "Sebastian Vettel",
          "Sebastian Vettel",
          "Sebastian Vettel",
          "Sebastian Vettel",
          "Nico Rosberg",
          "Lewis Hamilton",
          "Lewis Hamilton",
          "Lewis Hamilton",
          "Lewis Hamilton",
          "Nico Rosberg",
          "Nico Rosberg",
          "Lewis Hamilton",
          "Nico Rosberg",
          "Lewis Hamilton",
          "Lewis Hamilton",
          "Lewis Hamilton",
          "Lewis Hamilton",
          "Nico Rosberg",
          "Lewis Hamilton",
          "Lewis Hamilton",
          "Sebastian Vettel",
          "Lewis Hamilton",
          "Lewis Hamilton",
          "Nico Rosberg",
          "Nico Rosberg",
          "Lewis Hamilton",
          "Nico Rosberg",
          "Lewis Hamilton",
          "Sebastian Vettel",
          "Lewis Hamilton",
          "Lewis Hamilton",
          "Sebastian Vettel",
          "Lewis Hamilton",
          "Lewis Hamilton",
          "Lewis Hamilton",
          "Nico Rosberg",
          "Nico Rosberg",
          "Nico Rosberg",
          "Nico Rosberg",
          "Nico Rosberg",
          "Nico Rosberg",
          "Nico Rosberg",
          "Max Verstappen",
          "Lewis Hamilton",
          "Lewis Hamilton",
          "Nico Rosberg",
          "Lewis Hamilton",
          "Lewis Hamilton",
          "Lewis Hamilton",
          "Lewis Hamilton",
          "Nico Rosberg",
          "Nico Rosberg",
          "Nico Rosberg",
          "Nico Rosberg",
          "Lewis Hamilton",
          "Lewis Hamilton",
          "Lewis Hamilton",
          "Lewis Hamilton",
          "Sebastian Vettel",
          "Lewis Hamilton",
          "Sebastian Vettel",
          "Lewis Hamilton",
          "Sebastian Vettel",
          "Lewis Hamilton",
          "Lewis Hamilton",
          "Sebastian Vettel",
          "Lewis Hamilton",
          "Lewis Hamilton",
          "Lewis Hamilton",
          "Max Verstappen",
          "Lewis Hamilton",
          "Lewis Hamilton",
          "Max Verstappen",
          "Sebastian Vettel",
          "Sebastian Vettel",
          "Sebastian Vettel",
          "Lewis Hamilton",
          "Lewis Hamilton",
          "Sebastian Vettel",
          "Lewis Hamilton",
          "Max Verstappen",
          "Sebastian Vettel",
          "Lewis Hamilton",
          "Lewis Hamilton",
          "Sebastian Vettel",
          "Lewis Hamilton",
          "Lewis Hamilton",
          "Lewis Hamilton",
          "Lewis Hamilton",
          "Kimi RÃ¤ikkÃ¶nen",
          "Max Verstappen",
          "Lewis Hamilton",
          "Lewis Hamilton",
          "Lewis Hamilton",
          "Lewis Hamilton",
          "Lewis Hamilton",
          "Lewis Hamilton",
          "Lewis Hamilton",
          "Lewis Hamilton",
          "Max Verstappen",
          "Lewis Hamilton",
          "Max Verstappen",
          "Lewis Hamilton",
          "Sebastian Vettel",
          "Lewis Hamilton",
          "Lewis Hamilton",
          "Max Verstappen",
          "Lewis Hamilton",
          "Lewis Hamilton",
          "Lewis Hamilton",
          "Lewis Hamilton",
          "Max Verstappen",
          "Lewis Hamilton",
          "Lewis Hamilton",
          "Lewis Hamilton",
          "Lewis Hamilton",
          "Lewis Hamilton",
          "Lewis Hamilton",
          "Lewis Hamilton",
          "Lewis Hamilton",
          "Max Verstappen",
          "Lewis Hamilton",
          "Max Verstappen",
          "Lewis Hamilton",
          "Lewis Hamilton",
          "Max Verstappen",
          "Max Verstappen",
          "Max Verstappen",
          "Max Verstappen",
          "Lewis Hamilton",
          "Max Verstappen",
          "Max Verstappen",
          "Lewis Hamilton",
          "Max Verstappen",
          "Max Verstappen",
          "Lewis Hamilton",
          "Lewis Hamilton",
          "Lewis Hamilton",
          "Max Verstappen"
         ],
         "yaxis": "y"
        }
       ],
       "layout": {
        "barmode": "relative",
        "coloraxis": {
         "colorbar": {
          "title": {
           "text": "season"
          }
         },
         "colorscale": [
          [
           0,
           "#0d0887"
          ],
          [
           0.1111111111111111,
           "#46039f"
          ],
          [
           0.2222222222222222,
           "#7201a8"
          ],
          [
           0.3333333333333333,
           "#9c179e"
          ],
          [
           0.4444444444444444,
           "#bd3786"
          ],
          [
           0.5555555555555556,
           "#d8576b"
          ],
          [
           0.6666666666666666,
           "#ed7953"
          ],
          [
           0.7777777777777778,
           "#fb9f3a"
          ],
          [
           0.8888888888888888,
           "#fdca26"
          ],
          [
           1,
           "#f0f921"
          ]
         ]
        },
        "height": 600,
        "legend": {
         "tracegroupgap": 0
        },
        "template": {
         "data": {
          "bar": [
           {
            "error_x": {
             "color": "#2a3f5f"
            },
            "error_y": {
             "color": "#2a3f5f"
            },
            "marker": {
             "line": {
              "color": "#E5ECF6",
              "width": 0.5
             },
             "pattern": {
              "fillmode": "overlay",
              "size": 10,
              "solidity": 0.2
             }
            },
            "type": "bar"
           }
          ],
          "barpolar": [
           {
            "marker": {
             "line": {
              "color": "#E5ECF6",
              "width": 0.5
             },
             "pattern": {
              "fillmode": "overlay",
              "size": 10,
              "solidity": 0.2
             }
            },
            "type": "barpolar"
           }
          ],
          "carpet": [
           {
            "aaxis": {
             "endlinecolor": "#2a3f5f",
             "gridcolor": "white",
             "linecolor": "white",
             "minorgridcolor": "white",
             "startlinecolor": "#2a3f5f"
            },
            "baxis": {
             "endlinecolor": "#2a3f5f",
             "gridcolor": "white",
             "linecolor": "white",
             "minorgridcolor": "white",
             "startlinecolor": "#2a3f5f"
            },
            "type": "carpet"
           }
          ],
          "choropleth": [
           {
            "colorbar": {
             "outlinewidth": 0,
             "ticks": ""
            },
            "type": "choropleth"
           }
          ],
          "contour": [
           {
            "colorbar": {
             "outlinewidth": 0,
             "ticks": ""
            },
            "colorscale": [
             [
              0,
              "#0d0887"
             ],
             [
              0.1111111111111111,
              "#46039f"
             ],
             [
              0.2222222222222222,
              "#7201a8"
             ],
             [
              0.3333333333333333,
              "#9c179e"
             ],
             [
              0.4444444444444444,
              "#bd3786"
             ],
             [
              0.5555555555555556,
              "#d8576b"
             ],
             [
              0.6666666666666666,
              "#ed7953"
             ],
             [
              0.7777777777777778,
              "#fb9f3a"
             ],
             [
              0.8888888888888888,
              "#fdca26"
             ],
             [
              1,
              "#f0f921"
             ]
            ],
            "type": "contour"
           }
          ],
          "contourcarpet": [
           {
            "colorbar": {
             "outlinewidth": 0,
             "ticks": ""
            },
            "type": "contourcarpet"
           }
          ],
          "heatmap": [
           {
            "colorbar": {
             "outlinewidth": 0,
             "ticks": ""
            },
            "colorscale": [
             [
              0,
              "#0d0887"
             ],
             [
              0.1111111111111111,
              "#46039f"
             ],
             [
              0.2222222222222222,
              "#7201a8"
             ],
             [
              0.3333333333333333,
              "#9c179e"
             ],
             [
              0.4444444444444444,
              "#bd3786"
             ],
             [
              0.5555555555555556,
              "#d8576b"
             ],
             [
              0.6666666666666666,
              "#ed7953"
             ],
             [
              0.7777777777777778,
              "#fb9f3a"
             ],
             [
              0.8888888888888888,
              "#fdca26"
             ],
             [
              1,
              "#f0f921"
             ]
            ],
            "type": "heatmap"
           }
          ],
          "heatmapgl": [
           {
            "colorbar": {
             "outlinewidth": 0,
             "ticks": ""
            },
            "colorscale": [
             [
              0,
              "#0d0887"
             ],
             [
              0.1111111111111111,
              "#46039f"
             ],
             [
              0.2222222222222222,
              "#7201a8"
             ],
             [
              0.3333333333333333,
              "#9c179e"
             ],
             [
              0.4444444444444444,
              "#bd3786"
             ],
             [
              0.5555555555555556,
              "#d8576b"
             ],
             [
              0.6666666666666666,
              "#ed7953"
             ],
             [
              0.7777777777777778,
              "#fb9f3a"
             ],
             [
              0.8888888888888888,
              "#fdca26"
             ],
             [
              1,
              "#f0f921"
             ]
            ],
            "type": "heatmapgl"
           }
          ],
          "histogram": [
           {
            "marker": {
             "pattern": {
              "fillmode": "overlay",
              "size": 10,
              "solidity": 0.2
             }
            },
            "type": "histogram"
           }
          ],
          "histogram2d": [
           {
            "colorbar": {
             "outlinewidth": 0,
             "ticks": ""
            },
            "colorscale": [
             [
              0,
              "#0d0887"
             ],
             [
              0.1111111111111111,
              "#46039f"
             ],
             [
              0.2222222222222222,
              "#7201a8"
             ],
             [
              0.3333333333333333,
              "#9c179e"
             ],
             [
              0.4444444444444444,
              "#bd3786"
             ],
             [
              0.5555555555555556,
              "#d8576b"
             ],
             [
              0.6666666666666666,
              "#ed7953"
             ],
             [
              0.7777777777777778,
              "#fb9f3a"
             ],
             [
              0.8888888888888888,
              "#fdca26"
             ],
             [
              1,
              "#f0f921"
             ]
            ],
            "type": "histogram2d"
           }
          ],
          "histogram2dcontour": [
           {
            "colorbar": {
             "outlinewidth": 0,
             "ticks": ""
            },
            "colorscale": [
             [
              0,
              "#0d0887"
             ],
             [
              0.1111111111111111,
              "#46039f"
             ],
             [
              0.2222222222222222,
              "#7201a8"
             ],
             [
              0.3333333333333333,
              "#9c179e"
             ],
             [
              0.4444444444444444,
              "#bd3786"
             ],
             [
              0.5555555555555556,
              "#d8576b"
             ],
             [
              0.6666666666666666,
              "#ed7953"
             ],
             [
              0.7777777777777778,
              "#fb9f3a"
             ],
             [
              0.8888888888888888,
              "#fdca26"
             ],
             [
              1,
              "#f0f921"
             ]
            ],
            "type": "histogram2dcontour"
           }
          ],
          "mesh3d": [
           {
            "colorbar": {
             "outlinewidth": 0,
             "ticks": ""
            },
            "type": "mesh3d"
           }
          ],
          "parcoords": [
           {
            "line": {
             "colorbar": {
              "outlinewidth": 0,
              "ticks": ""
             }
            },
            "type": "parcoords"
           }
          ],
          "pie": [
           {
            "automargin": true,
            "type": "pie"
           }
          ],
          "scatter": [
           {
            "fillpattern": {
             "fillmode": "overlay",
             "size": 10,
             "solidity": 0.2
            },
            "type": "scatter"
           }
          ],
          "scatter3d": [
           {
            "line": {
             "colorbar": {
              "outlinewidth": 0,
              "ticks": ""
             }
            },
            "marker": {
             "colorbar": {
              "outlinewidth": 0,
              "ticks": ""
             }
            },
            "type": "scatter3d"
           }
          ],
          "scattercarpet": [
           {
            "marker": {
             "colorbar": {
              "outlinewidth": 0,
              "ticks": ""
             }
            },
            "type": "scattercarpet"
           }
          ],
          "scattergeo": [
           {
            "marker": {
             "colorbar": {
              "outlinewidth": 0,
              "ticks": ""
             }
            },
            "type": "scattergeo"
           }
          ],
          "scattergl": [
           {
            "marker": {
             "colorbar": {
              "outlinewidth": 0,
              "ticks": ""
             }
            },
            "type": "scattergl"
           }
          ],
          "scattermapbox": [
           {
            "marker": {
             "colorbar": {
              "outlinewidth": 0,
              "ticks": ""
             }
            },
            "type": "scattermapbox"
           }
          ],
          "scatterpolar": [
           {
            "marker": {
             "colorbar": {
              "outlinewidth": 0,
              "ticks": ""
             }
            },
            "type": "scatterpolar"
           }
          ],
          "scatterpolargl": [
           {
            "marker": {
             "colorbar": {
              "outlinewidth": 0,
              "ticks": ""
             }
            },
            "type": "scatterpolargl"
           }
          ],
          "scatterternary": [
           {
            "marker": {
             "colorbar": {
              "outlinewidth": 0,
              "ticks": ""
             }
            },
            "type": "scatterternary"
           }
          ],
          "surface": [
           {
            "colorbar": {
             "outlinewidth": 0,
             "ticks": ""
            },
            "colorscale": [
             [
              0,
              "#0d0887"
             ],
             [
              0.1111111111111111,
              "#46039f"
             ],
             [
              0.2222222222222222,
              "#7201a8"
             ],
             [
              0.3333333333333333,
              "#9c179e"
             ],
             [
              0.4444444444444444,
              "#bd3786"
             ],
             [
              0.5555555555555556,
              "#d8576b"
             ],
             [
              0.6666666666666666,
              "#ed7953"
             ],
             [
              0.7777777777777778,
              "#fb9f3a"
             ],
             [
              0.8888888888888888,
              "#fdca26"
             ],
             [
              1,
              "#f0f921"
             ]
            ],
            "type": "surface"
           }
          ],
          "table": [
           {
            "cells": {
             "fill": {
              "color": "#EBF0F8"
             },
             "line": {
              "color": "white"
             }
            },
            "header": {
             "fill": {
              "color": "#C8D4E3"
             },
             "line": {
              "color": "white"
             }
            },
            "type": "table"
           }
          ]
         },
         "layout": {
          "annotationdefaults": {
           "arrowcolor": "#2a3f5f",
           "arrowhead": 0,
           "arrowwidth": 1
          },
          "autotypenumbers": "strict",
          "coloraxis": {
           "colorbar": {
            "outlinewidth": 0,
            "ticks": ""
           }
          },
          "colorscale": {
           "diverging": [
            [
             0,
             "#8e0152"
            ],
            [
             0.1,
             "#c51b7d"
            ],
            [
             0.2,
             "#de77ae"
            ],
            [
             0.3,
             "#f1b6da"
            ],
            [
             0.4,
             "#fde0ef"
            ],
            [
             0.5,
             "#f7f7f7"
            ],
            [
             0.6,
             "#e6f5d0"
            ],
            [
             0.7,
             "#b8e186"
            ],
            [
             0.8,
             "#7fbc41"
            ],
            [
             0.9,
             "#4d9221"
            ],
            [
             1,
             "#276419"
            ]
           ],
           "sequential": [
            [
             0,
             "#0d0887"
            ],
            [
             0.1111111111111111,
             "#46039f"
            ],
            [
             0.2222222222222222,
             "#7201a8"
            ],
            [
             0.3333333333333333,
             "#9c179e"
            ],
            [
             0.4444444444444444,
             "#bd3786"
            ],
            [
             0.5555555555555556,
             "#d8576b"
            ],
            [
             0.6666666666666666,
             "#ed7953"
            ],
            [
             0.7777777777777778,
             "#fb9f3a"
            ],
            [
             0.8888888888888888,
             "#fdca26"
            ],
            [
             1,
             "#f0f921"
            ]
           ],
           "sequentialminus": [
            [
             0,
             "#0d0887"
            ],
            [
             0.1111111111111111,
             "#46039f"
            ],
            [
             0.2222222222222222,
             "#7201a8"
            ],
            [
             0.3333333333333333,
             "#9c179e"
            ],
            [
             0.4444444444444444,
             "#bd3786"
            ],
            [
             0.5555555555555556,
             "#d8576b"
            ],
            [
             0.6666666666666666,
             "#ed7953"
            ],
            [
             0.7777777777777778,
             "#fb9f3a"
            ],
            [
             0.8888888888888888,
             "#fdca26"
            ],
            [
             1,
             "#f0f921"
            ]
           ]
          },
          "colorway": [
           "#636efa",
           "#EF553B",
           "#00cc96",
           "#ab63fa",
           "#FFA15A",
           "#19d3f3",
           "#FF6692",
           "#B6E880",
           "#FF97FF",
           "#FECB52"
          ],
          "font": {
           "color": "#2a3f5f"
          },
          "geo": {
           "bgcolor": "white",
           "lakecolor": "white",
           "landcolor": "#E5ECF6",
           "showlakes": true,
           "showland": true,
           "subunitcolor": "white"
          },
          "hoverlabel": {
           "align": "left"
          },
          "hovermode": "closest",
          "mapbox": {
           "style": "light"
          },
          "paper_bgcolor": "white",
          "plot_bgcolor": "#E5ECF6",
          "polar": {
           "angularaxis": {
            "gridcolor": "white",
            "linecolor": "white",
            "ticks": ""
           },
           "bgcolor": "#E5ECF6",
           "radialaxis": {
            "gridcolor": "white",
            "linecolor": "white",
            "ticks": ""
           }
          },
          "scene": {
           "xaxis": {
            "backgroundcolor": "#E5ECF6",
            "gridcolor": "white",
            "gridwidth": 2,
            "linecolor": "white",
            "showbackground": true,
            "ticks": "",
            "zerolinecolor": "white"
           },
           "yaxis": {
            "backgroundcolor": "#E5ECF6",
            "gridcolor": "white",
            "gridwidth": 2,
            "linecolor": "white",
            "showbackground": true,
            "ticks": "",
            "zerolinecolor": "white"
           },
           "zaxis": {
            "backgroundcolor": "#E5ECF6",
            "gridcolor": "white",
            "gridwidth": 2,
            "linecolor": "white",
            "showbackground": true,
            "ticks": "",
            "zerolinecolor": "white"
           }
          },
          "shapedefaults": {
           "line": {
            "color": "#2a3f5f"
           }
          },
          "ternary": {
           "aaxis": {
            "gridcolor": "white",
            "linecolor": "white",
            "ticks": ""
           },
           "baxis": {
            "gridcolor": "white",
            "linecolor": "white",
            "ticks": ""
           },
           "bgcolor": "#E5ECF6",
           "caxis": {
            "gridcolor": "white",
            "linecolor": "white",
            "ticks": ""
           }
          },
          "title": {
           "x": 0.05
          },
          "xaxis": {
           "automargin": true,
           "gridcolor": "white",
           "linecolor": "white",
           "ticks": "",
           "title": {
            "standoff": 15
           },
           "zerolinecolor": "white",
           "zerolinewidth": 2
          },
          "yaxis": {
           "automargin": true,
           "gridcolor": "white",
           "linecolor": "white",
           "ticks": "",
           "title": {
            "standoff": 15
           },
           "zerolinecolor": "white",
           "zerolinewidth": 2
          }
         }
        },
        "title": {
         "text": "Biggest champions"
        },
        "width": 800,
        "xaxis": {
         "anchor": "y",
         "domain": [
          0,
          1
         ],
         "title": {
          "text": "Champion Name"
         }
        },
        "yaxis": {
         "anchor": "x",
         "domain": [
          0,
          1
         ],
         "title": {
          "text": "Number of Grand Prix won"
         }
        }
       }
      }
     },
     "metadata": {},
     "output_type": "display_data"
    }
   ],
   "source": [
    "counts = df['champion_name'].value_counts()\n",
    "top_10 = counts.head(20)\n",
    "top_10 = top_10.sort_values()\n",
    "df_top_10 = df[df['champion_name'].isin(top_10.index)]\n",
    "\n",
    "fig = px.bar(df_top_10, x='season', y='champion_name', color='season', \n",
    "             color_discrete_sequence=px.colors.sequential.Plasma,\n",
    "             height=600, width=800, title='Biggest champions')\n",
    "fig.update_layout(xaxis_title='Champion Name', yaxis_title='Number of Grand Prix won')\n",
    "fig.show()"
   ]
  },
  {
   "cell_type": "code",
   "execution_count": 73,
   "metadata": {},
   "outputs": [
    {
     "data": {
      "text/plain": [
       "Text(0.5, 1.0, 'Biggest champions')"
      ]
     },
     "execution_count": 73,
     "metadata": {},
     "output_type": "execute_result"
    },
    {
     "data": {
      "image/png": "[encoded data removed]",
      "text/plain": [
       "<Figure size 432x288 with 1 Axes>"
      ]
     },
     "metadata": {
      "needs_background": "light"
     },
     "output_type": "display_data"
    }
   ],
   "source": [
    "counts = df['champion_name'].value_counts()\n",
    "top_10 = counts.head(10)\n",
    "top_10 = top_10.sort_values()\n",
    "df_top_10 = df[df['champion_name'].isin(top_10.index)]\n",
    "sns.countplot(x='champion_name', data=df_top_10, order=top_10.index)\n",
    "plt.xticks(rotation=80)\n",
    "plt.xlabel('Champion Name')\n",
    "plt.ylabel('Number of Grand Prix won')\n",
    "plt.title('Biggest champions')"
   ]
  },
  {
   "cell_type": "code",
   "execution_count": 41,
   "metadata": {},
   "outputs": [
    {
     "data": {
      "application/vnd.plotly.v1+json": {
       "config": {
        "plotlyServerURL": "https://plot.ly"
       },
       "data": [
        {
         "alignmentgroup": "True",
         "hovertemplate": "raceName=%{x}<br>count=%{y}<br>season=%{marker.color}<extra></extra>",
         "legendgroup": "",
         "marker": {
          "color": [
           1950,
           1950,
           1950,
           1950,
           1950,
           1950,
           1950,
           1951,
           1951,
           1951,
           1951,
           1951,
           1951,
           1951,
           1951,
           1952,
           1952,
           1952,
           1952,
           1952,
           1952,
           1952,
           1952,
           1953,
           1953,
           1953,
           1953,
           1953,
           1953,
           1953,
           1953,
           1953,
           1954,
           1954,
           1954,
           1954,
           1954,
           1954,
           1954,
           1954,
           1954,
           1955,
           1955,
           1955,
           1955,
           1955,
           1955,
           1955,
           1956,
           1956,
           1956,
           1956,
           1956,
           1956,
           1956,
           1956,
           1957,
           1957,
           1957,
           1957,
           1957,
           1957,
           1957,
           1957,
           1958,
           1958,
           1958,
           1958,
           1958,
           1958,
           1958,
           1958,
           1958,
           1958,
           1958,
           1959,
           1959,
           1959,
           1959,
           1959,
           1959,
           1959,
           1959,
           1959,
           1960,
           1960,
           1960,
           1960,
           1960,
           1960,
           1960,
           1960,
           1960,
           1960,
           1961,
           1961,
           1961,
           1961,
           1961,
           1961,
           1961,
           1961,
           1962,
           1962,
           1962,
           1962,
           1962,
           1962,
           1962,
           1962,
           1962,
           1963,
           1963,
           1963,
           1963,
           1963,
           1963,
           1963,
           1963,
           1963,
           1963,
           1964,
           1964,
           1964,
           1964,
           1964,
           1964,
           1964,
           1964,
           1964,
           1964,
           1965,
           1965,
           1965,
           1965,
           1965,
           1965,
           1965,
           1965,
           1965,
           1965,
           1966,
           1966,
           1966,
           1966,
           1966,
           1966,
           1966,
           1966,
           1966,
           1967,
           1967,
           1967,
           1967,
           1967,
           1967,
           1967,
           1967,
           1967,
           1967,
           1967,
           1968,
           1968,
           1968,
           1968,
           1968,
           1968,
           1968,
           1968,
           1968,
           1968,
           1968,
           1968,
           1969,
           1969,
           1969,
           1969,
           1969,
           1969,
           1969,
           1969,
           1969,
           1969,
           1969,
           1970,
           1970,
           1970,
           1970,
           1970,
           1970,
           1970,
           1970,
           1970,
           1970,
           1970,
           1970,
           1970,
           1971,
           1971,
           1971,
           1971,
           1971,
           1971,
           1971,
           1971,
           1971,
           1971,
           1971,
           1972,
           1972,
           1972,
           1972,
           1972,
           1972,
           1972,
           1972,
           1972,
           1972,
           1972,
           1972,
           1973,
           1973,
           1973,
           1973,
           1973,
           1973,
           1973,
           1973,
           1973,
           1973,
           1973,
           1973,
           1973,
           1973,
           1973,
           1974,
           1974,
           1974,
           1974,
           1974,
           1974,
           1974,
           1974,
           1974,
           1974,
           1974,
           1974,
           1974,
           1974,
           1974,
           1975,
           1975,
           1975,
           1975,
           1975,
           1975,
           1975,
           1975,
           1975,
           1975,
           1975,
           1975,
           1975,
           1975,
           1976,
           1976,
           1976,
           1976,
           1976,
           1976,
           1976,
           1976,
           1976,
           1976,
           1976,
           1976,
           1976,
           1976,
           1976,
           1976,
           1977,
           1977,
           1977,
           1977,
           1977,
           1977,
           1977,
           1977,
           1977,
           1977,
           1977,
           1977,
           1977,
           1977,
           1977,
           1977,
           1977,
           1978,
           1978,
           1978,
           1978,
           1978,
           1978,
           1978,
           1978,
           1978,
           1978,
           1978,
           1978,
           1978,
           1978,
           1978,
           1978,
           1979,
           1979,
           1979,
           1979,
           1979,
           1979,
           1979,
           1979,
           1979,
           1979,
           1979,
           1979,
           1979,
           1979,
           1979,
           1980,
           1980,
           1980,
           1980,
           1980,
           1980,
           1980,
           1980,
           1980,
           1980,
           1980,
           1980,
           1980,
           1980,
           1981,
           1981,
           1981,
           1981,
           1981,
           1981,
           1981,
           1981,
           1981,
           1981,
           1981,
           1981,
           1981,
           1981,
           1981,
           1982,
           1982,
           1982,
           1982,
           1982,
           1982,
           1982,
           1982,
           1982,
           1982,
           1982,
           1982,
           1982,
           1982,
           1982,
           1982,
           1983,
           1983,
           1983,
           1983,
           1983,
           1983,
           1983,
           1983,
           1983,
           1983,
           1983,
           1983,
           1983,
           1983,
           1983,
           1984,
           1984,
           1984,
           1984,
           1984,
           1984,
           1984,
           1984,
           1984,
           1984,
           1984,
           1984,
           1984,
           1984,
           1984,
           1984,
           1985,
           1985,
           1985,
           1985,
           1985,
           1985,
           1985,
           1985,
           1985,
           1985,
           1985,
           1985,
           1985,
           1985,
           1985,
           1985,
           1986,
           1986,
           1986,
           1986,
           1986,
           1986,
           1986,
           1986,
           1986,
           1986,
           1986,
           1986,
           1986,
           1986,
           1986,
           1986,
           1987,
           1987,
           1987,
           1987,
           1987,
           1987,
           1987,
           1987,
           1987,
           1987,
           1987,
           1987,
           1987,
           1987,
           1987,
           1987,
           1988,
           1988,
           1988,
           1988,
           1988,
           1988,
           1988,
           1988,
           1988,
           1988,
           1988,
           1988,
           1988,
           1988,
           1988,
           1988,
           1989,
           1989,
           1989,
           1989,
           1989,
           1989,
           1989,
           1989,
           1989,
           1989,
           1989,
           1989,
           1989,
           1989,
           1989,
           1989,
           1990,
           1990,
           1990,
           1990,
           1990,
           1990,
           1990,
           1990,
           1990,
           1990,
           1990,
           1990,
           1990,
           1990,
           1990,
           1990,
           1991,
           1991,
           1991,
           1991,
           1991,
           1991,
           1991,
           1991,
           1991,
           1991,
           1991,
           1991,
           1991,
           1991,
           1991,
           1991,
           1992,
           1992,
           1992,
           1992,
           1992,
           1992,
           1992,
           1992,
           1992,
           1992,
           1992,
           1992,
           1992,
           1992,
           1992,
           1992,
           1993,
           1993,
           1993,
           1993,
           1993,
           1993,
           1993,
           1993,
           1993,
           1993,
           1993,
           1993,
           1993,
           1993,
           1993,
           1993,
           1994,
           1994,
           1994,
           1994,
           1994,
           1994,
           1994,
           1994,
           1994,
           1994,
           1994,
           1994,
           1994,
           1994,
           1994,
           1994,
           1995,
           1995,
           1995,
           1995,
           1995,
           1995,
           1995,
           1995,
           1995,
           1995,
           1995,
           1995,
           1995,
           1995,
           1995,
           1995,
           1995,
           1996,
           1996,
           1996,
           1996,
           1996,
           1996,
           1996,
           1996,
           1996,
           1996,
           1996,
           1996,
           1996,
           1996,
           1996,
           1996,
           1997,
           1997,
           1997,
           1997,
           1997,
           1997,
           1997,
           1997,
           1997,
           1997,
           1997,
           1997,
           1997,
           1997,
           1997,
           1997,
           1997,
           1998,
           1998,
           1998,
           1998,
           1998,
           1998,
           1998,
           1998,
           1998,
           1998,
           1998,
           1998,
           1998,
           1998,
           1998,
           1998,
           1999,
           1999,
           1999,
           1999,
           1999,
           1999,
           1999,
           1999,
           1999,
           1999,
           1999,
           1999,
           1999,
           1999,
           1999,
           1999,
           2000,
           2000,
           2000,
           2000,
           2000,
           2000,
           2000,
           2000,
           2000,
           2000,
           2000,
           2000,
           2000,
           2000,
           2000,
           2000,
           2000,
           2001,
           2001,
           2001,
           2001,
           2001,
           2001,
           2001,
           2001,
           2001,
           2001,
           2001,
           2001,
           2001,
           2001,
           2001,
           2001,
           2001,
           2002,
           2002,
           2002,
           2002,
           2002,
           2002,
           2002,
           2002,
           2002,
           2002,
           2002,
           2002,
           2002,
           2002,
           2002,
           2002,
           2002,
           2003,
           2003,
           2003,
           2003,
           2003,
           2003,
           2003,
           2003,
           2003,
           2003,
           2003,
           2003,
           2003,
           2003,
           2003,
           2003,
           2004,
           2004,
           2004,
           2004,
           2004,
           2004,
           2004,
           2004,
           2004,
           2004,
           2004,
           2004,
           2004,
           2004,
           2004,
           2004,
           2004,
           2004,
           2005,
           2005,
           2005,
           2005,
           2005,
           2005,
           2005,
           2005,
           2005,
           2005,
           2005,
           2005,
           2005,
           2005,
           2005,
           2005,
           2005,
           2005,
           2005,
           2006,
           2006,
           2006,
           2006,
           2006,
           2006,
           2006,
           2006,
           2006,
           2006,
           2006,
           2006,
           2006,
           2006,
           2006,
           2006,
           2006,
           2006,
           2007,
           2007,
           2007,
           2007,
           2007,
           2007,
           2007,
           2007,
           2007,
           2007,
           2007,
           2007,
           2007,
           2007,
           2007,
           2007,
           2007,
           2008,
           2008,
           2008,
           2008,
           2008,
           2008,
           2008,
           2008,
           2008,
           2008,
           2008,
           2008,
           2008,
           2008,
           2008,
           2008,
           2008,
           2008,
           2009,
           2009,
           2009,
           2009,
           2009,
           2009,
           2009,
           2009,
           2009,
           2009,
           2009,
           2009,
           2009,
           2009,
           2009,
           2009,
           2009,
           2010,
           2010,
           2010,
           2010,
           2010,
           2010,
           2010,
           2010,
           2010,
           2010,
           2010,
           2010,
           2010,
           2010,
           2010,
           2010,
           2010,
           2010,
           2010,
           2011,
           2011,
           2011,
           2011,
           2011,
           2011,
           2011,
           2011,
           2011,
           2011,
           2011,
           2011,
           2011,
           2011,
           2011,
           2011,
           2011,
           2011,
           2011,
           2012,
           2012,
           2012,
           2012,
           2012,
           2012,
           2012,
           2012,
           2012,
           2012,
           2012,
           2012,
           2012,
           2012,
           2012,
           2012,
           2012,
           2012,
           2012,
           2012,
           2013,
           2013,
           2013,
           2013,
           2013,
           2013,
           2013,
           2013,
           2013,
           2013,
           2013,
           2013,
           2013,
           2013,
           2013,
           2013,
           2013,
           2013,
           2013,
           2014,
           2014,
           2014,
           2014,
           2014,
           2014,
           2014,
           2014,
           2014,
           2014,
           2014,
           2014,
           2014,
           2014,
           2014,
           2014,
           2014,
           2014,
           2014,
           2015,
           2015,
           2015,
           2015,
           2015,
           2015,
           2015,
           2015,
           2015,
           2015,
           2015,
           2015,
           2015,
           2015,
           2015,
           2015,
           2015,
           2015,
           2015,
           2016,
           2016,
           2016,
           2016,
           2016,
           2016,
           2016,
           2016,
           2016,
           2016,
           2016,
           2016,
           2016,
           2016,
           2016,
           2016,
           2016,
           2016,
           2016,
           2016,
           2016,
           2017,
           2017,
           2017,
           2017,
           2017,
           2017,
           2017,
           2017,
           2017,
           2017,
           2017,
           2017,
           2017,
           2017,
           2017,
           2017,
           2017,
           2017,
           2017,
           2017,
           2018,
           2018,
           2018,
           2018,
           2018,
           2018,
           2018,
           2018,
           2018,
           2018,
           2018,
           2018,
           2018,
           2018,
           2018,
           2018,
           2018,
           2018,
           2018,
           2018,
           2018,
           2019,
           2019,
           2019,
           2019,
           2019,
           2019,
           2019,
           2019,
           2019,
           2019,
           2019,
           2019,
           2019,
           2019,
           2019,
           2019,
           2019,
           2019,
           2019,
           2019,
           2019,
           2020,
           2020,
           2020,
           2020,
           2020,
           2020,
           2020,
           2020,
           2020,
           2020,
           2020,
           2020,
           2020,
           2020,
           2020,
           2020,
           2020,
           2021,
           2021,
           2021,
           2021,
           2021,
           2021,
           2021,
           2021,
           2021,
           2021,
           2021,
           2021,
           2021,
           2021,
           2021,
           2021,
           2021,
           2021,
           2021,
           2021,
           2021,
           2021
          ],
          "coloraxis": "coloraxis",
          "pattern": {
           "shape": ""
          }
         },
         "name": "",
         "offsetgroup": "",
         "orientation": "v",
         "showlegend": false,
         "textposition": "auto",
         "type": "bar",
         "x": [
          "Belgian Grand Prix",
          "British Grand Prix",
          "French Grand Prix",
          "Indianapolis 500",
          "Italian Grand Prix",
          "Monaco Grand Prix",
          "Swiss Grand Prix",
          "Belgian Grand Prix",
          "British Grand Prix",
          "French Grand Prix",
          "German Grand Prix",
          "Indianapolis 500",
          "Italian Grand Prix",
          "Spanish Grand Prix",
          "Swiss Grand Prix",
          "Belgian Grand Prix",
          "British Grand Prix",
          "Dutch Grand Prix",
          "French Grand Prix",
          "German Grand Prix",
          "Indianapolis 500",
          "Italian Grand Prix",
          "Swiss Grand Prix",
          "Argentine Grand Prix",
          "Belgian Grand Prix",
          "British Grand Prix",
          "Dutch Grand Prix",
          "French Grand Prix",
          "German Grand Prix",
          "Indianapolis 500",
          "Italian Grand Prix",
          "Swiss Grand Prix",
          "Argentine Grand Prix",
          "Belgian Grand Prix",
          "British Grand Prix",
          "French Grand Prix",
          "German Grand Prix",
          "Indianapolis 500",
          "Italian Grand Prix",
          "Spanish Grand Prix",
          "Swiss Grand Prix",
          "Argentine Grand Prix",
          "Belgian Grand Prix",
          "British Grand Prix",
          "Dutch Grand Prix",
          "Indianapolis 500",
          "Italian Grand Prix",
          "Monaco Grand Prix",
          "Argentine Grand Prix",
          "Belgian Grand Prix",
          "British Grand Prix",
          "French Grand Prix",
          "German Grand Prix",
          "Indianapolis 500",
          "Italian Grand Prix",
          "Monaco Grand Prix",
          "Argentine Grand Prix",
          "British Grand Prix",
          "French Grand Prix",
          "German Grand Prix",
          "Indianapolis 500",
          "Italian Grand Prix",
          "Monaco Grand Prix",
          "Pescara Grand Prix",
          "Argentine Grand Prix",
          "Belgian Grand Prix",
          "British Grand Prix",
          "Dutch Grand Prix",
          "French Grand Prix",
          "German Grand Prix",
          "Indianapolis 500",
          "Italian Grand Prix",
          "Monaco Grand Prix",
          "Moroccan Grand Prix",
          "Portuguese Grand Prix",
          "British Grand Prix",
          "Dutch Grand Prix",
          "French Grand Prix",
          "German Grand Prix",
          "Indianapolis 500",
          "Italian Grand Prix",
          "Monaco Grand Prix",
          "Portuguese Grand Prix",
          "United States Grand Prix",
          "Argentine Grand Prix",
          "Belgian Grand Prix",
          "British Grand Prix",
          "Dutch Grand Prix",
          "French Grand Prix",
          "Indianapolis 500",
          "Italian Grand Prix",
          "Monaco Grand Prix",
          "Portuguese Grand Prix",
          "United States Grand Prix",
          "Belgian Grand Prix",
          "British Grand Prix",
          "Dutch Grand Prix",
          "French Grand Prix",
          "German Grand Prix",
          "Italian Grand Prix",
          "Monaco Grand Prix",
          "United States Grand Prix",
          "Belgian Grand Prix",
          "British Grand Prix",
          "Dutch Grand Prix",
          "French Grand Prix",
          "German Grand Prix",
          "Italian Grand Prix",
          "Monaco Grand Prix",
          "South African Grand Prix",
          "United States Grand Prix",
          "Belgian Grand Prix",
          "British Grand Prix",
          "Dutch Grand Prix",
          "French Grand Prix",
          "German Grand Prix",
          "Italian Grand Prix",
          "Mexican Grand Prix",
          "Monaco Grand Prix",
          "South African Grand Prix",
          "United States Grand Prix",
          "Austrian Grand Prix",
          "Belgian Grand Prix",
          "British Grand Prix",
          "Dutch Grand Prix",
          "French Grand Prix",
          "German Grand Prix",
          "Italian Grand Prix",
          "Mexican Grand Prix",
          "Monaco Grand Prix",
          "United States Grand Prix",
          "Belgian Grand Prix",
          "British Grand Prix",
          "Dutch Grand Prix",
          "French Grand Prix",
          "German Grand Prix",
          "Italian Grand Prix",
          "Mexican Grand Prix",
          "Monaco Grand Prix",
          "South African Grand Prix",
          "United States Grand Prix",
          "Belgian Grand Prix",
          "British Grand Prix",
          "Dutch Grand Prix",
          "French Grand Prix",
          "German Grand Prix",
          "Italian Grand Prix",
          "Mexican Grand Prix",
          "Monaco Grand Prix",
          "United States Grand Prix",
          "Belgian Grand Prix",
          "British Grand Prix",
          "Canadian Grand Prix",
          "Dutch Grand Prix",
          "French Grand Prix",
          "German Grand Prix",
          "Italian Grand Prix",
          "Mexican Grand Prix",
          "Monaco Grand Prix",
          "South African Grand Prix",
          "United States Grand Prix",
          "Belgian Grand Prix",
          "British Grand Prix",
          "Canadian Grand Prix",
          "Dutch Grand Prix",
          "French Grand Prix",
          "German Grand Prix",
          "Italian Grand Prix",
          "Mexican Grand Prix",
          "Monaco Grand Prix",
          "South African Grand Prix",
          "Spanish Grand Prix",
          "United States Grand Prix",
          "British Grand Prix",
          "Canadian Grand Prix",
          "Dutch Grand Prix",
          "French Grand Prix",
          "German Grand Prix",
          "Italian Grand Prix",
          "Mexican Grand Prix",
          "Monaco Grand Prix",
          "South African Grand Prix",
          "Spanish Grand Prix",
          "United States Grand Prix",
          "Austrian Grand Prix",
          "Belgian Grand Prix",
          "British Grand Prix",
          "Canadian Grand Prix",
          "Dutch Grand Prix",
          "French Grand Prix",
          "German Grand Prix",
          "Italian Grand Prix",
          "Mexican Grand Prix",
          "Monaco Grand Prix",
          "South African Grand Prix",
          "Spanish Grand Prix",
          "United States Grand Prix",
          "Austrian Grand Prix",
          "British Grand Prix",
          "Canadian Grand Prix",
          "Dutch Grand Prix",
          "French Grand Prix",
          "German Grand Prix",
          "Italian Grand Prix",
          "Monaco Grand Prix",
          "South African Grand Prix",
          "Spanish Grand Prix",
          "United States Grand Prix",
          "Argentine Grand Prix",
          "Austrian Grand Prix",
          "Belgian Grand Prix",
          "British Grand Prix",
          "Canadian Grand Prix",
          "French Grand Prix",
          "German Grand Prix",
          "Italian Grand Prix",
          "Monaco Grand Prix",
          "South African Grand Prix",
          "Spanish Grand Prix",
          "United States Grand Prix",
          "Argentine Grand Prix",
          "Austrian Grand Prix",
          "Belgian Grand Prix",
          "Brazilian Grand Prix",
          "British Grand Prix",
          "Canadian Grand Prix",
          "Dutch Grand Prix",
          "French Grand Prix",
          "German Grand Prix",
          "Italian Grand Prix",
          "Monaco Grand Prix",
          "South African Grand Prix",
          "Spanish Grand Prix",
          "Swedish Grand Prix",
          "United States Grand Prix",
          "Argentine Grand Prix",
          "Austrian Grand Prix",
          "Belgian Grand Prix",
          "Brazilian Grand Prix",
          "British Grand Prix",
          "Canadian Grand Prix",
          "Dutch Grand Prix",
          "French Grand Prix",
          "German Grand Prix",
          "Italian Grand Prix",
          "Monaco Grand Prix",
          "South African Grand Prix",
          "Spanish Grand Prix",
          "Swedish Grand Prix",
          "United States Grand Prix",
          "Argentine Grand Prix",
          "Austrian Grand Prix",
          "Belgian Grand Prix",
          "Brazilian Grand Prix",
          "British Grand Prix",
          "Dutch Grand Prix",
          "French Grand Prix",
          "German Grand Prix",
          "Italian Grand Prix",
          "Monaco Grand Prix",
          "South African Grand Prix",
          "Spanish Grand Prix",
          "Swedish Grand Prix",
          "United States Grand Prix",
          "Austrian Grand Prix",
          "Belgian Grand Prix",
          "Brazilian Grand Prix",
          "British Grand Prix",
          "Canadian Grand Prix",
          "Dutch Grand Prix",
          "French Grand Prix",
          "German Grand Prix",
          "Italian Grand Prix",
          "Japanese Grand Prix",
          "Monaco Grand Prix",
          "South African Grand Prix",
          "Spanish Grand Prix",
          "Swedish Grand Prix",
          "United States Grand Prix",
          "United States Grand Prix West",
          "Argentine Grand Prix",
          "Austrian Grand Prix",
          "Belgian Grand Prix",
          "Brazilian Grand Prix",
          "British Grand Prix",
          "Canadian Grand Prix",
          "Dutch Grand Prix",
          "French Grand Prix",
          "German Grand Prix",
          "Italian Grand Prix",
          "Japanese Grand Prix",
          "Monaco Grand Prix",
          "South African Grand Prix",
          "Spanish Grand Prix",
          "Swedish Grand Prix",
          "United States Grand Prix",
          "United States Grand Prix West",
          "Argentine Grand Prix",
          "Austrian Grand Prix",
          "Belgian Grand Prix",
          "Brazilian Grand Prix",
          "British Grand Prix",
          "Canadian Grand Prix",
          "Dutch Grand Prix",
          "French Grand Prix",
          "German Grand Prix",
          "Italian Grand Prix",
          "Monaco Grand Prix",
          "South African Grand Prix",
          "Spanish Grand Prix",
          "Swedish Grand Prix",
          "United States Grand Prix",
          "United States Grand Prix West",
          "Argentine Grand Prix",
          "Austrian Grand Prix",
          "Belgian Grand Prix",
          "Brazilian Grand Prix",
          "British Grand Prix",
          "Canadian Grand Prix",
          "Dutch Grand Prix",
          "French Grand Prix",
          "German Grand Prix",
          "Italian Grand Prix",
          "Monaco Grand Prix",
          "South African Grand Prix",
          "Spanish Grand Prix",
          "United States Grand Prix",
          "United States Grand Prix West",
          "Argentine Grand Prix",
          "Austrian Grand Prix",
          "Belgian Grand Prix",
          "Brazilian Grand Prix",
          "British Grand Prix",
          "Canadian Grand Prix",
          "Dutch Grand Prix",
          "French Grand Prix",
          "German Grand Prix",
          "Italian Grand Prix",
          "Monaco Grand Prix",
          "South African Grand Prix",
          "United States Grand Prix",
          "United States Grand Prix West",
          "Argentine Grand Prix",
          "Austrian Grand Prix",
          "Belgian Grand Prix",
          "Brazilian Grand Prix",
          "British Grand Prix",
          "Caesars Palace Grand Prix",
          "Canadian Grand Prix",
          "Dutch Grand Prix",
          "French Grand Prix",
          "German Grand Prix",
          "Italian Grand Prix",
          "Monaco Grand Prix",
          "San Marino Grand Prix",
          "Spanish Grand Prix",
          "United States Grand Prix West",
          "Austrian Grand Prix",
          "Belgian Grand Prix",
          "Brazilian Grand Prix",
          "British Grand Prix",
          "Caesars Palace Grand Prix",
          "Canadian Grand Prix",
          "Detroit Grand Prix",
          "Dutch Grand Prix",
          "French Grand Prix",
          "German Grand Prix",
          "Italian Grand Prix",
          "Monaco Grand Prix",
          "San Marino Grand Prix",
          "South African Grand Prix",
          "Swiss Grand Prix",
          "United States Grand Prix West",
          "Austrian Grand Prix",
          "Belgian Grand Prix",
          "Brazilian Grand Prix",
          "British Grand Prix",
          "Canadian Grand Prix",
          "Detroit Grand Prix",
          "Dutch Grand Prix",
          "European Grand Prix",
          "French Grand Prix",
          "German Grand Prix",
          "Italian Grand Prix",
          "Monaco Grand Prix",
          "San Marino Grand Prix",
          "South African Grand Prix",
          "United States Grand Prix West",
          "Austrian Grand Prix",
          "Belgian Grand Prix",
          "Brazilian Grand Prix",
          "British Grand Prix",
          "Canadian Grand Prix",
          "Dallas Grand Prix",
          "Detroit Grand Prix",
          "Dutch Grand Prix",
          "European Grand Prix",
          "French Grand Prix",
          "German Grand Prix",
          "Italian Grand Prix",
          "Monaco Grand Prix",
          "Portuguese Grand Prix",
          "San Marino Grand Prix",
          "South African Grand Prix",
          "Australian Grand Prix",
          "Austrian Grand Prix",
          "Belgian Grand Prix",
          "Brazilian Grand Prix",
          "British Grand Prix",
          "Canadian Grand Prix",
          "Detroit Grand Prix",
          "Dutch Grand Prix",
          "European Grand Prix",
          "French Grand Prix",
          "German Grand Prix",
          "Italian Grand Prix",
          "Monaco Grand Prix",
          "Portuguese Grand Prix",
          "San Marino Grand Prix",
          "South African Grand Prix",
          "Australian Grand Prix",
          "Austrian Grand Prix",
          "Belgian Grand Prix",
          "Brazilian Grand Prix",
          "British Grand Prix",
          "Canadian Grand Prix",
          "Detroit Grand Prix",
          "French Grand Prix",
          "German Grand Prix",
          "Hungarian Grand Prix",
          "Italian Grand Prix",
          "Mexican Grand Prix",
          "Monaco Grand Prix",
          "Portuguese Grand Prix",
          "San Marino Grand Prix",
          "Spanish Grand Prix",
          "Australian Grand Prix",
          "Austrian Grand Prix",
          "Belgian Grand Prix",
          "Brazilian Grand Prix",
          "British Grand Prix",
          "Detroit Grand Prix",
          "French Grand Prix",
          "German Grand Prix",
          "Hungarian Grand Prix",
          "Italian Grand Prix",
          "Japanese Grand Prix",
          "Mexican Grand Prix",
          "Monaco Grand Prix",
          "Portuguese Grand Prix",
          "San Marino Grand Prix",
          "Spanish Grand Prix",
          "Australian Grand Prix",
          "Belgian Grand Prix",
          "Brazilian Grand Prix",
          "British Grand Prix",
          "Canadian Grand Prix",
          "Detroit Grand Prix",
          "French Grand Prix",
          "German Grand Prix",
          "Hungarian Grand Prix",
          "Italian Grand Prix",
          "Japanese Grand Prix",
          "Mexican Grand Prix",
          "Monaco Grand Prix",
          "Portuguese Grand Prix",
          "San Marino Grand Prix",
          "Spanish Grand Prix",
          "Australian Grand Prix",
          "Belgian Grand Prix",
          "Brazilian Grand Prix",
          "British Grand Prix",
          "Canadian Grand Prix",
          "French Grand Prix",
          "German Grand Prix",
          "Hungarian Grand Prix",
          "Italian Grand Prix",
          "Japanese Grand Prix",
          "Mexican Grand Prix",
          "Monaco Grand Prix",
          "Portuguese Grand Prix",
          "San Marino Grand Prix",
          "Spanish Grand Prix",
          "United States Grand Prix",
          "Australian Grand Prix",
          "Belgian Grand Prix",
          "Brazilian Grand Prix",
          "British Grand Prix",
          "Canadian Grand Prix",
          "French Grand Prix",
          "German Grand Prix",
          "Hungarian Grand Prix",
          "Italian Grand Prix",
          "Japanese Grand Prix",
          "Mexican Grand Prix",
          "Monaco Grand Prix",
          "Portuguese Grand Prix",
          "San Marino Grand Prix",
          "Spanish Grand Prix",
          "United States Grand Prix",
          "Australian Grand Prix",
          "Belgian Grand Prix",
          "Brazilian Grand Prix",
          "British Grand Prix",
          "Canadian Grand Prix",
          "French Grand Prix",
          "German Grand Prix",
          "Hungarian Grand Prix",
          "Italian Grand Prix",
          "Japanese Grand Prix",
          "Mexican Grand Prix",
          "Monaco Grand Prix",
          "Portuguese Grand Prix",
          "San Marino Grand Prix",
          "Spanish Grand Prix",
          "United States Grand Prix",
          "Australian Grand Prix",
          "Belgian Grand Prix",
          "Brazilian Grand Prix",
          "British Grand Prix",
          "Canadian Grand Prix",
          "French Grand Prix",
          "German Grand Prix",
          "Hungarian Grand Prix",
          "Italian Grand Prix",
          "Japanese Grand Prix",
          "Mexican Grand Prix",
          "Monaco Grand Prix",
          "Portuguese Grand Prix",
          "San Marino Grand Prix",
          "South African Grand Prix",
          "Spanish Grand Prix",
          "Australian Grand Prix",
          "Belgian Grand Prix",
          "Brazilian Grand Prix",
          "British Grand Prix",
          "Canadian Grand Prix",
          "European Grand Prix",
          "French Grand Prix",
          "German Grand Prix",
          "Hungarian Grand Prix",
          "Italian Grand Prix",
          "Japanese Grand Prix",
          "Monaco Grand Prix",
          "Portuguese Grand Prix",
          "San Marino Grand Prix",
          "South African Grand Prix",
          "Spanish Grand Prix",
          "Australian Grand Prix",
          "Belgian Grand Prix",
          "Brazilian Grand Prix",
          "British Grand Prix",
          "Canadian Grand Prix",
          "European Grand Prix",
          "French Grand Prix",
          "German Grand Prix",
          "Hungarian Grand Prix",
          "Italian Grand Prix",
          "Japanese Grand Prix",
          "Monaco Grand Prix",
          "Pacific Grand Prix",
          "Portuguese Grand Prix",
          "San Marino Grand Prix",
          "Spanish Grand Prix",
          "Argentine Grand Prix",
          "Australian Grand Prix",
          "Belgian Grand Prix",
          "Brazilian Grand Prix",
          "British Grand Prix",
          "Canadian Grand Prix",
          "European Grand Prix",
          "French Grand Prix",
          "German Grand Prix",
          "Hungarian Grand Prix",
          "Italian Grand Prix",
          "Japanese Grand Prix",
          "Monaco Grand Prix",
          "Pacific Grand Prix",
          "Portuguese Grand Prix",
          "San Marino Grand Prix",
          "Spanish Grand Prix",
          "Argentine Grand Prix",
          "Australian Grand Prix",
          "Belgian Grand Prix",
          "Brazilian Grand Prix",
          "British Grand Prix",
          "Canadian Grand Prix",
          "European Grand Prix",
          "French Grand Prix",
          "German Grand Prix",
          "Hungarian Grand Prix",
          "Italian Grand Prix",
          "Japanese Grand Prix",
          "Monaco Grand Prix",
          "Portuguese Grand Prix",
          "San Marino Grand Prix",
          "Spanish Grand Prix",
          "Argentine Grand Prix",
          "Australian Grand Prix",
          "Austrian Grand Prix",
          "Belgian Grand Prix",
          "Brazilian Grand Prix",
          "British Grand Prix",
          "Canadian Grand Prix",
          "European Grand Prix",
          "French Grand Prix",
          "German Grand Prix",
          "Hungarian Grand Prix",
          "Italian Grand Prix",
          "Japanese Grand Prix",
          "Luxembourg Grand Prix",
          "Monaco Grand Prix",
          "San Marino Grand Prix",
          "Spanish Grand Prix",
          "Argentine Grand Prix",
          "Australian Grand Prix",
          "Austrian Grand Prix",
          "Belgian Grand Prix",
          "Brazilian Grand Prix",
          "British Grand Prix",
          "Canadian Grand Prix",
          "French Grand Prix",
          "German Grand Prix",
          "Hungarian Grand Prix",
          "Italian Grand Prix",
          "Japanese Grand Prix",
          "Luxembourg Grand Prix",
          "Monaco Grand Prix",
          "San Marino Grand Prix",
          "Spanish Grand Prix",
          "Australian Grand Prix",
          "Austrian Grand Prix",
          "Belgian Grand Prix",
          "Brazilian Grand Prix",
          "British Grand Prix",
          "Canadian Grand Prix",
          "European Grand Prix",
          "French Grand Prix",
          "German Grand Prix",
          "Hungarian Grand Prix",
          "Italian Grand Prix",
          "Japanese Grand Prix",
          "Malaysian Grand Prix",
          "Monaco Grand Prix",
          "San Marino Grand Prix",
          "Spanish Grand Prix",
          "Australian Grand Prix",
          "Austrian Grand Prix",
          "Belgian Grand Prix",
          "Brazilian Grand Prix",
          "British Grand Prix",
          "Canadian Grand Prix",
          "European Grand Prix",
          "French Grand Prix",
          "German Grand Prix",
          "Hungarian Grand Prix",
          "Italian Grand Prix",
          "Japanese Grand Prix",
          "Malaysian Grand Prix",
          "Monaco Grand Prix",
          "San Marino Grand Prix",
          "Spanish Grand Prix",
          "United States Grand Prix",
          "Australian Grand Prix",
          "Austrian Grand Prix",
          "Belgian Grand Prix",
          "Brazilian Grand Prix",
          "British Grand Prix",
          "Canadian Grand Prix",
          "European Grand Prix",
          "French Grand Prix",
          "German Grand Prix",
          "Hungarian Grand Prix",
          "Italian Grand Prix",
          "Japanese Grand Prix",
          "Malaysian Grand Prix",
          "Monaco Grand Prix",
          "San Marino Grand Prix",
          "Spanish Grand Prix",
          "United States Grand Prix",
          "Australian Grand Prix",
          "Austrian Grand Prix",
          "Belgian Grand Prix",
          "Brazilian Grand Prix",
          "British Grand Prix",
          "Canadian Grand Prix",
          "European Grand Prix",
          "French Grand Prix",
          "German Grand Prix",
          "Hungarian Grand Prix",
          "Italian Grand Prix",
          "Japanese Grand Prix",
          "Malaysian Grand Prix",
          "Monaco Grand Prix",
          "San Marino Grand Prix",
          "Spanish Grand Prix",
          "United States Grand Prix",
          "Australian Grand Prix",
          "Austrian Grand Prix",
          "Brazilian Grand Prix",
          "British Grand Prix",
          "Canadian Grand Prix",
          "European Grand Prix",
          "French Grand Prix",
          "German Grand Prix",
          "Hungarian Grand Prix",
          "Italian Grand Prix",
          "Japanese Grand Prix",
          "Malaysian Grand Prix",
          "Monaco Grand Prix",
          "San Marino Grand Prix",
          "Spanish Grand Prix",
          "United States Grand Prix",
          "Australian Grand Prix",
          "Bahrain Grand Prix",
          "Belgian Grand Prix",
          "Brazilian Grand Prix",
          "British Grand Prix",
          "Canadian Grand Prix",
          "Chinese Grand Prix",
          "European Grand Prix",
          "French Grand Prix",
          "German Grand Prix",
          "Hungarian Grand Prix",
          "Italian Grand Prix",
          "Japanese Grand Prix",
          "Malaysian Grand Prix",
          "Monaco Grand Prix",
          "San Marino Grand Prix",
          "Spanish Grand Prix",
          "United States Grand Prix",
          "Australian Grand Prix",
          "Bahrain Grand Prix",
          "Belgian Grand Prix",
          "Brazilian Grand Prix",
          "British Grand Prix",
          "Canadian Grand Prix",
          "Chinese Grand Prix",
          "European Grand Prix",
          "French Grand Prix",
          "German Grand Prix",
          "Hungarian Grand Prix",
          "Italian Grand Prix",
          "Japanese Grand Prix",
          "Malaysian Grand Prix",
          "Monaco Grand Prix",
          "San Marino Grand Prix",
          "Spanish Grand Prix",
          "Turkish Grand Prix",
          "United States Grand Prix",
          "Australian Grand Prix",
          "Bahrain Grand Prix",
          "Brazilian Grand Prix",
          "British Grand Prix",
          "Canadian Grand Prix",
          "Chinese Grand Prix",
          "European Grand Prix",
          "French Grand Prix",
          "German Grand Prix",
          "Hungarian Grand Prix",
          "Italian Grand Prix",
          "Japanese Grand Prix",
          "Malaysian Grand Prix",
          "Monaco Grand Prix",
          "San Marino Grand Prix",
          "Spanish Grand Prix",
          "Turkish Grand Prix",
          "United States Grand Prix",
          "Australian Grand Prix",
          "Bahrain Grand Prix",
          "Belgian Grand Prix",
          "Brazilian Grand Prix",
          "British Grand Prix",
          "Canadian Grand Prix",
          "Chinese Grand Prix",
          "European Grand Prix",
          "French Grand Prix",
          "Hungarian Grand Prix",
          "Italian Grand Prix",
          "Japanese Grand Prix",
          "Malaysian Grand Prix",
          "Monaco Grand Prix",
          "Spanish Grand Prix",
          "Turkish Grand Prix",
          "United States Grand Prix",
          "Australian Grand Prix",
          "Bahrain Grand Prix",
          "Belgian Grand Prix",
          "Brazilian Grand Prix",
          "British Grand Prix",
          "Canadian Grand Prix",
          "Chinese Grand Prix",
          "European Grand Prix",
          "French Grand Prix",
          "German Grand Prix",
          "Hungarian Grand Prix",
          "Italian Grand Prix",
          "Japanese Grand Prix",
          "Malaysian Grand Prix",
          "Monaco Grand Prix",
          "Singapore Grand Prix",
          "Spanish Grand Prix",
          "Turkish Grand Prix",
          "Abu Dhabi Grand Prix",
          "Australian Grand Prix",
          "Bahrain Grand Prix",
          "Belgian Grand Prix",
          "Brazilian Grand Prix",
          "British Grand Prix",
          "Chinese Grand Prix",
          "European Grand Prix",
          "German Grand Prix",
          "Hungarian Grand Prix",
          "Italian Grand Prix",
          "Japanese Grand Prix",
          "Malaysian Grand Prix",
          "Monaco Grand Prix",
          "Singapore Grand Prix",
          "Spanish Grand Prix",
          "Turkish Grand Prix",
          "Abu Dhabi Grand Prix",
          "Australian Grand Prix",
          "Bahrain Grand Prix",
          "Belgian Grand Prix",
          "Brazilian Grand Prix",
          "British Grand Prix",
          "Canadian Grand Prix",
          "Chinese Grand Prix",
          "European Grand Prix",
          "German Grand Prix",
          "Hungarian Grand Prix",
          "Italian Grand Prix",
          "Japanese Grand Prix",
          "Korean Grand Prix",
          "Malaysian Grand Prix",
          "Monaco Grand Prix",
          "Singapore Grand Prix",
          "Spanish Grand Prix",
          "Turkish Grand Prix",
          "Abu Dhabi Grand Prix",
          "Australian Grand Prix",
          "Belgian Grand Prix",
          "Brazilian Grand Prix",
          "British Grand Prix",
          "Canadian Grand Prix",
          "Chinese Grand Prix",
          "European Grand Prix",
          "German Grand Prix",
          "Hungarian Grand Prix",
          "Indian Grand Prix",
          "Italian Grand Prix",
          "Japanese Grand Prix",
          "Korean Grand Prix",
          "Malaysian Grand Prix",
          "Monaco Grand Prix",
          "Singapore Grand Prix",
          "Spanish Grand Prix",
          "Turkish Grand Prix",
          "Abu Dhabi Grand Prix",
          "Australian Grand Prix",
          "Bahrain Grand Prix",
          "Belgian Grand Prix",
          "Brazilian Grand Prix",
          "British Grand Prix",
          "Canadian Grand Prix",
          "Chinese Grand Prix",
          "European Grand Prix",
          "German Grand Prix",
          "Hungarian Grand Prix",
          "Indian Grand Prix",
          "Italian Grand Prix",
          "Japanese Grand Prix",
          "Korean Grand Prix",
          "Malaysian Grand Prix",
          "Monaco Grand Prix",
          "Singapore Grand Prix",
          "Spanish Grand Prix",
          "United States Grand Prix",
          "Abu Dhabi Grand Prix",
          "Australian Grand Prix",
          "Bahrain Grand Prix",
          "Belgian Grand Prix",
          "Brazilian Grand Prix",
          "British Grand Prix",
          "Canadian Grand Prix",
          "Chinese Grand Prix",
          "German Grand Prix",
          "Hungarian Grand Prix",
          "Indian Grand Prix",
          "Italian Grand Prix",
          "Japanese Grand Prix",
          "Korean Grand Prix",
          "Malaysian Grand Prix",
          "Monaco Grand Prix",
          "Singapore Grand Prix",
          "Spanish Grand Prix",
          "United States Grand Prix",
          "Abu Dhabi Grand Prix",
          "Australian Grand Prix",
          "Austrian Grand Prix",
          "Bahrain Grand Prix",
          "Belgian Grand Prix",
          "Brazilian Grand Prix",
          "British Grand Prix",
          "Canadian Grand Prix",
          "Chinese Grand Prix",
          "German Grand Prix",
          "Hungarian Grand Prix",
          "Italian Grand Prix",
          "Japanese Grand Prix",
          "Malaysian Grand Prix",
          "Monaco Grand Prix",
          "Russian Grand Prix",
          "Singapore Grand Prix",
          "Spanish Grand Prix",
          "United States Grand Prix",
          "Abu Dhabi Grand Prix",
          "Australian Grand Prix",
          "Austrian Grand Prix",
          "Bahrain Grand Prix",
          "Belgian Grand Prix",
          "Brazilian Grand Prix",
          "British Grand Prix",
          "Canadian Grand Prix",
          "Chinese Grand Prix",
          "Hungarian Grand Prix",
          "Italian Grand Prix",
          "Japanese Grand Prix",
          "Malaysian Grand Prix",
          "Mexican Grand Prix",
          "Monaco Grand Prix",
          "Russian Grand Prix",
          "Singapore Grand Prix",
          "Spanish Grand Prix",
          "United States Grand Prix",
          "Abu Dhabi Grand Prix",
          "Australian Grand Prix",
          "Austrian Grand Prix",
          "Bahrain Grand Prix",
          "Belgian Grand Prix",
          "Brazilian Grand Prix",
          "British Grand Prix",
          "Canadian Grand Prix",
          "Chinese Grand Prix",
          "European Grand Prix",
          "German Grand Prix",
          "Hungarian Grand Prix",
          "Italian Grand Prix",
          "Japanese Grand Prix",
          "Malaysian Grand Prix",
          "Mexican Grand Prix",
          "Monaco Grand Prix",
          "Russian Grand Prix",
          "Singapore Grand Prix",
          "Spanish Grand Prix",
          "United States Grand Prix",
          "Abu Dhabi Grand Prix",
          "Australian Grand Prix",
          "Austrian Grand Prix",
          "Azerbaijan Grand Prix",
          "Bahrain Grand Prix",
          "Belgian Grand Prix",
          "Brazilian Grand Prix",
          "British Grand Prix",
          "Canadian Grand Prix",
          "Chinese Grand Prix",
          "Hungarian Grand Prix",
          "Italian Grand Prix",
          "Japanese Grand Prix",
          "Malaysian Grand Prix",
          "Mexican Grand Prix",
          "Monaco Grand Prix",
          "Russian Grand Prix",
          "Singapore Grand Prix",
          "Spanish Grand Prix",
          "United States Grand Prix",
          "Abu Dhabi Grand Prix",
          "Australian Grand Prix",
          "Austrian Grand Prix",
          "Azerbaijan Grand Prix",
          "Bahrain Grand Prix",
          "Belgian Grand Prix",
          "Brazilian Grand Prix",
          "British Grand Prix",
          "Canadian Grand Prix",
          "Chinese Grand Prix",
          "French Grand Prix",
          "German Grand Prix",
          "Hungarian Grand Prix",
          "Italian Grand Prix",
          "Japanese Grand Prix",
          "Mexican Grand Prix",
          "Monaco Grand Prix",
          "Russian Grand Prix",
          "Singapore Grand Prix",
          "Spanish Grand Prix",
          "United States Grand Prix",
          "Abu Dhabi Grand Prix",
          "Australian Grand Prix",
          "Austrian Grand Prix",
          "Azerbaijan Grand Prix",
          "Bahrain Grand Prix",
          "Belgian Grand Prix",
          "Brazilian Grand Prix",
          "British Grand Prix",
          "Canadian Grand Prix",
          "Chinese Grand Prix",
          "French Grand Prix",
          "German Grand Prix",
          "Hungarian Grand Prix",
          "Italian Grand Prix",
          "Japanese Grand Prix",
          "Mexican Grand Prix",
          "Monaco Grand Prix",
          "Russian Grand Prix",
          "Singapore Grand Prix",
          "Spanish Grand Prix",
          "United States Grand Prix",
          "70th Anniversary Grand Prix",
          "Abu Dhabi Grand Prix",
          "Austrian Grand Prix",
          "Bahrain Grand Prix",
          "Belgian Grand Prix",
          "British Grand Prix",
          "Eifel Grand Prix",
          "Emilia Romagna Grand Prix",
          "Hungarian Grand Prix",
          "Italian Grand Prix",
          "Portuguese Grand Prix",
          "Russian Grand Prix",
          "Sakhir Grand Prix",
          "Spanish Grand Prix",
          "Styrian Grand Prix",
          "Turkish Grand Prix",
          "Tuscan Grand Prix",
          "Abu Dhabi Grand Prix",
          "Austrian Grand Prix",
          "Azerbaijan Grand Prix",
          "Bahrain Grand Prix",
          "Belgian Grand Prix",
          "British Grand Prix",
          "Dutch Grand Prix",
          "Emilia Romagna Grand Prix",
          "French Grand Prix",
          "Hungarian Grand Prix",
          "Italian Grand Prix",
          "Mexico City Grand Prix",
          "Monaco Grand Prix",
          "Portuguese Grand Prix",
          "Qatar Grand Prix",
          "Russian Grand Prix",
          "Saudi Arabian Grand Prix",
          "Spanish Grand Prix",
          "Styrian Grand Prix",
          "São Paulo Grand Prix",
          "Turkish Grand Prix",
          "United States Grand Prix"
         ],
         "xaxis": "x",
         "y": [
          1,
          1,
          1,
          1,
          1,
          1,
          1,
          1,
          1,
          1,
          1,
          1,
          1,
          1,
          1,
          1,
          1,
          1,
          1,
          1,
          1,
          1,
          1,
          1,
          1,
          1,
          1,
          1,
          1,
          1,
          1,
          1,
          1,
          1,
          1,
          1,
          1,
          1,
          1,
          1,
          1,
          1,
          1,
          1,
          1,
          1,
          1,
          1,
          1,
          1,
          1,
          1,
          1,
          1,
          1,
          1,
          1,
          1,
          1,
          1,
          1,
          1,
          1,
          1,
          1,
          1,
          1,
          1,
          1,
          1,
          1,
          1,
          1,
          1,
          1,
          1,
          1,
          1,
          1,
          1,
          1,
          1,
          1,
          1,
          1,
          1,
          1,
          1,
          1,
          1,
          1,
          1,
          1,
          1,
          1,
          1,
          1,
          1,
          1,
          1,
          1,
          1,
          1,
          1,
          1,
          1,
          1,
          1,
          1,
          1,
          1,
          1,
          1,
          1,
          1,
          1,
          1,
          1,
          1,
          1,
          1,
          1,
          1,
          1,
          1,
          1,
          1,
          1,
          1,
          1,
          1,
          1,
          1,
          1,
          1,
          1,
          1,
          1,
          1,
          1,
          1,
          1,
          1,
          1,
          1,
          1,
          1,
          1,
          1,
          1,
          1,
          1,
          1,
          1,
          1,
          1,
          1,
          1,
          1,
          1,
          1,
          1,
          1,
          1,
          1,
          1,
          1,
          1,
          1,
          1,
          1,
          1,
          1,
          1,
          1,
          1,
          1,
          1,
          1,
          1,
          1,
          1,
          1,
          1,
          1,
          1,
          1,
          1,
          1,
          1,
          1,
          1,
          1,
          1,
          1,
          1,
          1,
          1,
          1,
          1,
          1,
          1,
          1,
          1,
          1,
          1,
          1,
          1,
          1,
          1,
          1,
          1,
          1,
          1,
          1,
          1,
          1,
          1,
          1,
          1,
          1,
          1,
          1,
          1,
          1,
          1,
          1,
          1,
          1,
          1,
          1,
          1,
          1,
          1,
          1,
          1,
          1,
          1,
          1,
          1,
          1,
          1,
          1,
          1,
          1,
          1,
          1,
          1,
          1,
          1,
          1,
          1,
          1,
          1,
          1,
          1,
          1,
          1,
          1,
          1,
          1,
          1,
          1,
          1,
          1,
          1,
          1,
          1,
          1,
          1,
          1,
          1,
          1,
          1,
          1,
          1,
          1,
          1,
          1,
          1,
          1,
          1,
          1,
          1,
          1,
          1,
          1,
          1,
          1,
          1,
          1,
          1,
          1,
          1,
          1,
          1,
          1,
          1,
          1,
          1,
          1,
          1,
          1,
          1,
          1,
          1,
          1,
          1,
          1,
          1,
          1,
          1,
          1,
          1,
          1,
          1,
          1,
          1,
          1,
          1,
          1,
          1,
          1,
          1,
          1,
          1,
          1,
          1,
          1,
          1,
          1,
          1,
          1,
          1,
          1,
          1,
          1,
          1,
          1,
          1,
          1,
          1,
          1,
          1,
          1,
          1,
          1,
          1,
          1,
          1,
          1,
          1,
          1,
          1,
          1,
          1,
          1,
          1,
          1,
          1,
          1,
          1,
          1,
          1,
          1,
          1,
          1,
          1,
          1,
          1,
          1,
          1,
          1,
          1,
          1,
          1,
          1,
          1,
          1,
          1,
          1,
          1,
          1,
          1,
          1,
          1,
          1,
          1,
          1,
          1,
          1,
          1,
          1,
          1,
          1,
          1,
          1,
          1,
          1,
          1,
          1,
          1,
          1,
          1,
          1,
          1,
          1,
          1,
          1,
          1,
          1,
          1,
          1,
          1,
          1,
          1,
          1,
          1,
          1,
          1,
          1,
          1,
          1,
          1,
          1,
          1,
          1,
          1,
          1,
          1,
          1,
          1,
          1,
          1,
          1,
          1,
          1,
          1,
          1,
          1,
          1,
          1,
          1,
          1,
          1,
          1,
          1,
          1,
          1,
          1,
          1,
          1,
          1,
          1,
          1,
          1,
          1,
          1,
          1,
          1,
          1,
          1,
          1,
          1,
          1,
          1,
          1,
          1,
          1,
          1,
          1,
          1,
          1,
          1,
          1,
          1,
          1,
          1,
          1,
          1,
          1,
          1,
          1,
          1,
          1,
          1,
          1,
          1,
          1,
          1,
          1,
          1,
          1,
          1,
          1,
          1,
          1,
          1,
          1,
          1,
          1,
          1,
          1,
          1,
          1,
          1,
          1,
          1,
          1,
          1,
          1,
          1,
          1,
          1,
          1,
          1,
          1,
          1,
          1,
          1,
          1,
          1,
          1,
          1,
          1,
          1,
          1,
          1,
          1,
          1,
          1,
          1,
          1,
          1,
          1,
          1,
          1,
          1,
          1,
          1,
          1,
          1,
          1,
          1,
          1,
          1,
          1,
          1,
          1,
          1,
          1,
          1,
          1,
          1,
          1,
          1,
          1,
          1,
          1,
          1,
          1,
          1,
          1,
          1,
          1,
          1,
          1,
          1,
          1,
          1,
          1,
          1,
          1,
          1,
          1,
          1,
          1,
          1,
          1,
          1,
          1,
          1,
          1,
          1,
          1,
          1,
          1,
          1,
          1,
          1,
          1,
          1,
          1,
          1,
          1,
          1,
          1,
          1,
          1,
          1,
          1,
          1,
          1,
          1,
          1,
          1,
          1,
          1,
          1,
          1,
          1,
          1,
          1,
          1,
          1,
          1,
          1,
          1,
          1,
          1,
          1,
          1,
          1,
          1,
          1,
          1,
          1,
          1,
          1,
          1,
          1,
          1,
          1,
          1,
          1,
          1,
          1,
          1,
          1,
          1,
          1,
          1,
          1,
          1,
          1,
          1,
          1,
          1,
          1,
          1,
          1,
          1,
          1,
          1,
          1,
          1,
          1,
          1,
          1,
          1,
          1,
          1,
          1,
          1,
          1,
          1,
          1,
          1,
          1,
          1,
          1,
          1,
          1,
          1,
          1,
          1,
          1,
          1,
          1,
          1,
          1,
          1,
          1,
          1,
          1,
          1,
          1,
          1,
          1,
          1,
          1,
          1,
          1,
          1,
          1,
          1,
          1,
          1,
          1,
          1,
          1,
          1,
          1,
          1,
          1,
          1,
          1,
          1,
          1,
          1,
          1,
          1,
          1,
          1,
          1,
          1,
          1,
          1,
          1,
          1,
          1,
          1,
          1,
          1,
          1,
          1,
          1,
          1,
          1,
          1,
          1,
          1,
          1,
          1,
          1,
          1,
          1,
          1,
          1,
          1,
          1,
          1,
          1,
          1,
          1,
          1,
          1,
          1,
          1,
          1,
          1,
          1,
          1,
          1,
          1,
          1,
          1,
          1,
          1,
          1,
          1,
          1,
          1,
          1,
          1,
          1,
          1,
          1,
          1,
          1,
          1,
          1,
          1,
          1,
          1,
          1,
          1,
          1,
          1,
          1,
          1,
          1,
          1,
          1,
          1,
          1,
          1,
          1,
          1,
          1,
          1,
          1,
          1,
          1,
          1,
          1,
          1,
          1,
          1,
          1,
          1,
          1,
          1,
          1,
          1,
          1,
          1,
          1,
          1,
          1,
          1,
          1,
          1,
          1,
          1,
          1,
          1,
          1,
          1,
          1,
          1,
          1,
          1,
          1,
          1,
          1,
          1,
          1,
          1,
          1,
          1,
          1,
          1,
          1,
          1,
          1,
          1,
          1,
          1,
          1,
          1,
          1,
          1,
          1,
          1,
          1,
          1,
          1,
          1,
          1,
          1,
          1,
          1,
          1,
          1,
          1,
          1,
          1,
          1,
          1,
          1,
          1,
          1,
          1,
          1,
          1,
          1,
          1,
          1,
          1,
          1,
          1,
          1,
          1,
          1,
          1,
          1,
          1,
          1,
          1,
          1,
          1,
          1,
          1,
          1,
          1,
          1,
          1,
          1,
          1,
          1,
          1,
          1,
          1,
          1,
          1,
          1,
          1,
          1,
          1,
          1,
          1,
          1,
          1,
          1,
          1,
          1,
          1,
          1,
          1,
          1,
          1,
          1,
          1,
          1,
          1,
          1,
          1,
          1,
          1,
          1,
          1,
          1,
          1,
          1,
          1,
          1,
          1,
          1,
          1,
          1,
          1,
          1,
          1,
          1,
          1,
          1,
          1,
          1,
          1,
          1,
          1,
          1,
          1,
          1,
          1,
          1,
          1,
          1,
          1,
          1,
          1,
          1,
          1,
          1,
          1,
          1,
          1,
          1,
          1,
          1,
          1,
          1,
          1,
          1,
          1,
          1,
          1,
          1,
          1,
          1,
          1,
          1,
          1,
          1,
          1,
          1,
          1,
          1,
          1,
          1,
          1,
          1,
          1,
          1,
          1,
          1,
          1,
          1,
          1,
          1,
          1,
          1,
          1,
          1,
          1,
          1,
          1,
          1,
          1,
          1,
          1,
          1,
          1,
          1,
          1,
          1,
          1,
          1,
          1,
          1,
          1,
          1,
          1,
          1,
          1,
          1,
          1,
          1,
          1,
          1,
          1,
          1,
          1,
          1,
          1,
          1,
          1,
          1,
          1,
          1,
          1,
          1,
          1,
          1,
          1,
          1,
          1,
          1,
          1,
          1,
          1,
          1,
          1,
          1,
          1,
          1,
          1,
          1,
          1,
          1,
          1,
          1,
          1,
          1,
          1,
          1
         ],
         "yaxis": "y"
        }
       ],
       "layout": {
        "barmode": "relative",
        "coloraxis": {
         "colorbar": {
          "title": {
           "text": "season"
          }
         },
         "colorscale": [
          [
           0,
           "#0d0887"
          ],
          [
           0.1111111111111111,
           "#46039f"
          ],
          [
           0.2222222222222222,
           "#7201a8"
          ],
          [
           0.3333333333333333,
           "#9c179e"
          ],
          [
           0.4444444444444444,
           "#bd3786"
          ],
          [
           0.5555555555555556,
           "#d8576b"
          ],
          [
           0.6666666666666666,
           "#ed7953"
          ],
          [
           0.7777777777777778,
           "#fb9f3a"
          ],
          [
           0.8888888888888888,
           "#fdca26"
          ],
          [
           1,
           "#f0f921"
          ]
         ]
        },
        "height": 600,
        "legend": {
         "tracegroupgap": 0
        },
        "margin": {
         "t": 60
        },
        "showlegend": false,
        "template": {
         "data": {
          "bar": [
           {
            "error_x": {
             "color": "#2a3f5f"
            },
            "error_y": {
             "color": "#2a3f5f"
            },
            "marker": {
             "line": {
              "color": "#E5ECF6",
              "width": 0.5
             },
             "pattern": {
              "fillmode": "overlay",
              "size": 10,
              "solidity": 0.2
             }
            },
            "type": "bar"
           }
          ],
          "barpolar": [
           {
            "marker": {
             "line": {
              "color": "#E5ECF6",
              "width": 0.5
             },
             "pattern": {
              "fillmode": "overlay",
              "size": 10,
              "solidity": 0.2
             }
            },
            "type": "barpolar"
           }
          ],
          "carpet": [
           {
            "aaxis": {
             "endlinecolor": "#2a3f5f",
             "gridcolor": "white",
             "linecolor": "white",
             "minorgridcolor": "white",
             "startlinecolor": "#2a3f5f"
            },
            "baxis": {
             "endlinecolor": "#2a3f5f",
             "gridcolor": "white",
             "linecolor": "white",
             "minorgridcolor": "white",
             "startlinecolor": "#2a3f5f"
            },
            "type": "carpet"
           }
          ],
          "choropleth": [
           {
            "colorbar": {
             "outlinewidth": 0,
             "ticks": ""
            },
            "type": "choropleth"
           }
          ],
          "contour": [
           {
            "colorbar": {
             "outlinewidth": 0,
             "ticks": ""
            },
            "colorscale": [
             [
              0,
              "#0d0887"
             ],
             [
              0.1111111111111111,
              "#46039f"
             ],
             [
              0.2222222222222222,
              "#7201a8"
             ],
             [
              0.3333333333333333,
              "#9c179e"
             ],
             [
              0.4444444444444444,
              "#bd3786"
             ],
             [
              0.5555555555555556,
              "#d8576b"
             ],
             [
              0.6666666666666666,
              "#ed7953"
             ],
             [
              0.7777777777777778,
              "#fb9f3a"
             ],
             [
              0.8888888888888888,
              "#fdca26"
             ],
             [
              1,
              "#f0f921"
             ]
            ],
            "type": "contour"
           }
          ],
          "contourcarpet": [
           {
            "colorbar": {
             "outlinewidth": 0,
             "ticks": ""
            },
            "type": "contourcarpet"
           }
          ],
          "heatmap": [
           {
            "colorbar": {
             "outlinewidth": 0,
             "ticks": ""
            },
            "colorscale": [
             [
              0,
              "#0d0887"
             ],
             [
              0.1111111111111111,
              "#46039f"
             ],
             [
              0.2222222222222222,
              "#7201a8"
             ],
             [
              0.3333333333333333,
              "#9c179e"
             ],
             [
              0.4444444444444444,
              "#bd3786"
             ],
             [
              0.5555555555555556,
              "#d8576b"
             ],
             [
              0.6666666666666666,
              "#ed7953"
             ],
             [
              0.7777777777777778,
              "#fb9f3a"
             ],
             [
              0.8888888888888888,
              "#fdca26"
             ],
             [
              1,
              "#f0f921"
             ]
            ],
            "type": "heatmap"
           }
          ],
          "heatmapgl": [
           {
            "colorbar": {
             "outlinewidth": 0,
             "ticks": ""
            },
            "colorscale": [
             [
              0,
              "#0d0887"
             ],
             [
              0.1111111111111111,
              "#46039f"
             ],
             [
              0.2222222222222222,
              "#7201a8"
             ],
             [
              0.3333333333333333,
              "#9c179e"
             ],
             [
              0.4444444444444444,
              "#bd3786"
             ],
             [
              0.5555555555555556,
              "#d8576b"
             ],
             [
              0.6666666666666666,
              "#ed7953"
             ],
             [
              0.7777777777777778,
              "#fb9f3a"
             ],
             [
              0.8888888888888888,
              "#fdca26"
             ],
             [
              1,
              "#f0f921"
             ]
            ],
            "type": "heatmapgl"
           }
          ],
          "histogram": [
           {
            "marker": {
             "pattern": {
              "fillmode": "overlay",
              "size": 10,
              "solidity": 0.2
             }
            },
            "type": "histogram"
           }
          ],
          "histogram2d": [
           {
            "colorbar": {
             "outlinewidth": 0,
             "ticks": ""
            },
            "colorscale": [
             [
              0,
              "#0d0887"
             ],
             [
              0.1111111111111111,
              "#46039f"
             ],
             [
              0.2222222222222222,
              "#7201a8"
             ],
             [
              0.3333333333333333,
              "#9c179e"
             ],
             [
              0.4444444444444444,
              "#bd3786"
             ],
             [
              0.5555555555555556,
              "#d8576b"
             ],
             [
              0.6666666666666666,
              "#ed7953"
             ],
             [
              0.7777777777777778,
              "#fb9f3a"
             ],
             [
              0.8888888888888888,
              "#fdca26"
             ],
             [
              1,
              "#f0f921"
             ]
            ],
            "type": "histogram2d"
           }
          ],
          "histogram2dcontour": [
           {
            "colorbar": {
             "outlinewidth": 0,
             "ticks": ""
            },
            "colorscale": [
             [
              0,
              "#0d0887"
             ],
             [
              0.1111111111111111,
              "#46039f"
             ],
             [
              0.2222222222222222,
              "#7201a8"
             ],
             [
              0.3333333333333333,
              "#9c179e"
             ],
             [
              0.4444444444444444,
              "#bd3786"
             ],
             [
              0.5555555555555556,
              "#d8576b"
             ],
             [
              0.6666666666666666,
              "#ed7953"
             ],
             [
              0.7777777777777778,
              "#fb9f3a"
             ],
             [
              0.8888888888888888,
              "#fdca26"
             ],
             [
              1,
              "#f0f921"
             ]
            ],
            "type": "histogram2dcontour"
           }
          ],
          "mesh3d": [
           {
            "colorbar": {
             "outlinewidth": 0,
             "ticks": ""
            },
            "type": "mesh3d"
           }
          ],
          "parcoords": [
           {
            "line": {
             "colorbar": {
              "outlinewidth": 0,
              "ticks": ""
             }
            },
            "type": "parcoords"
           }
          ],
          "pie": [
           {
            "automargin": true,
            "type": "pie"
           }
          ],
          "scatter": [
           {
            "fillpattern": {
             "fillmode": "overlay",
             "size": 10,
             "solidity": 0.2
            },
            "type": "scatter"
           }
          ],
          "scatter3d": [
           {
            "line": {
             "colorbar": {
              "outlinewidth": 0,
              "ticks": ""
             }
            },
            "marker": {
             "colorbar": {
              "outlinewidth": 0,
              "ticks": ""
             }
            },
            "type": "scatter3d"
           }
          ],
          "scattercarpet": [
           {
            "marker": {
             "colorbar": {
              "outlinewidth": 0,
              "ticks": ""
             }
            },
            "type": "scattercarpet"
           }
          ],
          "scattergeo": [
           {
            "marker": {
             "colorbar": {
              "outlinewidth": 0,
              "ticks": ""
             }
            },
            "type": "scattergeo"
           }
          ],
          "scattergl": [
           {
            "marker": {
             "colorbar": {
              "outlinewidth": 0,
              "ticks": ""
             }
            },
            "type": "scattergl"
           }
          ],
          "scattermapbox": [
           {
            "marker": {
             "colorbar": {
              "outlinewidth": 0,
              "ticks": ""
             }
            },
            "type": "scattermapbox"
           }
          ],
          "scatterpolar": [
           {
            "marker": {
             "colorbar": {
              "outlinewidth": 0,
              "ticks": ""
             }
            },
            "type": "scatterpolar"
           }
          ],
          "scatterpolargl": [
           {
            "marker": {
             "colorbar": {
              "outlinewidth": 0,
              "ticks": ""
             }
            },
            "type": "scatterpolargl"
           }
          ],
          "scatterternary": [
           {
            "marker": {
             "colorbar": {
              "outlinewidth": 0,
              "ticks": ""
             }
            },
            "type": "scatterternary"
           }
          ],
          "surface": [
           {
            "colorbar": {
             "outlinewidth": 0,
             "ticks": ""
            },
            "colorscale": [
             [
              0,
              "#0d0887"
             ],
             [
              0.1111111111111111,
              "#46039f"
             ],
             [
              0.2222222222222222,
              "#7201a8"
             ],
             [
              0.3333333333333333,
              "#9c179e"
             ],
             [
              0.4444444444444444,
              "#bd3786"
             ],
             [
              0.5555555555555556,
              "#d8576b"
             ],
             [
              0.6666666666666666,
              "#ed7953"
             ],
             [
              0.7777777777777778,
              "#fb9f3a"
             ],
             [
              0.8888888888888888,
              "#fdca26"
             ],
             [
              1,
              "#f0f921"
             ]
            ],
            "type": "surface"
           }
          ],
          "table": [
           {
            "cells": {
             "fill": {
              "color": "#EBF0F8"
             },
             "line": {
              "color": "white"
             }
            },
            "header": {
             "fill": {
              "color": "#C8D4E3"
             },
             "line": {
              "color": "white"
             }
            },
            "type": "table"
           }
          ]
         },
         "layout": {
          "annotationdefaults": {
           "arrowcolor": "#2a3f5f",
           "arrowhead": 0,
           "arrowwidth": 1
          },
          "autotypenumbers": "strict",
          "coloraxis": {
           "colorbar": {
            "outlinewidth": 0,
            "ticks": ""
           }
          },
          "colorscale": {
           "diverging": [
            [
             0,
             "#8e0152"
            ],
            [
             0.1,
             "#c51b7d"
            ],
            [
             0.2,
             "#de77ae"
            ],
            [
             0.3,
             "#f1b6da"
            ],
            [
             0.4,
             "#fde0ef"
            ],
            [
             0.5,
             "#f7f7f7"
            ],
            [
             0.6,
             "#e6f5d0"
            ],
            [
             0.7,
             "#b8e186"
            ],
            [
             0.8,
             "#7fbc41"
            ],
            [
             0.9,
             "#4d9221"
            ],
            [
             1,
             "#276419"
            ]
           ],
           "sequential": [
            [
             0,
             "#0d0887"
            ],
            [
             0.1111111111111111,
             "#46039f"
            ],
            [
             0.2222222222222222,
             "#7201a8"
            ],
            [
             0.3333333333333333,
             "#9c179e"
            ],
            [
             0.4444444444444444,
             "#bd3786"
            ],
            [
             0.5555555555555556,
             "#d8576b"
            ],
            [
             0.6666666666666666,
             "#ed7953"
            ],
            [
             0.7777777777777778,
             "#fb9f3a"
            ],
            [
             0.8888888888888888,
             "#fdca26"
            ],
            [
             1,
             "#f0f921"
            ]
           ],
           "sequentialminus": [
            [
             0,
             "#0d0887"
            ],
            [
             0.1111111111111111,
             "#46039f"
            ],
            [
             0.2222222222222222,
             "#7201a8"
            ],
            [
             0.3333333333333333,
             "#9c179e"
            ],
            [
             0.4444444444444444,
             "#bd3786"
            ],
            [
             0.5555555555555556,
             "#d8576b"
            ],
            [
             0.6666666666666666,
             "#ed7953"
            ],
            [
             0.7777777777777778,
             "#fb9f3a"
            ],
            [
             0.8888888888888888,
             "#fdca26"
            ],
            [
             1,
             "#f0f921"
            ]
           ]
          },
          "colorway": [
           "#636efa",
           "#EF553B",
           "#00cc96",
           "#ab63fa",
           "#FFA15A",
           "#19d3f3",
           "#FF6692",
           "#B6E880",
           "#FF97FF",
           "#FECB52"
          ],
          "font": {
           "color": "#2a3f5f"
          },
          "geo": {
           "bgcolor": "white",
           "lakecolor": "white",
           "landcolor": "#E5ECF6",
           "showlakes": true,
           "showland": true,
           "subunitcolor": "white"
          },
          "hoverlabel": {
           "align": "left"
          },
          "hovermode": "closest",
          "mapbox": {
           "style": "light"
          },
          "paper_bgcolor": "white",
          "plot_bgcolor": "#E5ECF6",
          "polar": {
           "angularaxis": {
            "gridcolor": "white",
            "linecolor": "white",
            "ticks": ""
           },
           "bgcolor": "#E5ECF6",
           "radialaxis": {
            "gridcolor": "white",
            "linecolor": "white",
            "ticks": ""
           }
          },
          "scene": {
           "xaxis": {
            "backgroundcolor": "#E5ECF6",
            "gridcolor": "white",
            "gridwidth": 2,
            "linecolor": "white",
            "showbackground": true,
            "ticks": "",
            "zerolinecolor": "white"
           },
           "yaxis": {
            "backgroundcolor": "#E5ECF6",
            "gridcolor": "white",
            "gridwidth": 2,
            "linecolor": "white",
            "showbackground": true,
            "ticks": "",
            "zerolinecolor": "white"
           },
           "zaxis": {
            "backgroundcolor": "#E5ECF6",
            "gridcolor": "white",
            "gridwidth": 2,
            "linecolor": "white",
            "showbackground": true,
            "ticks": "",
            "zerolinecolor": "white"
           }
          },
          "shapedefaults": {
           "line": {
            "color": "#2a3f5f"
           }
          },
          "ternary": {
           "aaxis": {
            "gridcolor": "white",
            "linecolor": "white",
            "ticks": ""
           },
           "baxis": {
            "gridcolor": "white",
            "linecolor": "white",
            "ticks": ""
           },
           "bgcolor": "#E5ECF6",
           "caxis": {
            "gridcolor": "white",
            "linecolor": "white",
            "ticks": ""
           }
          },
          "title": {
           "x": 0.05
          },
          "xaxis": {
           "automargin": true,
           "gridcolor": "white",
           "linecolor": "white",
           "ticks": "",
           "title": {
            "standoff": 15
           },
           "zerolinecolor": "white",
           "zerolinewidth": 2
          },
          "yaxis": {
           "automargin": true,
           "gridcolor": "white",
           "linecolor": "white",
           "ticks": "",
           "title": {
            "standoff": 15
           },
           "zerolinecolor": "white",
           "zerolinewidth": 2
          }
         }
        },
        "width": 1100,
        "xaxis": {
         "anchor": "y",
         "domain": [
          0,
          1
         ],
         "title": {
          "text": "raceName"
         }
        },
        "yaxis": {
         "anchor": "x",
         "domain": [
          0,
          1
         ],
         "title": {
          "text": "count"
         }
        }
       }
      }
     },
     "metadata": {},
     "output_type": "display_data"
    }
   ],
   "source": [
    "fig = px.bar(counts, x='raceName', y='count', color='season', height=600, width=1100)\n",
    "fig.update_layout(showlegend=False)\n",
    "fig.show()"
   ]
  },
  {
   "cell_type": "code",
   "execution_count": 77,
   "metadata": {},
   "outputs": [
    {
     "data": {
      "text/plain": [
       "Text(0.5, 1.0, 'Most Famous racetracks')"
      ]
     },
     "execution_count": 77,
     "metadata": {},
     "output_type": "execute_result"
    },
    {
     "data": {
      "image/png": "[encoded data removed]",
      "text/plain": [
       "<Figure size 432x288 with 1 Axes>"
      ]
     },
     "metadata": {
      "needs_background": "light"
     },
     "output_type": "display_data"
    }
   ],
   "source": [
    "counts = df['raceName'].value_counts()\n",
    "top_10 = counts.head(10)\n",
    "top_10 = top_10.sort_values()\n",
    "df_top_10 = df[df['raceName'].isin(top_10.index)]\n",
    "sns.countplot(x='raceName', data=df_top_10, order=top_10.index)\n",
    "plt.xticks(rotation=80)\n",
    "plt.xlabel('Race Track')\n",
    "plt.ylabel('Number of times raced')\n",
    "plt.title('Most Famous racetracks')"
   ]
  },
  {
   "cell_type": "code",
   "execution_count": 62,
   "metadata": {},
   "outputs": [
    {
     "data": {
      "application/vnd.plotly.v1+json": {
       "config": {
        "plotlyServerURL": "https://plot.ly"
       },
       "data": [
        {
         "alignmentgroup": "True",
         "hovertemplate": "champion_name=%{x}<br>count=%{marker.color}<extra></extra>",
         "legendgroup": "",
         "marker": {
          "color": [
           6,
           5,
           5,
           4,
           3,
           3,
           3,
           3,
           2,
           2
          ],
          "coloraxis": "coloraxis",
          "pattern": {
           "shape": ""
          }
         },
         "name": "",
         "offsetgroup": "",
         "orientation": "v",
         "showlegend": false,
         "text": [
          6,
          5,
          5,
          4,
          3,
          3,
          3,
          3,
          2,
          2
         ],
         "textposition": "auto",
         "type": "bar",
         "x": [
          "Ayrton Senna",
          "Graham Hill",
          "Michael Schumacher",
          "Alain Prost",
          "Nico Rosberg",
          "Lewis Hamilton",
          "Jackie Stewart",
          "Stirling Moss",
          "Juan Manuel Fangio",
          "Sebastian Vettel"
         ],
         "xaxis": "x",
         "y": [
          6,
          5,
          5,
          4,
          3,
          3,
          3,
          3,
          2,
          2
         ],
         "yaxis": "y"
        }
       ],
       "layout": {
        "barmode": "relative",
        "coloraxis": {
         "colorbar": {
          "title": {
           "text": "count"
          }
         },
         "colorscale": [
          [
           0,
           "#0d0887"
          ],
          [
           0.1111111111111111,
           "#46039f"
          ],
          [
           0.2222222222222222,
           "#7201a8"
          ],
          [
           0.3333333333333333,
           "#9c179e"
          ],
          [
           0.4444444444444444,
           "#bd3786"
          ],
          [
           0.5555555555555556,
           "#d8576b"
          ],
          [
           0.6666666666666666,
           "#ed7953"
          ],
          [
           0.7777777777777778,
           "#fb9f3a"
          ],
          [
           0.8888888888888888,
           "#fdca26"
          ],
          [
           1,
           "#f0f921"
          ]
         ]
        },
        "height": 500,
        "legend": {
         "tracegroupgap": 0
        },
        "margin": {
         "t": 60
        },
        "template": {
         "data": {
          "bar": [
           {
            "error_x": {
             "color": "#2a3f5f"
            },
            "error_y": {
             "color": "#2a3f5f"
            },
            "marker": {
             "line": {
              "color": "#E5ECF6",
              "width": 0.5
             },
             "pattern": {
              "fillmode": "overlay",
              "size": 10,
              "solidity": 0.2
             }
            },
            "type": "bar"
           }
          ],
          "barpolar": [
           {
            "marker": {
             "line": {
              "color": "#E5ECF6",
              "width": 0.5
             },
             "pattern": {
              "fillmode": "overlay",
              "size": 10,
              "solidity": 0.2
             }
            },
            "type": "barpolar"
           }
          ],
          "carpet": [
           {
            "aaxis": {
             "endlinecolor": "#2a3f5f",
             "gridcolor": "white",
             "linecolor": "white",
             "minorgridcolor": "white",
             "startlinecolor": "#2a3f5f"
            },
            "baxis": {
             "endlinecolor": "#2a3f5f",
             "gridcolor": "white",
             "linecolor": "white",
             "minorgridcolor": "white",
             "startlinecolor": "#2a3f5f"
            },
            "type": "carpet"
           }
          ],
          "choropleth": [
           {
            "colorbar": {
             "outlinewidth": 0,
             "ticks": ""
            },
            "type": "choropleth"
           }
          ],
          "contour": [
           {
            "colorbar": {
             "outlinewidth": 0,
             "ticks": ""
            },
            "colorscale": [
             [
              0,
              "#0d0887"
             ],
             [
              0.1111111111111111,
              "#46039f"
             ],
             [
              0.2222222222222222,
              "#7201a8"
             ],
             [
              0.3333333333333333,
              "#9c179e"
             ],
             [
              0.4444444444444444,
              "#bd3786"
             ],
             [
              0.5555555555555556,
              "#d8576b"
             ],
             [
              0.6666666666666666,
              "#ed7953"
             ],
             [
              0.7777777777777778,
              "#fb9f3a"
             ],
             [
              0.8888888888888888,
              "#fdca26"
             ],
             [
              1,
              "#f0f921"
             ]
            ],
            "type": "contour"
           }
          ],
          "contourcarpet": [
           {
            "colorbar": {
             "outlinewidth": 0,
             "ticks": ""
            },
            "type": "contourcarpet"
           }
          ],
          "heatmap": [
           {
            "colorbar": {
             "outlinewidth": 0,
             "ticks": ""
            },
            "colorscale": [
             [
              0,
              "#0d0887"
             ],
             [
              0.1111111111111111,
              "#46039f"
             ],
             [
              0.2222222222222222,
              "#7201a8"
             ],
             [
              0.3333333333333333,
              "#9c179e"
             ],
             [
              0.4444444444444444,
              "#bd3786"
             ],
             [
              0.5555555555555556,
              "#d8576b"
             ],
             [
              0.6666666666666666,
              "#ed7953"
             ],
             [
              0.7777777777777778,
              "#fb9f3a"
             ],
             [
              0.8888888888888888,
              "#fdca26"
             ],
             [
              1,
              "#f0f921"
             ]
            ],
            "type": "heatmap"
           }
          ],
          "heatmapgl": [
           {
            "colorbar": {
             "outlinewidth": 0,
             "ticks": ""
            },
            "colorscale": [
             [
              0,
              "#0d0887"
             ],
             [
              0.1111111111111111,
              "#46039f"
             ],
             [
              0.2222222222222222,
              "#7201a8"
             ],
             [
              0.3333333333333333,
              "#9c179e"
             ],
             [
              0.4444444444444444,
              "#bd3786"
             ],
             [
              0.5555555555555556,
              "#d8576b"
             ],
             [
              0.6666666666666666,
              "#ed7953"
             ],
             [
              0.7777777777777778,
              "#fb9f3a"
             ],
             [
              0.8888888888888888,
              "#fdca26"
             ],
             [
              1,
              "#f0f921"
             ]
            ],
            "type": "heatmapgl"
           }
          ],
          "histogram": [
           {
            "marker": {
             "pattern": {
              "fillmode": "overlay",
              "size": 10,
              "solidity": 0.2
             }
            },
            "type": "histogram"
           }
          ],
          "histogram2d": [
           {
            "colorbar": {
             "outlinewidth": 0,
             "ticks": ""
            },
            "colorscale": [
             [
              0,
              "#0d0887"
             ],
             [
              0.1111111111111111,
              "#46039f"
             ],
             [
              0.2222222222222222,
              "#7201a8"
             ],
             [
              0.3333333333333333,
              "#9c179e"
             ],
             [
              0.4444444444444444,
              "#bd3786"
             ],
             [
              0.5555555555555556,
              "#d8576b"
             ],
             [
              0.6666666666666666,
              "#ed7953"
             ],
             [
              0.7777777777777778,
              "#fb9f3a"
             ],
             [
              0.8888888888888888,
              "#fdca26"
             ],
             [
              1,
              "#f0f921"
             ]
            ],
            "type": "histogram2d"
           }
          ],
          "histogram2dcontour": [
           {
            "colorbar": {
             "outlinewidth": 0,
             "ticks": ""
            },
            "colorscale": [
             [
              0,
              "#0d0887"
             ],
             [
              0.1111111111111111,
              "#46039f"
             ],
             [
              0.2222222222222222,
              "#7201a8"
             ],
             [
              0.3333333333333333,
              "#9c179e"
             ],
             [
              0.4444444444444444,
              "#bd3786"
             ],
             [
              0.5555555555555556,
              "#d8576b"
             ],
             [
              0.6666666666666666,
              "#ed7953"
             ],
             [
              0.7777777777777778,
              "#fb9f3a"
             ],
             [
              0.8888888888888888,
              "#fdca26"
             ],
             [
              1,
              "#f0f921"
             ]
            ],
            "type": "histogram2dcontour"
           }
          ],
          "mesh3d": [
           {
            "colorbar": {
             "outlinewidth": 0,
             "ticks": ""
            },
            "type": "mesh3d"
           }
          ],
          "parcoords": [
           {
            "line": {
             "colorbar": {
              "outlinewidth": 0,
              "ticks": ""
             }
            },
            "type": "parcoords"
           }
          ],
          "pie": [
           {
            "automargin": true,
            "type": "pie"
           }
          ],
          "scatter": [
           {
            "fillpattern": {
             "fillmode": "overlay",
             "size": 10,
             "solidity": 0.2
            },
            "type": "scatter"
           }
          ],
          "scatter3d": [
           {
            "line": {
             "colorbar": {
              "outlinewidth": 0,
              "ticks": ""
             }
            },
            "marker": {
             "colorbar": {
              "outlinewidth": 0,
              "ticks": ""
             }
            },
            "type": "scatter3d"
           }
          ],
          "scattercarpet": [
           {
            "marker": {
             "colorbar": {
              "outlinewidth": 0,
              "ticks": ""
             }
            },
            "type": "scattercarpet"
           }
          ],
          "scattergeo": [
           {
            "marker": {
             "colorbar": {
              "outlinewidth": 0,
              "ticks": ""
             }
            },
            "type": "scattergeo"
           }
          ],
          "scattergl": [
           {
            "marker": {
             "colorbar": {
              "outlinewidth": 0,
              "ticks": ""
             }
            },
            "type": "scattergl"
           }
          ],
          "scattermapbox": [
           {
            "marker": {
             "colorbar": {
              "outlinewidth": 0,
              "ticks": ""
             }
            },
            "type": "scattermapbox"
           }
          ],
          "scatterpolar": [
           {
            "marker": {
             "colorbar": {
              "outlinewidth": 0,
              "ticks": ""
             }
            },
            "type": "scatterpolar"
           }
          ],
          "scatterpolargl": [
           {
            "marker": {
             "colorbar": {
              "outlinewidth": 0,
              "ticks": ""
             }
            },
            "type": "scatterpolargl"
           }
          ],
          "scatterternary": [
           {
            "marker": {
             "colorbar": {
              "outlinewidth": 0,
              "ticks": ""
             }
            },
            "type": "scatterternary"
           }
          ],
          "surface": [
           {
            "colorbar": {
             "outlinewidth": 0,
             "ticks": ""
            },
            "colorscale": [
             [
              0,
              "#0d0887"
             ],
             [
              0.1111111111111111,
              "#46039f"
             ],
             [
              0.2222222222222222,
              "#7201a8"
             ],
             [
              0.3333333333333333,
              "#9c179e"
             ],
             [
              0.4444444444444444,
              "#bd3786"
             ],
             [
              0.5555555555555556,
              "#d8576b"
             ],
             [
              0.6666666666666666,
              "#ed7953"
             ],
             [
              0.7777777777777778,
              "#fb9f3a"
             ],
             [
              0.8888888888888888,
              "#fdca26"
             ],
             [
              1,
              "#f0f921"
             ]
            ],
            "type": "surface"
           }
          ],
          "table": [
           {
            "cells": {
             "fill": {
              "color": "#EBF0F8"
             },
             "line": {
              "color": "white"
             }
            },
            "header": {
             "fill": {
              "color": "#C8D4E3"
             },
             "line": {
              "color": "white"
             }
            },
            "type": "table"
           }
          ]
         },
         "layout": {
          "annotationdefaults": {
           "arrowcolor": "#2a3f5f",
           "arrowhead": 0,
           "arrowwidth": 1
          },
          "autotypenumbers": "strict",
          "coloraxis": {
           "colorbar": {
            "outlinewidth": 0,
            "ticks": ""
           }
          },
          "colorscale": {
           "diverging": [
            [
             0,
             "#8e0152"
            ],
            [
             0.1,
             "#c51b7d"
            ],
            [
             0.2,
             "#de77ae"
            ],
            [
             0.3,
             "#f1b6da"
            ],
            [
             0.4,
             "#fde0ef"
            ],
            [
             0.5,
             "#f7f7f7"
            ],
            [
             0.6,
             "#e6f5d0"
            ],
            [
             0.7,
             "#b8e186"
            ],
            [
             0.8,
             "#7fbc41"
            ],
            [
             0.9,
             "#4d9221"
            ],
            [
             1,
             "#276419"
            ]
           ],
           "sequential": [
            [
             0,
             "#0d0887"
            ],
            [
             0.1111111111111111,
             "#46039f"
            ],
            [
             0.2222222222222222,
             "#7201a8"
            ],
            [
             0.3333333333333333,
             "#9c179e"
            ],
            [
             0.4444444444444444,
             "#bd3786"
            ],
            [
             0.5555555555555556,
             "#d8576b"
            ],
            [
             0.6666666666666666,
             "#ed7953"
            ],
            [
             0.7777777777777778,
             "#fb9f3a"
            ],
            [
             0.8888888888888888,
             "#fdca26"
            ],
            [
             1,
             "#f0f921"
            ]
           ],
           "sequentialminus": [
            [
             0,
             "#0d0887"
            ],
            [
             0.1111111111111111,
             "#46039f"
            ],
            [
             0.2222222222222222,
             "#7201a8"
            ],
            [
             0.3333333333333333,
             "#9c179e"
            ],
            [
             0.4444444444444444,
             "#bd3786"
            ],
            [
             0.5555555555555556,
             "#d8576b"
            ],
            [
             0.6666666666666666,
             "#ed7953"
            ],
            [
             0.7777777777777778,
             "#fb9f3a"
            ],
            [
             0.8888888888888888,
             "#fdca26"
            ],
            [
             1,
             "#f0f921"
            ]
           ]
          },
          "colorway": [
           "#636efa",
           "#EF553B",
           "#00cc96",
           "#ab63fa",
           "#FFA15A",
           "#19d3f3",
           "#FF6692",
           "#B6E880",
           "#FF97FF",
           "#FECB52"
          ],
          "font": {
           "color": "#2a3f5f"
          },
          "geo": {
           "bgcolor": "white",
           "lakecolor": "white",
           "landcolor": "#E5ECF6",
           "showlakes": true,
           "showland": true,
           "subunitcolor": "white"
          },
          "hoverlabel": {
           "align": "left"
          },
          "hovermode": "closest",
          "mapbox": {
           "style": "light"
          },
          "paper_bgcolor": "white",
          "plot_bgcolor": "#E5ECF6",
          "polar": {
           "angularaxis": {
            "gridcolor": "white",
            "linecolor": "white",
            "ticks": ""
           },
           "bgcolor": "#E5ECF6",
           "radialaxis": {
            "gridcolor": "white",
            "linecolor": "white",
            "ticks": ""
           }
          },
          "scene": {
           "xaxis": {
            "backgroundcolor": "#E5ECF6",
            "gridcolor": "white",
            "gridwidth": 2,
            "linecolor": "white",
            "showbackground": true,
            "ticks": "",
            "zerolinecolor": "white"
           },
           "yaxis": {
            "backgroundcolor": "#E5ECF6",
            "gridcolor": "white",
            "gridwidth": 2,
            "linecolor": "white",
            "showbackground": true,
            "ticks": "",
            "zerolinecolor": "white"
           },
           "zaxis": {
            "backgroundcolor": "#E5ECF6",
            "gridcolor": "white",
            "gridwidth": 2,
            "linecolor": "white",
            "showbackground": true,
            "ticks": "",
            "zerolinecolor": "white"
           }
          },
          "shapedefaults": {
           "line": {
            "color": "#2a3f5f"
           }
          },
          "ternary": {
           "aaxis": {
            "gridcolor": "white",
            "linecolor": "white",
            "ticks": ""
           },
           "baxis": {
            "gridcolor": "white",
            "linecolor": "white",
            "ticks": ""
           },
           "bgcolor": "#E5ECF6",
           "caxis": {
            "gridcolor": "white",
            "linecolor": "white",
            "ticks": ""
           }
          },
          "title": {
           "x": 0.05
          },
          "xaxis": {
           "automargin": true,
           "gridcolor": "white",
           "linecolor": "white",
           "ticks": "",
           "title": {
            "standoff": 15
           },
           "zerolinecolor": "white",
           "zerolinewidth": 2
          },
          "yaxis": {
           "automargin": true,
           "gridcolor": "white",
           "linecolor": "white",
           "ticks": "",
           "title": {
            "standoff": 15
           },
           "zerolinecolor": "white",
           "zerolinewidth": 2
          }
         }
        },
        "title": {
         "text": "Champions with most wins in the Monaco Grand Prix"
        },
        "xaxis": {
         "anchor": "y",
         "domain": [
          0,
          1
         ],
         "tickangle": 80,
         "title": {
          "text": "Champion Name"
         }
        },
        "yaxis": {
         "anchor": "x",
         "domain": [
          0,
          1
         ],
         "title": {
          "text": "Wins Count"
         }
        }
       }
      }
     },
     "metadata": {},
     "output_type": "display_data"
    }
   ],
   "source": [
    "import plotly.express as px\n",
    "\n",
    "df_monaco = df[df['raceName'] == 'Monaco Grand Prix']\n",
    "df_monaco_grouped = df_monaco.groupby('champion_name')['champion_name'].count().reset_index(name='count')\n",
    "df_monaco_grouped = df_monaco_grouped.sort_values('count', ascending=False).head(10)\n",
    "\n",
    "fig = px.bar(df_monaco_grouped, x='champion_name', y='count', text='count',\n",
    "            color='count', height=500)\n",
    "fig.update_layout(title='Champions with most wins in the Monaco Grand Prix',\n",
    "                  xaxis_title='Champion Name', yaxis_title='Wins Count', \n",
    "                  xaxis_tickangle=80)\n",
    "fig.show()"
   ]
  },
  {
   "cell_type": "code",
   "execution_count": 50,
   "metadata": {},
   "outputs": [
    {
     "data": {
      "text/plain": [
       "Text(0.5, 1.0, 'Champions with most wins in the Monaco Grand Prix')"
      ]
     },
     "execution_count": 50,
     "metadata": {},
     "output_type": "execute_result"
    },
    {
     "data": {
      "image/png": "[encoded data removed]",
      "text/plain": [
       "<Figure size 432x288 with 1 Axes>"
      ]
     },
     "metadata": {
      "needs_background": "light"
     },
     "output_type": "display_data"
    }
   ],
   "source": [
    "df_monaco = df[df['raceName'] == 'Monaco Grand Prix']\n",
    "df_monaco_grouped = df_monaco.groupby('champion_name')['champion_name'].count().reset_index(name='count')\n",
    "df_monaco_grouped = df_monaco_grouped.sort_values('count', ascending=True).tail(10)\n",
    "sns.barplot(x='champion_name', y='count', data=df_monaco_grouped)\n",
    "plt.xticks(rotation=80)\n",
    "plt.xlabel('Champion Name')\n",
    "plt.ylabel('Wins Count')\n",
    "plt.title('Champions with most wins in the Monaco Grand Prix')\n"
   ]
  },
  {
   "cell_type": "code",
   "execution_count": 65,
   "metadata": {},
   "outputs": [
    {
     "data": {
      "application/vnd.plotly.v1+json": {
       "config": {
        "plotlyServerURL": "https://plot.ly"
       },
       "data": [
        {
         "hovertemplate": "champion_name=Juan Manuel Fangio<br>season=%{x}<br>win_count=%{y}<extra></extra>",
         "legendgroup": "Juan Manuel Fangio",
         "line": {
          "color": "#636efa",
          "dash": "solid",
          "shape": "spline"
         },
         "marker": {
          "symbol": "circle"
         },
         "mode": "lines",
         "name": "Juan Manuel Fangio",
         "orientation": "v",
         "showlegend": true,
         "type": "scatter",
         "x": [
          1950,
          1950,
          1950,
          1951,
          1951,
          1953,
          1954,
          1954,
          1954,
          1954,
          1954,
          1954,
          1955,
          1955,
          1955,
          1955,
          1956,
          1956,
          1956,
          1957,
          1957,
          1957,
          1957
         ],
         "xaxis": "x",
         "y": [
          1,
          2,
          3,
          4,
          5,
          6,
          7,
          8,
          9,
          10,
          11,
          12,
          13,
          14,
          15,
          16,
          17,
          18,
          19,
          20,
          21,
          22,
          23
         ],
         "yaxis": "y"
        },
        {
         "hovertemplate": "champion_name=Stirling Moss<br>season=%{x}<br>win_count=%{y}<extra></extra>",
         "legendgroup": "Stirling Moss",
         "line": {
          "color": "#EF553B",
          "dash": "solid",
          "shape": "spline"
         },
         "marker": {
          "symbol": "circle"
         },
         "mode": "lines",
         "name": "Stirling Moss",
         "orientation": "v",
         "showlegend": true,
         "type": "scatter",
         "x": [
          1955,
          1956,
          1956,
          1957,
          1957,
          1958,
          1958,
          1958,
          1958,
          1959,
          1959,
          1960,
          1960,
          1961,
          1961
         ],
         "xaxis": "x",
         "y": [
          1,
          2,
          3,
          4,
          5,
          6,
          7,
          8,
          9,
          10,
          11,
          12,
          13,
          14,
          15
         ],
         "yaxis": "y"
        },
        {
         "hovertemplate": "champion_name=Jack Brabham<br>season=%{x}<br>win_count=%{y}<extra></extra>",
         "legendgroup": "Jack Brabham",
         "line": {
          "color": "#00cc96",
          "dash": "solid",
          "shape": "spline"
         },
         "marker": {
          "symbol": "circle"
         },
         "mode": "lines",
         "name": "Jack Brabham",
         "orientation": "v",
         "showlegend": true,
         "type": "scatter",
         "x": [
          1959,
          1959,
          1960,
          1960,
          1960,
          1960,
          1960,
          1966,
          1966,
          1966,
          1966,
          1967,
          1967,
          1970
         ],
         "xaxis": "x",
         "y": [
          1,
          2,
          3,
          4,
          5,
          6,
          7,
          8,
          9,
          10,
          11,
          12,
          13,
          14
         ],
         "yaxis": "y"
        },
        {
         "hovertemplate": "champion_name=Jim Clark<br>season=%{x}<br>win_count=%{y}<extra></extra>",
         "legendgroup": "Jim Clark",
         "line": {
          "color": "#ab63fa",
          "dash": "solid",
          "shape": "spline"
         },
         "marker": {
          "symbol": "circle"
         },
         "mode": "lines",
         "name": "Jim Clark",
         "orientation": "v",
         "showlegend": true,
         "type": "scatter",
         "x": [
          1962,
          1962,
          1962,
          1963,
          1963,
          1963,
          1963,
          1963,
          1963,
          1963,
          1964,
          1964,
          1964,
          1965,
          1965,
          1965,
          1965,
          1965,
          1965,
          1966,
          1967,
          1967,
          1967,
          1967,
          1968
         ],
         "xaxis": "x",
         "y": [
          1,
          2,
          3,
          4,
          5,
          6,
          7,
          8,
          9,
          10,
          11,
          12,
          13,
          14,
          15,
          16,
          17,
          18,
          19,
          20,
          21,
          22,
          23,
          24,
          25
         ],
         "yaxis": "y"
        },
        {
         "hovertemplate": "champion_name=Jackie Stewart<br>season=%{x}<br>win_count=%{y}<extra></extra>",
         "legendgroup": "Jackie Stewart",
         "line": {
          "color": "#FFA15A",
          "dash": "solid",
          "shape": "spline"
         },
         "marker": {
          "symbol": "circle"
         },
         "mode": "lines",
         "name": "Jackie Stewart",
         "orientation": "v",
         "showlegend": true,
         "type": "scatter",
         "x": [
          1965,
          1966,
          1968,
          1968,
          1968,
          1969,
          1969,
          1969,
          1969,
          1969,
          1969,
          1970,
          1971,
          1971,
          1971,
          1971,
          1971,
          1971,
          1972,
          1972,
          1972,
          1972,
          1973,
          1973,
          1973,
          1973,
          1973
         ],
         "xaxis": "x",
         "y": [
          1,
          2,
          3,
          4,
          5,
          6,
          7,
          8,
          9,
          10,
          11,
          12,
          13,
          14,
          15,
          16,
          17,
          18,
          19,
          20,
          21,
          22,
          23,
          24,
          25,
          26,
          27
         ],
         "yaxis": "y"
        },
        {
         "hovertemplate": "champion_name=Niki Lauda<br>season=%{x}<br>win_count=%{y}<extra></extra>",
         "legendgroup": "Niki Lauda",
         "line": {
          "color": "#19d3f3",
          "dash": "solid",
          "shape": "spline"
         },
         "marker": {
          "symbol": "circle"
         },
         "mode": "lines",
         "name": "Niki Lauda",
         "orientation": "v",
         "showlegend": true,
         "type": "scatter",
         "x": [
          1974,
          1974,
          1975,
          1975,
          1975,
          1975,
          1975,
          1976,
          1976,
          1976,
          1976,
          1976,
          1977,
          1977,
          1977,
          1978,
          1978,
          1982,
          1982,
          1984,
          1984,
          1984,
          1984,
          1984,
          1985
         ],
         "xaxis": "x",
         "y": [
          1,
          2,
          3,
          4,
          5,
          6,
          7,
          8,
          9,
          10,
          11,
          12,
          13,
          14,
          15,
          16,
          17,
          18,
          19,
          20,
          21,
          22,
          23,
          24,
          25
         ],
         "yaxis": "y"
        },
        {
         "hovertemplate": "champion_name=Nelson Piquet<br>season=%{x}<br>win_count=%{y}<extra></extra>",
         "legendgroup": "Nelson Piquet",
         "line": {
          "color": "#FF6692",
          "dash": "solid",
          "shape": "spline"
         },
         "marker": {
          "symbol": "circle"
         },
         "mode": "lines",
         "name": "Nelson Piquet",
         "orientation": "v",
         "showlegend": true,
         "type": "scatter",
         "x": [
          1980,
          1980,
          1980,
          1981,
          1981,
          1981,
          1982,
          1983,
          1983,
          1983,
          1984,
          1984,
          1985,
          1986,
          1986,
          1986,
          1986,
          1987,
          1987,
          1987,
          1990,
          1990,
          1991
         ],
         "xaxis": "x",
         "y": [
          1,
          2,
          3,
          4,
          5,
          6,
          7,
          8,
          9,
          10,
          11,
          12,
          13,
          14,
          15,
          16,
          17,
          18,
          19,
          20,
          21,
          22,
          23
         ],
         "yaxis": "y"
        },
        {
         "hovertemplate": "champion_name=Alain Prost<br>season=%{x}<br>win_count=%{y}<extra></extra>",
         "legendgroup": "Alain Prost",
         "line": {
          "color": "#B6E880",
          "dash": "solid",
          "shape": "spline"
         },
         "marker": {
          "symbol": "circle"
         },
         "mode": "lines",
         "name": "Alain Prost",
         "orientation": "v",
         "showlegend": true,
         "type": "scatter",
         "x": [
          1981,
          1981,
          1981,
          1982,
          1982,
          1983,
          1983,
          1983,
          1983,
          1984,
          1984,
          1984,
          1984,
          1984,
          1984,
          1984,
          1985,
          1985,
          1985,
          1985,
          1985,
          1986,
          1986,
          1986,
          1986,
          1987,
          1987,
          1987,
          1988,
          1988,
          1988,
          1988,
          1988,
          1988,
          1988,
          1989,
          1989,
          1989,
          1989,
          1990,
          1990,
          1990,
          1990,
          1990,
          1993,
          1993,
          1993,
          1993,
          1993,
          1993,
          1993
         ],
         "xaxis": "x",
         "y": [
          1,
          2,
          3,
          4,
          5,
          6,
          7,
          8,
          9,
          10,
          11,
          12,
          13,
          14,
          15,
          16,
          17,
          18,
          19,
          20,
          21,
          22,
          23,
          24,
          25,
          26,
          27,
          28,
          29,
          30,
          31,
          32,
          33,
          34,
          35,
          36,
          37,
          38,
          39,
          40,
          41,
          42,
          43,
          44,
          45,
          46,
          47,
          48,
          49,
          50,
          51
         ],
         "yaxis": "y"
        },
        {
         "hovertemplate": "champion_name=Ayrton Senna<br>season=%{x}<br>win_count=%{y}<extra></extra>",
         "legendgroup": "Ayrton Senna",
         "line": {
          "color": "#FF97FF",
          "dash": "solid",
          "shape": "spline"
         },
         "marker": {
          "symbol": "circle"
         },
         "mode": "lines",
         "name": "Ayrton Senna",
         "orientation": "v",
         "showlegend": true,
         "type": "scatter",
         "x": [
          1985,
          1985,
          1986,
          1986,
          1987,
          1987,
          1988,
          1988,
          1988,
          1988,
          1988,
          1988,
          1988,
          1988,
          1989,
          1989,
          1989,
          1989,
          1989,
          1989,
          1990,
          1990,
          1990,
          1990,
          1990,
          1990,
          1991,
          1991,
          1991,
          1991,
          1991,
          1991,
          1991,
          1992,
          1992,
          1992,
          1993,
          1993,
          1993,
          1993,
          1993
         ],
         "xaxis": "x",
         "y": [
          1,
          2,
          3,
          4,
          5,
          6,
          7,
          8,
          9,
          10,
          11,
          12,
          13,
          14,
          15,
          16,
          17,
          18,
          19,
          20,
          21,
          22,
          23,
          24,
          25,
          26,
          27,
          28,
          29,
          30,
          31,
          32,
          33,
          34,
          35,
          36,
          37,
          38,
          39,
          40,
          41
         ],
         "yaxis": "y"
        },
        {
         "hovertemplate": "champion_name=Nigel Mansell<br>season=%{x}<br>win_count=%{y}<extra></extra>",
         "legendgroup": "Nigel Mansell",
         "line": {
          "color": "#FECB52",
          "dash": "solid",
          "shape": "spline"
         },
         "marker": {
          "symbol": "circle"
         },
         "mode": "lines",
         "name": "Nigel Mansell",
         "orientation": "v",
         "showlegend": true,
         "type": "scatter",
         "x": [
          1985,
          1985,
          1986,
          1986,
          1986,
          1986,
          1986,
          1987,
          1987,
          1987,
          1987,
          1987,
          1987,
          1989,
          1989,
          1990,
          1991,
          1991,
          1991,
          1991,
          1991,
          1992,
          1992,
          1992,
          1992,
          1992,
          1992,
          1992,
          1992,
          1992,
          1994
         ],
         "xaxis": "x",
         "y": [
          1,
          2,
          3,
          4,
          5,
          6,
          7,
          8,
          9,
          10,
          11,
          12,
          13,
          14,
          15,
          16,
          17,
          18,
          19,
          20,
          21,
          22,
          23,
          24,
          25,
          26,
          27,
          28,
          29,
          30,
          31
         ],
         "yaxis": "y"
        },
        {
         "hovertemplate": "champion_name=Michael Schumacher<br>season=%{x}<br>win_count=%{y}<extra></extra>",
         "legendgroup": "Michael Schumacher",
         "line": {
          "color": "#636efa",
          "dash": "solid",
          "shape": "spline"
         },
         "marker": {
          "symbol": "circle"
         },
         "mode": "lines",
         "name": "Michael Schumacher",
         "orientation": "v",
         "showlegend": true,
         "type": "scatter",
         "x": [
          1992,
          1993,
          1994,
          1994,
          1994,
          1994,
          1994,
          1994,
          1994,
          1994,
          1995,
          1995,
          1995,
          1995,
          1995,
          1995,
          1995,
          1995,
          1995,
          1996,
          1996,
          1996,
          1997,
          1997,
          1997,
          1997,
          1997,
          1998,
          1998,
          1998,
          1998,
          1998,
          1998,
          1999,
          1999,
          2000,
          2000,
          2000,
          2000,
          2000,
          2000,
          2000,
          2000,
          2000,
          2001,
          2001,
          2001,
          2001,
          2001,
          2001,
          2001,
          2001,
          2001,
          2002,
          2002,
          2002,
          2002,
          2002,
          2002,
          2002,
          2002,
          2002,
          2002,
          2002,
          2003,
          2003,
          2003,
          2003,
          2003,
          2003,
          2004,
          2004,
          2004,
          2004,
          2004,
          2004,
          2004,
          2004,
          2004,
          2004,
          2004,
          2004,
          2004,
          2005,
          2006,
          2006,
          2006,
          2006,
          2006,
          2006,
          2006
         ],
         "xaxis": "x",
         "y": [
          1,
          2,
          3,
          4,
          5,
          6,
          7,
          8,
          9,
          10,
          11,
          12,
          13,
          14,
          15,
          16,
          17,
          18,
          19,
          20,
          21,
          22,
          23,
          24,
          25,
          26,
          27,
          28,
          29,
          30,
          31,
          32,
          33,
          34,
          35,
          36,
          37,
          38,
          39,
          40,
          41,
          42,
          43,
          44,
          45,
          46,
          47,
          48,
          49,
          50,
          51,
          52,
          53,
          54,
          55,
          56,
          57,
          58,
          59,
          60,
          61,
          62,
          63,
          64,
          65,
          66,
          67,
          68,
          69,
          70,
          71,
          72,
          73,
          74,
          75,
          76,
          77,
          78,
          79,
          80,
          81,
          82,
          83,
          84,
          85,
          86,
          87,
          88,
          89,
          90,
          91
         ],
         "yaxis": "y"
        },
        {
         "hovertemplate": "champion_name=Damon Hill<br>season=%{x}<br>win_count=%{y}<extra></extra>",
         "legendgroup": "Damon Hill",
         "line": {
          "color": "#EF553B",
          "dash": "solid",
          "shape": "spline"
         },
         "marker": {
          "symbol": "circle"
         },
         "mode": "lines",
         "name": "Damon Hill",
         "orientation": "v",
         "showlegend": true,
         "type": "scatter",
         "x": [
          1993,
          1993,
          1993,
          1994,
          1994,
          1994,
          1994,
          1994,
          1994,
          1995,
          1995,
          1995,
          1995,
          1996,
          1996,
          1996,
          1996,
          1996,
          1996,
          1996,
          1996,
          1998
         ],
         "xaxis": "x",
         "y": [
          1,
          2,
          3,
          4,
          5,
          6,
          7,
          8,
          9,
          10,
          11,
          12,
          13,
          14,
          15,
          16,
          17,
          18,
          19,
          20,
          21,
          22
         ],
         "yaxis": "y"
        },
        {
         "hovertemplate": "champion_name=Mika Hakkinen<br>season=%{x}<br>win_count=%{y}<extra></extra>",
         "legendgroup": "Mika Hakkinen",
         "line": {
          "color": "#00cc96",
          "dash": "solid",
          "shape": "spline"
         },
         "marker": {
          "symbol": "circle"
         },
         "mode": "lines",
         "name": "Mika Hakkinen",
         "orientation": "v",
         "showlegend": true,
         "type": "scatter",
         "x": [
          1997,
          1998,
          1998,
          1998,
          1998,
          1998,
          1998,
          1998,
          1998,
          1999,
          1999,
          1999,
          1999,
          1999,
          2000,
          2000,
          2000,
          2000,
          2001,
          2001
         ],
         "xaxis": "x",
         "y": [
          1,
          2,
          3,
          4,
          5,
          6,
          7,
          8,
          9,
          10,
          11,
          12,
          13,
          14,
          15,
          16,
          17,
          18,
          19,
          20
         ],
         "yaxis": "y"
        },
        {
         "hovertemplate": "champion_name=Kimi RÃ¤ikkÃ¶nen<br>season=%{x}<br>win_count=%{y}<extra></extra>",
         "legendgroup": "Kimi RÃ¤ikkÃ¶nen",
         "line": {
          "color": "#ab63fa",
          "dash": "solid",
          "shape": "spline"
         },
         "marker": {
          "symbol": "circle"
         },
         "mode": "lines",
         "name": "Kimi RÃ¤ikkÃ¶nen",
         "orientation": "v",
         "showlegend": true,
         "type": "scatter",
         "x": [
          2003,
          2004,
          2005,
          2005,
          2005,
          2005,
          2005,
          2005,
          2005,
          2007,
          2007,
          2007,
          2007,
          2007,
          2007,
          2008,
          2008,
          2009,
          2012,
          2013,
          2018
         ],
         "xaxis": "x",
         "y": [
          1,
          2,
          3,
          4,
          5,
          6,
          7,
          8,
          9,
          10,
          11,
          12,
          13,
          14,
          15,
          16,
          17,
          18,
          19,
          20,
          21
         ],
         "yaxis": "y"
        },
        {
         "hovertemplate": "champion_name=Fernando Alonso<br>season=%{x}<br>win_count=%{y}<extra></extra>",
         "legendgroup": "Fernando Alonso",
         "line": {
          "color": "#FFA15A",
          "dash": "solid",
          "shape": "spline"
         },
         "marker": {
          "symbol": "circle"
         },
         "mode": "lines",
         "name": "Fernando Alonso",
         "orientation": "v",
         "showlegend": true,
         "type": "scatter",
         "x": [
          2003,
          2005,
          2005,
          2005,
          2005,
          2005,
          2005,
          2005,
          2006,
          2006,
          2006,
          2006,
          2006,
          2006,
          2006,
          2007,
          2007,
          2007,
          2007,
          2008,
          2008,
          2010,
          2010,
          2010,
          2010,
          2010,
          2011,
          2012,
          2012,
          2012,
          2013,
          2013
         ],
         "xaxis": "x",
         "y": [
          1,
          2,
          3,
          4,
          5,
          6,
          7,
          8,
          9,
          10,
          11,
          12,
          13,
          14,
          15,
          16,
          17,
          18,
          19,
          20,
          21,
          22,
          23,
          24,
          25,
          26,
          27,
          28,
          29,
          30,
          31,
          32
         ],
         "yaxis": "y"
        },
        {
         "hovertemplate": "champion_name=Jenson Button<br>season=%{x}<br>win_count=%{y}<extra></extra>",
         "legendgroup": "Jenson Button",
         "line": {
          "color": "#19d3f3",
          "dash": "solid",
          "shape": "spline"
         },
         "marker": {
          "symbol": "circle"
         },
         "mode": "lines",
         "name": "Jenson Button",
         "orientation": "v",
         "showlegend": true,
         "type": "scatter",
         "x": [
          2006,
          2009,
          2009,
          2009,
          2009,
          2009,
          2009,
          2010,
          2010,
          2011,
          2011,
          2011,
          2012,
          2012,
          2012
         ],
         "xaxis": "x",
         "y": [
          1,
          2,
          3,
          4,
          5,
          6,
          7,
          8,
          9,
          10,
          11,
          12,
          13,
          14,
          15
         ],
         "yaxis": "y"
        },
        {
         "hovertemplate": "champion_name=Lewis Hamilton<br>season=%{x}<br>win_count=%{y}<extra></extra>",
         "legendgroup": "Lewis Hamilton",
         "line": {
          "color": "#FF6692",
          "dash": "solid",
          "shape": "spline"
         },
         "marker": {
          "symbol": "circle"
         },
         "mode": "lines",
         "name": "Lewis Hamilton",
         "orientation": "v",
         "showlegend": true,
         "type": "scatter",
         "x": [
          2007,
          2007,
          2007,
          2007,
          2008,
          2008,
          2008,
          2008,
          2008,
          2009,
          2009,
          2010,
          2010,
          2010,
          2011,
          2011,
          2011,
          2012,
          2012,
          2012,
          2012,
          2013,
          2014,
          2014,
          2014,
          2014,
          2014,
          2014,
          2014,
          2014,
          2014,
          2014,
          2015,
          2015,
          2015,
          2015,
          2015,
          2015,
          2015,
          2015,
          2015,
          2015,
          2016,
          2016,
          2016,
          2016,
          2016,
          2016,
          2016,
          2016,
          2016,
          2016,
          2017,
          2017,
          2017,
          2017,
          2017,
          2017,
          2017,
          2017,
          2017,
          2018,
          2018,
          2018,
          2018,
          2018,
          2018,
          2018,
          2018,
          2018,
          2018,
          2018,
          2019,
          2019,
          2019,
          2019,
          2019,
          2019,
          2019,
          2019,
          2019,
          2019,
          2019,
          2020,
          2020,
          2020,
          2020,
          2020,
          2020,
          2020,
          2020,
          2020,
          2020,
          2020,
          2021,
          2021,
          2021,
          2021,
          2021,
          2021,
          2021,
          2021
         ],
         "xaxis": "x",
         "y": [
          1,
          2,
          3,
          4,
          5,
          6,
          7,
          8,
          9,
          10,
          11,
          12,
          13,
          14,
          15,
          16,
          17,
          18,
          19,
          20,
          21,
          22,
          23,
          24,
          25,
          26,
          27,
          28,
          29,
          30,
          31,
          32,
          33,
          34,
          35,
          36,
          37,
          38,
          39,
          40,
          41,
          42,
          43,
          44,
          45,
          46,
          47,
          48,
          49,
          50,
          51,
          52,
          53,
          54,
          55,
          56,
          57,
          58,
          59,
          60,
          61,
          62,
          63,
          64,
          65,
          66,
          67,
          68,
          69,
          70,
          71,
          72,
          73,
          74,
          75,
          76,
          77,
          78,
          79,
          80,
          81,
          82,
          83,
          84,
          85,
          86,
          87,
          88,
          89,
          90,
          91,
          92,
          93,
          94,
          95,
          96,
          97,
          98,
          99,
          100,
          101,
          102
         ],
         "yaxis": "y"
        },
        {
         "hovertemplate": "champion_name=Sebastian Vettel<br>season=%{x}<br>win_count=%{y}<extra></extra>",
         "legendgroup": "Sebastian Vettel",
         "line": {
          "color": "#B6E880",
          "dash": "solid",
          "shape": "spline"
         },
         "marker": {
          "symbol": "circle"
         },
         "mode": "lines",
         "name": "Sebastian Vettel",
         "orientation": "v",
         "showlegend": true,
         "type": "scatter",
         "x": [
          2008,
          2009,
          2009,
          2009,
          2009,
          2010,
          2010,
          2010,
          2010,
          2010,
          2011,
          2011,
          2011,
          2011,
          2011,
          2011,
          2011,
          2011,
          2011,
          2011,
          2011,
          2012,
          2012,
          2012,
          2012,
          2012,
          2013,
          2013,
          2013,
          2013,
          2013,
          2013,
          2013,
          2013,
          2013,
          2013,
          2013,
          2013,
          2013,
          2015,
          2015,
          2015,
          2017,
          2017,
          2017,
          2017,
          2017,
          2018,
          2018,
          2018,
          2018,
          2018,
          2019
         ],
         "xaxis": "x",
         "y": [
          1,
          2,
          3,
          4,
          5,
          6,
          7,
          8,
          9,
          10,
          11,
          12,
          13,
          14,
          15,
          16,
          17,
          18,
          19,
          20,
          21,
          22,
          23,
          24,
          25,
          26,
          27,
          28,
          29,
          30,
          31,
          32,
          33,
          34,
          35,
          36,
          37,
          38,
          39,
          40,
          41,
          42,
          43,
          44,
          45,
          46,
          47,
          48,
          49,
          50,
          51,
          52,
          53
         ],
         "yaxis": "y"
        },
        {
         "hovertemplate": "champion_name=Nico Rosberg<br>season=%{x}<br>win_count=%{y}<extra></extra>",
         "legendgroup": "Nico Rosberg",
         "line": {
          "color": "#FF97FF",
          "dash": "solid",
          "shape": "spline"
         },
         "marker": {
          "symbol": "circle"
         },
         "mode": "lines",
         "name": "Nico Rosberg",
         "orientation": "v",
         "showlegend": true,
         "type": "scatter",
         "x": [
          2012,
          2013,
          2013,
          2014,
          2014,
          2014,
          2014,
          2014,
          2015,
          2015,
          2015,
          2015,
          2015,
          2015,
          2016,
          2016,
          2016,
          2016,
          2016,
          2016,
          2016,
          2016,
          2016
         ],
         "xaxis": "x",
         "y": [
          1,
          2,
          3,
          4,
          5,
          6,
          7,
          8,
          9,
          10,
          11,
          12,
          13,
          14,
          15,
          16,
          17,
          18,
          19,
          20,
          21,
          22,
          23
         ],
         "yaxis": "y"
        },
        {
         "hovertemplate": "champion_name=Max Verstappen<br>season=%{x}<br>win_count=%{y}<extra></extra>",
         "legendgroup": "Max Verstappen",
         "line": {
          "color": "#FECB52",
          "dash": "solid",
          "shape": "spline"
         },
         "marker": {
          "symbol": "circle"
         },
         "mode": "lines",
         "name": "Max Verstappen",
         "orientation": "v",
         "showlegend": true,
         "type": "scatter",
         "x": [
          2016,
          2017,
          2017,
          2018,
          2018,
          2019,
          2019,
          2019,
          2020,
          2020,
          2021,
          2021,
          2021,
          2021,
          2021,
          2021,
          2021,
          2021,
          2021,
          2021
         ],
         "xaxis": "x",
         "y": [
          1,
          2,
          3,
          4,
          5,
          6,
          7,
          8,
          9,
          10,
          11,
          12,
          13,
          14,
          15,
          16,
          17,
          18,
          19,
          20
         ],
         "yaxis": "y"
        }
       ],
       "layout": {
        "legend": {
         "title": {
          "text": "champion_name"
         },
         "tracegroupgap": 0
        },
        "margin": {
         "t": 60
        },
        "template": {
         "data": {
          "bar": [
           {
            "error_x": {
             "color": "#2a3f5f"
            },
            "error_y": {
             "color": "#2a3f5f"
            },
            "marker": {
             "line": {
              "color": "#E5ECF6",
              "width": 0.5
             },
             "pattern": {
              "fillmode": "overlay",
              "size": 10,
              "solidity": 0.2
             }
            },
            "type": "bar"
           }
          ],
          "barpolar": [
           {
            "marker": {
             "line": {
              "color": "#E5ECF6",
              "width": 0.5
             },
             "pattern": {
              "fillmode": "overlay",
              "size": 10,
              "solidity": 0.2
             }
            },
            "type": "barpolar"
           }
          ],
          "carpet": [
           {
            "aaxis": {
             "endlinecolor": "#2a3f5f",
             "gridcolor": "white",
             "linecolor": "white",
             "minorgridcolor": "white",
             "startlinecolor": "#2a3f5f"
            },
            "baxis": {
             "endlinecolor": "#2a3f5f",
             "gridcolor": "white",
             "linecolor": "white",
             "minorgridcolor": "white",
             "startlinecolor": "#2a3f5f"
            },
            "type": "carpet"
           }
          ],
          "choropleth": [
           {
            "colorbar": {
             "outlinewidth": 0,
             "ticks": ""
            },
            "type": "choropleth"
           }
          ],
          "contour": [
           {
            "colorbar": {
             "outlinewidth": 0,
             "ticks": ""
            },
            "colorscale": [
             [
              0,
              "#0d0887"
             ],
             [
              0.1111111111111111,
              "#46039f"
             ],
             [
              0.2222222222222222,
              "#7201a8"
             ],
             [
              0.3333333333333333,
              "#9c179e"
             ],
             [
              0.4444444444444444,
              "#bd3786"
             ],
             [
              0.5555555555555556,
              "#d8576b"
             ],
             [
              0.6666666666666666,
              "#ed7953"
             ],
             [
              0.7777777777777778,
              "#fb9f3a"
             ],
             [
              0.8888888888888888,
              "#fdca26"
             ],
             [
              1,
              "#f0f921"
             ]
            ],
            "type": "contour"
           }
          ],
          "contourcarpet": [
           {
            "colorbar": {
             "outlinewidth": 0,
             "ticks": ""
            },
            "type": "contourcarpet"
           }
          ],
          "heatmap": [
           {
            "colorbar": {
             "outlinewidth": 0,
             "ticks": ""
            },
            "colorscale": [
             [
              0,
              "#0d0887"
             ],
             [
              0.1111111111111111,
              "#46039f"
             ],
             [
              0.2222222222222222,
              "#7201a8"
             ],
             [
              0.3333333333333333,
              "#9c179e"
             ],
             [
              0.4444444444444444,
              "#bd3786"
             ],
             [
              0.5555555555555556,
              "#d8576b"
             ],
             [
              0.6666666666666666,
              "#ed7953"
             ],
             [
              0.7777777777777778,
              "#fb9f3a"
             ],
             [
              0.8888888888888888,
              "#fdca26"
             ],
             [
              1,
              "#f0f921"
             ]
            ],
            "type": "heatmap"
           }
          ],
          "heatmapgl": [
           {
            "colorbar": {
             "outlinewidth": 0,
             "ticks": ""
            },
            "colorscale": [
             [
              0,
              "#0d0887"
             ],
             [
              0.1111111111111111,
              "#46039f"
             ],
             [
              0.2222222222222222,
              "#7201a8"
             ],
             [
              0.3333333333333333,
              "#9c179e"
             ],
             [
              0.4444444444444444,
              "#bd3786"
             ],
             [
              0.5555555555555556,
              "#d8576b"
             ],
             [
              0.6666666666666666,
              "#ed7953"
             ],
             [
              0.7777777777777778,
              "#fb9f3a"
             ],
             [
              0.8888888888888888,
              "#fdca26"
             ],
             [
              1,
              "#f0f921"
             ]
            ],
            "type": "heatmapgl"
           }
          ],
          "histogram": [
           {
            "marker": {
             "pattern": {
              "fillmode": "overlay",
              "size": 10,
              "solidity": 0.2
             }
            },
            "type": "histogram"
           }
          ],
          "histogram2d": [
           {
            "colorbar": {
             "outlinewidth": 0,
             "ticks": ""
            },
            "colorscale": [
             [
              0,
              "#0d0887"
             ],
             [
              0.1111111111111111,
              "#46039f"
             ],
             [
              0.2222222222222222,
              "#7201a8"
             ],
             [
              0.3333333333333333,
              "#9c179e"
             ],
             [
              0.4444444444444444,
              "#bd3786"
             ],
             [
              0.5555555555555556,
              "#d8576b"
             ],
             [
              0.6666666666666666,
              "#ed7953"
             ],
             [
              0.7777777777777778,
              "#fb9f3a"
             ],
             [
              0.8888888888888888,
              "#fdca26"
             ],
             [
              1,
              "#f0f921"
             ]
            ],
            "type": "histogram2d"
           }
          ],
          "histogram2dcontour": [
           {
            "colorbar": {
             "outlinewidth": 0,
             "ticks": ""
            },
            "colorscale": [
             [
              0,
              "#0d0887"
             ],
             [
              0.1111111111111111,
              "#46039f"
             ],
             [
              0.2222222222222222,
              "#7201a8"
             ],
             [
              0.3333333333333333,
              "#9c179e"
             ],
             [
              0.4444444444444444,
              "#bd3786"
             ],
             [
              0.5555555555555556,
              "#d8576b"
             ],
             [
              0.6666666666666666,
              "#ed7953"
             ],
             [
              0.7777777777777778,
              "#fb9f3a"
             ],
             [
              0.8888888888888888,
              "#fdca26"
             ],
             [
              1,
              "#f0f921"
             ]
            ],
            "type": "histogram2dcontour"
           }
          ],
          "mesh3d": [
           {
            "colorbar": {
             "outlinewidth": 0,
             "ticks": ""
            },
            "type": "mesh3d"
           }
          ],
          "parcoords": [
           {
            "line": {
             "colorbar": {
              "outlinewidth": 0,
              "ticks": ""
             }
            },
            "type": "parcoords"
           }
          ],
          "pie": [
           {
            "automargin": true,
            "type": "pie"
           }
          ],
          "scatter": [
           {
            "fillpattern": {
             "fillmode": "overlay",
             "size": 10,
             "solidity": 0.2
            },
            "type": "scatter"
           }
          ],
          "scatter3d": [
           {
            "line": {
             "colorbar": {
              "outlinewidth": 0,
              "ticks": ""
             }
            },
            "marker": {
             "colorbar": {
              "outlinewidth": 0,
              "ticks": ""
             }
            },
            "type": "scatter3d"
           }
          ],
          "scattercarpet": [
           {
            "marker": {
             "colorbar": {
              "outlinewidth": 0,
              "ticks": ""
             }
            },
            "type": "scattercarpet"
           }
          ],
          "scattergeo": [
           {
            "marker": {
             "colorbar": {
              "outlinewidth": 0,
              "ticks": ""
             }
            },
            "type": "scattergeo"
           }
          ],
          "scattergl": [
           {
            "marker": {
             "colorbar": {
              "outlinewidth": 0,
              "ticks": ""
             }
            },
            "type": "scattergl"
           }
          ],
          "scattermapbox": [
           {
            "marker": {
             "colorbar": {
              "outlinewidth": 0,
              "ticks": ""
             }
            },
            "type": "scattermapbox"
           }
          ],
          "scatterpolar": [
           {
            "marker": {
             "colorbar": {
              "outlinewidth": 0,
              "ticks": ""
             }
            },
            "type": "scatterpolar"
           }
          ],
          "scatterpolargl": [
           {
            "marker": {
             "colorbar": {
              "outlinewidth": 0,
              "ticks": ""
             }
            },
            "type": "scatterpolargl"
           }
          ],
          "scatterternary": [
           {
            "marker": {
             "colorbar": {
              "outlinewidth": 0,
              "ticks": ""
             }
            },
            "type": "scatterternary"
           }
          ],
          "surface": [
           {
            "colorbar": {
             "outlinewidth": 0,
             "ticks": ""
            },
            "colorscale": [
             [
              0,
              "#0d0887"
             ],
             [
              0.1111111111111111,
              "#46039f"
             ],
             [
              0.2222222222222222,
              "#7201a8"
             ],
             [
              0.3333333333333333,
              "#9c179e"
             ],
             [
              0.4444444444444444,
              "#bd3786"
             ],
             [
              0.5555555555555556,
              "#d8576b"
             ],
             [
              0.6666666666666666,
              "#ed7953"
             ],
             [
              0.7777777777777778,
              "#fb9f3a"
             ],
             [
              0.8888888888888888,
              "#fdca26"
             ],
             [
              1,
              "#f0f921"
             ]
            ],
            "type": "surface"
           }
          ],
          "table": [
           {
            "cells": {
             "fill": {
              "color": "#EBF0F8"
             },
             "line": {
              "color": "white"
             }
            },
            "header": {
             "fill": {
              "color": "#C8D4E3"
             },
             "line": {
              "color": "white"
             }
            },
            "type": "table"
           }
          ]
         },
         "layout": {
          "annotationdefaults": {
           "arrowcolor": "#2a3f5f",
           "arrowhead": 0,
           "arrowwidth": 1
          },
          "autotypenumbers": "strict",
          "coloraxis": {
           "colorbar": {
            "outlinewidth": 0,
            "ticks": ""
           }
          },
          "colorscale": {
           "diverging": [
            [
             0,
             "#8e0152"
            ],
            [
             0.1,
             "#c51b7d"
            ],
            [
             0.2,
             "#de77ae"
            ],
            [
             0.3,
             "#f1b6da"
            ],
            [
             0.4,
             "#fde0ef"
            ],
            [
             0.5,
             "#f7f7f7"
            ],
            [
             0.6,
             "#e6f5d0"
            ],
            [
             0.7,
             "#b8e186"
            ],
            [
             0.8,
             "#7fbc41"
            ],
            [
             0.9,
             "#4d9221"
            ],
            [
             1,
             "#276419"
            ]
           ],
           "sequential": [
            [
             0,
             "#0d0887"
            ],
            [
             0.1111111111111111,
             "#46039f"
            ],
            [
             0.2222222222222222,
             "#7201a8"
            ],
            [
             0.3333333333333333,
             "#9c179e"
            ],
            [
             0.4444444444444444,
             "#bd3786"
            ],
            [
             0.5555555555555556,
             "#d8576b"
            ],
            [
             0.6666666666666666,
             "#ed7953"
            ],
            [
             0.7777777777777778,
             "#fb9f3a"
            ],
            [
             0.8888888888888888,
             "#fdca26"
            ],
            [
             1,
             "#f0f921"
            ]
           ],
           "sequentialminus": [
            [
             0,
             "#0d0887"
            ],
            [
             0.1111111111111111,
             "#46039f"
            ],
            [
             0.2222222222222222,
             "#7201a8"
            ],
            [
             0.3333333333333333,
             "#9c179e"
            ],
            [
             0.4444444444444444,
             "#bd3786"
            ],
            [
             0.5555555555555556,
             "#d8576b"
            ],
            [
             0.6666666666666666,
             "#ed7953"
            ],
            [
             0.7777777777777778,
             "#fb9f3a"
            ],
            [
             0.8888888888888888,
             "#fdca26"
            ],
            [
             1,
             "#f0f921"
            ]
           ]
          },
          "colorway": [
           "#636efa",
           "#EF553B",
           "#00cc96",
           "#ab63fa",
           "#FFA15A",
           "#19d3f3",
           "#FF6692",
           "#B6E880",
           "#FF97FF",
           "#FECB52"
          ],
          "font": {
           "color": "#2a3f5f"
          },
          "geo": {
           "bgcolor": "white",
           "lakecolor": "white",
           "landcolor": "#E5ECF6",
           "showlakes": true,
           "showland": true,
           "subunitcolor": "white"
          },
          "hoverlabel": {
           "align": "left"
          },
          "hovermode": "closest",
          "mapbox": {
           "style": "light"
          },
          "paper_bgcolor": "white",
          "plot_bgcolor": "#E5ECF6",
          "polar": {
           "angularaxis": {
            "gridcolor": "white",
            "linecolor": "white",
            "ticks": ""
           },
           "bgcolor": "#E5ECF6",
           "radialaxis": {
            "gridcolor": "white",
            "linecolor": "white",
            "ticks": ""
           }
          },
          "scene": {
           "xaxis": {
            "backgroundcolor": "#E5ECF6",
            "gridcolor": "white",
            "gridwidth": 2,
            "linecolor": "white",
            "showbackground": true,
            "ticks": "",
            "zerolinecolor": "white"
           },
           "yaxis": {
            "backgroundcolor": "#E5ECF6",
            "gridcolor": "white",
            "gridwidth": 2,
            "linecolor": "white",
            "showbackground": true,
            "ticks": "",
            "zerolinecolor": "white"
           },
           "zaxis": {
            "backgroundcolor": "#E5ECF6",
            "gridcolor": "white",
            "gridwidth": 2,
            "linecolor": "white",
            "showbackground": true,
            "ticks": "",
            "zerolinecolor": "white"
           }
          },
          "shapedefaults": {
           "line": {
            "color": "#2a3f5f"
           }
          },
          "ternary": {
           "aaxis": {
            "gridcolor": "white",
            "linecolor": "white",
            "ticks": ""
           },
           "baxis": {
            "gridcolor": "white",
            "linecolor": "white",
            "ticks": ""
           },
           "bgcolor": "#E5ECF6",
           "caxis": {
            "gridcolor": "white",
            "linecolor": "white",
            "ticks": ""
           }
          },
          "title": {
           "x": 0.05
          },
          "xaxis": {
           "automargin": true,
           "gridcolor": "white",
           "linecolor": "white",
           "ticks": "",
           "title": {
            "standoff": 15
           },
           "zerolinecolor": "white",
           "zerolinewidth": 2
          },
          "yaxis": {
           "automargin": true,
           "gridcolor": "white",
           "linecolor": "white",
           "ticks": "",
           "title": {
            "standoff": 15
           },
           "zerolinecolor": "white",
           "zerolinewidth": 2
          }
         }
        },
        "title": {
         "text": "Win Count by Season for Top 20 Winners"
        },
        "xaxis": {
         "anchor": "y",
         "domain": [
          0,
          1
         ],
         "title": {
          "text": "Season"
         }
        },
        "yaxis": {
         "anchor": "x",
         "domain": [
          0,
          1
         ],
         "title": {
          "text": "Win Count"
         }
        }
       }
      }
     },
     "metadata": {},
     "output_type": "display_data"
    }
   ],
   "source": [
    "import plotly.express as px\n",
    "\n",
    "top_20_winners = df.groupby(\"champion_name\")[\"win_count\"].sum().sort_values(ascending=False).head(20)\n",
    "df_top_20 = df[df['champion_name'].isin(top_20_winners.index)]\n",
    "\n",
    "fig = px.line(df_top_20, x=\"season\", y=\"win_count\", color=\"champion_name\", line_shape='spline', render_mode='svg')\n",
    "fig.update_layout(title='Win Count by Season for Top 20 Winners', xaxis_title='Season', yaxis_title='Win Count')\n",
    "fig.show()\n"
   ]
  },
  {
   "cell_type": "code",
   "execution_count": 78,
   "metadata": {},
   "outputs": [
    {
     "data": {
      "text/plain": [
       "<matplotlib.legend.Legend at 0x7fca13f42ee0>"
      ]
     },
     "execution_count": 78,
     "metadata": {},
     "output_type": "execute_result"
    },
    {
     "data": {
      "image/png": "[encoded data removed]",
      "text/plain": [
       "<Figure size 432x288 with 1 Axes>"
      ]
     },
     "metadata": {
      "needs_background": "light"
     },
     "output_type": "display_data"
    }
   ],
   "source": [
    "top_20_winners = df.groupby(\"champion_name\")[\"win_count\"].sum().sort_values(ascending=False).head(20)\n",
    "df_top_20 = df[df['champion_name'].isin(top_20_winners.index)]\n",
    "sns.lineplot(data=df_top_20, x=\"season\", y=\"win_count\", hue=\"champion_name\",legend=\"full\",palette='Set2');\n",
    "plt.legend(bbox_to_anchor=(1.05, 1), loc=2, borderaxespad=0.)"
   ]
  },
  {
   "cell_type": "code",
   "execution_count": 74,
   "metadata": {},
   "outputs": [
    {
     "data": {
      "text/html": [
       "<div>\n",
       "<style scoped>\n",
       "    .dataframe tbody tr th:only-of-type {\n",
       "        vertical-align: middle;\n",
       "    }\n",
       "\n",
       "    .dataframe tbody tr th {\n",
       "        vertical-align: top;\n",
       "    }\n",
       "\n",
       "    .dataframe thead th {\n",
       "        text-align: right;\n",
       "    }\n",
       "</style>\n",
       "<table border=\"1\" class=\"dataframe\">\n",
       "  <thead>\n",
       "    <tr style=\"text-align: right;\">\n",
       "      <th></th>\n",
       "      <th>season</th>\n",
       "      <th>round</th>\n",
       "      <th>url</th>\n",
       "      <th>raceName</th>\n",
       "      <th>Circuit</th>\n",
       "      <th>date</th>\n",
       "      <th>champion_name</th>\n",
       "      <th>time</th>\n",
       "      <th>FirstPractice</th>\n",
       "      <th>SecondPractice</th>\n",
       "      <th>ThirdPractice</th>\n",
       "      <th>Qualifying</th>\n",
       "      <th>Sprint</th>\n",
       "      <th>win_count</th>\n",
       "      <th>win_streak</th>\n",
       "    </tr>\n",
       "  </thead>\n",
       "  <tbody>\n",
       "    <tr>\n",
       "      <th>530</th>\n",
       "      <td>1992</td>\n",
       "      <td>15</td>\n",
       "      <td>http://en.wikipedia.org/wiki/1992_Japanese_Gra...</td>\n",
       "      <td>Japanese Grand Prix</td>\n",
       "      <td>{'circuitId': 'suzuka', 'url': 'http://en.wiki...</td>\n",
       "      <td>1992-10-25</td>\n",
       "      <td>Riccardo Patrese</td>\n",
       "      <td>NaN</td>\n",
       "      <td>NaN</td>\n",
       "      <td>NaN</td>\n",
       "      <td>NaN</td>\n",
       "      <td>NaN</td>\n",
       "      <td>NaN</td>\n",
       "      <td>6</td>\n",
       "      <td>1</td>\n",
       "    </tr>\n",
       "  </tbody>\n",
       "</table>\n",
       "</div>"
      ],
      "text/plain": [
       "     season  round                                                url  \\\n",
       "530    1992     15  http://en.wikipedia.org/wiki/1992_Japanese_Gra...   \n",
       "\n",
       "                raceName                                            Circuit  \\\n",
       "530  Japanese Grand Prix  {'circuitId': 'suzuka', 'url': 'http://en.wiki...   \n",
       "\n",
       "           date     champion_name time FirstPractice SecondPractice  \\\n",
       "530  1992-10-25  Riccardo Patrese  NaN           NaN            NaN   \n",
       "\n",
       "    ThirdPractice Qualifying Sprint  win_count  win_streak  \n",
       "530           NaN        NaN    NaN          6           1  "
      ]
     },
     "execution_count": 74,
     "metadata": {},
     "output_type": "execute_result"
    }
   ],
   "source": [
    "\n",
    "df = get_win_streak(df)\n",
    "df.sample(1)"
   ]
  },
  {
   "cell_type": "code",
   "execution_count": 76,
   "metadata": {},
   "outputs": [
    {
     "data": {
      "image/png": "[encoded data removed]",
      "text/plain": [
       "<Figure size 432x288 with 1 Axes>"
      ]
     },
     "metadata": {
      "needs_background": "light"
     },
     "output_type": "display_data"
    }
   ],
   "source": [
    "top_10 = df.nlargest(30, 'win_streak')\n",
    "plt.barh(top_10['champion_name'], top_10['win_streak'])\n",
    "plt.xlabel('Driver Name')\n",
    "plt.ylabel('Consecutive Wins in a Row')\n",
    "plt.title('Top 10 Drivers with Longest Win Streak')\n",
    "plt.gca().invert_yaxis()\n",
    "plt.show()"
   ]
  },
  {
   "cell_type": "code",
   "execution_count": 42,
   "metadata": {},
   "outputs": [
    {
     "data": {
      "image/png": "[encoded data removed]",
      "text/plain": [
       "<Figure size 432x288 with 1 Axes>"
      ]
     },
     "metadata": {
      "needs_background": "light"
     },
     "output_type": "display_data"
    }
   ],
   "source": [
    "driver_wins = df.groupby(['season', 'champion_name']).size().reset_index(name='Wins')\n",
    "\n",
    "total_races = df.groupby(['season']).size().reset_index(name='Total Races')\n",
    "driver_wins = driver_wins.merge(total_races, on='season')\n",
    "driver_wins['Percentage'] = 100 * driver_wins['Wins'] / driver_wins['Total Races']\n",
    "\n",
    "top_10 = driver_wins.nlargest(23, 'Percentage')\n",
    "\n",
    "plt.barh(top_10['champion_name'], top_10['Percentage'])\n",
    "plt.xlabel('Percentage of Wins in a Season')\n",
    "plt.ylabel('Driver Name')\n",
    "plt.title('Top 10 Drivers with the Highest Percentage of Wins in a Season')\n",
    "plt.show()\n"
   ]
  },
  {
   "cell_type": "code",
   "execution_count": null,
   "metadata": {},
   "outputs": [],
   "source": []
  }
 ],
 "metadata": {
  "kernelspec": {
   "display_name": "Python 3.9.12",
   "language": "python",
   "name": "python3"
  },
  "language_info": {
   "codemirror_mode": {
    "name": "ipython",
    "version": 3
   },
   "file_extension": ".py",
   "mimetype": "text/x-python",
   "name": "python",
   "nbconvert_exporter": "python",
   "pygments_lexer": "ipython3",
   "version": "3.9.12"
  },
  "orig_nbformat": 4,
  "vscode": {
   "interpreter": {
    "hash": "94d160e6a7ce8ef0a8a124748eeed5c2cba7d7b1dc403e771b07c5f6066aed9d"
   }
  }
 },
 "nbformat": 4,
 "nbformat_minor": 2
}
